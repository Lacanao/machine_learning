{
  "cells": [
    {
      "cell_type": "markdown",
      "metadata": {
        "id": "Xja-FkZtNvTj"
      },
      "source": [
        "<a href=\"https://colab.research.google.com/github/institutohumai/cursos-python/blob/master/MachineLearning/2_RegresionLinealMultiple/RegresionLinealMultiple.ipynb\">> <img src='https://colab.research.google.com/assets/colab-badge.svg' /> </a>"
      ]
    },
    {
      "cell_type": "markdown",
      "metadata": {
        "id": "FVwwzYiHdVSZ"
      },
      "source": [
        "# Regresión Lineal Múltiple"
      ]
    },
    {
      "cell_type": "code",
      "execution_count": 1,
      "metadata": {
        "id": "5nYaCa8cdGfV"
      },
      "outputs": [],
      "source": [
        "import pandas as pd\n",
        "import numpy as np\n",
        "import matplotlib.pyplot as plt\n",
        "import seaborn as sns\n",
        "import statsmodels.api as sm\n",
        "\n",
        "# Indicamos que los tipos de datos float se muestren con 2 decimales\n",
        "pd.options.display.float_format = '{:.2f}'.format"
      ]
    },
    {
      "cell_type": "markdown",
      "metadata": {
        "id": "yskrIGpwL5T6"
      },
      "source": [
        "## Dataset propiedades\n",
        "\n",
        "Continuamos en la misma consultora estadística de la clase pasada  y ahora nos contrata una empresa que se dedica a comprar y remodelar propiedades para luego venderlas. En esta oportunidad quiere que realicemos algunos modelos para predecir los precios de las propiedades y además poder entender como influyen en el precio determinadas variables para entender que modificaciones pueden llegar a aumentar el precio.\n",
        "\n",
        "El dataset consiste en los anuncios de ventas de Properati de propiedades en la Ciudad de Buenos Aires durante el primer semestre de 2021. Nuestra variable a predecir es el precio de la propiedad en dolares y las posibles variables predictoras son:\n",
        "\n",
        "*  Superficie Total: superficie total de la propiedad en metros cuadrados\n",
        "*  Superficie Cubierta: superficie cubierta de la propiedad en metros cuadrados\n",
        "*  Ambientes/Cuartos: cantidad de ambientes/cuartos (excluyendo baños)\n",
        "*  Baños: cantidad de baños\n",
        "*  Tipo de propiedad: si la propiedad es una casa, departamento o propiedad horizontal (PH)\n",
        "*  Latitud\n",
        "*  Longitud\n",
        "*  Barrio: barrio donde se encuentra la propiedad (l3)\n",
        "\n",
        "Datos provistos por <a href='https://www.properati.com.ar'>Properati</a>\n",
        "\n",
        "<u>Exploremos un poco los datos:</u>\n"
      ]
    },
    {
      "cell_type": "code",
      "execution_count": 2,
      "metadata": {
        "id": "zoOeKmkZdlPw"
      },
      "outputs": [],
      "source": [
        "# Lectura del dataset\n",
        "df = pd.read_csv('https://datasets-humai.s3.amazonaws.com/datasets/properati_caba_2021.csv')"
      ]
    },
    {
      "cell_type": "code",
      "execution_count": 3,
      "metadata": {
        "id": "bHQkvryvqkRi"
      },
      "outputs": [],
      "source": [
        "# Definimos la semilla\n",
        "SEMILLA = 1992"
      ]
    },
    {
      "cell_type": "markdown",
      "metadata": {
        "id": "rJnHhEVlmZkF"
      },
      "source": [
        "## 1. Analisis exploratorios"
      ]
    },
    {
      "cell_type": "code",
      "execution_count": 4,
      "metadata": {
        "colab": {
          "base_uri": "https://localhost:8080/",
          "height": 206
        },
        "id": "FTNFHB5kf8B-",
        "outputId": "fe26791c-7293-42e2-9121-1608c6be5072"
      },
      "outputs": [
        {
          "output_type": "execute_result",
          "data": {
            "text/plain": [
              "                         id    lat    lon             l3  rooms  bathrooms  \\\n",
              "0  5dmWZ4uqAU4kpJw0AEc/Hw== -34.62 -58.40  San Cristobal   7.00       6.00   \n",
              "1  kFa6ndbLuJ2k2zfzI1fY3A== -34.56 -58.46       Belgrano   1.00       1.00   \n",
              "2  S0fct9jgpfmuqmOaPntC/Q== -34.62 -58.38      Monserrat   1.00       1.00   \n",
              "3  sduUfHxdOh9PuRwJruEcyA== -34.62 -58.38      San Telmo   1.00       1.00   \n",
              "4  Tl1ebIQJyPOXV2XJMEImQg== -34.62 -58.38   Constitución   1.00       1.00   \n",
              "\n",
              "   surface_total  surface_covered     price property_type  \n",
              "0         534.00           384.00 470000.00          Casa  \n",
              "1          25.00            25.00  60000.00  Departamento  \n",
              "2          40.00            40.00  82500.00  Departamento  \n",
              "3          40.00            40.00  82500.00  Departamento  \n",
              "4          40.00            40.00  82500.00  Departamento  "
            ],
            "text/html": [
              "\n",
              "  <div id=\"df-128805fd-2bce-4591-8119-d0313f85c606\">\n",
              "    <div class=\"colab-df-container\">\n",
              "      <div>\n",
              "<style scoped>\n",
              "    .dataframe tbody tr th:only-of-type {\n",
              "        vertical-align: middle;\n",
              "    }\n",
              "\n",
              "    .dataframe tbody tr th {\n",
              "        vertical-align: top;\n",
              "    }\n",
              "\n",
              "    .dataframe thead th {\n",
              "        text-align: right;\n",
              "    }\n",
              "</style>\n",
              "<table border=\"1\" class=\"dataframe\">\n",
              "  <thead>\n",
              "    <tr style=\"text-align: right;\">\n",
              "      <th></th>\n",
              "      <th>id</th>\n",
              "      <th>lat</th>\n",
              "      <th>lon</th>\n",
              "      <th>l3</th>\n",
              "      <th>rooms</th>\n",
              "      <th>bathrooms</th>\n",
              "      <th>surface_total</th>\n",
              "      <th>surface_covered</th>\n",
              "      <th>price</th>\n",
              "      <th>property_type</th>\n",
              "    </tr>\n",
              "  </thead>\n",
              "  <tbody>\n",
              "    <tr>\n",
              "      <th>0</th>\n",
              "      <td>5dmWZ4uqAU4kpJw0AEc/Hw==</td>\n",
              "      <td>-34.62</td>\n",
              "      <td>-58.40</td>\n",
              "      <td>San Cristobal</td>\n",
              "      <td>7.00</td>\n",
              "      <td>6.00</td>\n",
              "      <td>534.00</td>\n",
              "      <td>384.00</td>\n",
              "      <td>470000.00</td>\n",
              "      <td>Casa</td>\n",
              "    </tr>\n",
              "    <tr>\n",
              "      <th>1</th>\n",
              "      <td>kFa6ndbLuJ2k2zfzI1fY3A==</td>\n",
              "      <td>-34.56</td>\n",
              "      <td>-58.46</td>\n",
              "      <td>Belgrano</td>\n",
              "      <td>1.00</td>\n",
              "      <td>1.00</td>\n",
              "      <td>25.00</td>\n",
              "      <td>25.00</td>\n",
              "      <td>60000.00</td>\n",
              "      <td>Departamento</td>\n",
              "    </tr>\n",
              "    <tr>\n",
              "      <th>2</th>\n",
              "      <td>S0fct9jgpfmuqmOaPntC/Q==</td>\n",
              "      <td>-34.62</td>\n",
              "      <td>-58.38</td>\n",
              "      <td>Monserrat</td>\n",
              "      <td>1.00</td>\n",
              "      <td>1.00</td>\n",
              "      <td>40.00</td>\n",
              "      <td>40.00</td>\n",
              "      <td>82500.00</td>\n",
              "      <td>Departamento</td>\n",
              "    </tr>\n",
              "    <tr>\n",
              "      <th>3</th>\n",
              "      <td>sduUfHxdOh9PuRwJruEcyA==</td>\n",
              "      <td>-34.62</td>\n",
              "      <td>-58.38</td>\n",
              "      <td>San Telmo</td>\n",
              "      <td>1.00</td>\n",
              "      <td>1.00</td>\n",
              "      <td>40.00</td>\n",
              "      <td>40.00</td>\n",
              "      <td>82500.00</td>\n",
              "      <td>Departamento</td>\n",
              "    </tr>\n",
              "    <tr>\n",
              "      <th>4</th>\n",
              "      <td>Tl1ebIQJyPOXV2XJMEImQg==</td>\n",
              "      <td>-34.62</td>\n",
              "      <td>-58.38</td>\n",
              "      <td>Constitución</td>\n",
              "      <td>1.00</td>\n",
              "      <td>1.00</td>\n",
              "      <td>40.00</td>\n",
              "      <td>40.00</td>\n",
              "      <td>82500.00</td>\n",
              "      <td>Departamento</td>\n",
              "    </tr>\n",
              "  </tbody>\n",
              "</table>\n",
              "</div>\n",
              "      <button class=\"colab-df-convert\" onclick=\"convertToInteractive('df-128805fd-2bce-4591-8119-d0313f85c606')\"\n",
              "              title=\"Convert this dataframe to an interactive table.\"\n",
              "              style=\"display:none;\">\n",
              "        \n",
              "  <svg xmlns=\"http://www.w3.org/2000/svg\" height=\"24px\"viewBox=\"0 0 24 24\"\n",
              "       width=\"24px\">\n",
              "    <path d=\"M0 0h24v24H0V0z\" fill=\"none\"/>\n",
              "    <path d=\"M18.56 5.44l.94 2.06.94-2.06 2.06-.94-2.06-.94-.94-2.06-.94 2.06-2.06.94zm-11 1L8.5 8.5l.94-2.06 2.06-.94-2.06-.94L8.5 2.5l-.94 2.06-2.06.94zm10 10l.94 2.06.94-2.06 2.06-.94-2.06-.94-.94-2.06-.94 2.06-2.06.94z\"/><path d=\"M17.41 7.96l-1.37-1.37c-.4-.4-.92-.59-1.43-.59-.52 0-1.04.2-1.43.59L10.3 9.45l-7.72 7.72c-.78.78-.78 2.05 0 2.83L4 21.41c.39.39.9.59 1.41.59.51 0 1.02-.2 1.41-.59l7.78-7.78 2.81-2.81c.8-.78.8-2.07 0-2.86zM5.41 20L4 18.59l7.72-7.72 1.47 1.35L5.41 20z\"/>\n",
              "  </svg>\n",
              "      </button>\n",
              "      \n",
              "  <style>\n",
              "    .colab-df-container {\n",
              "      display:flex;\n",
              "      flex-wrap:wrap;\n",
              "      gap: 12px;\n",
              "    }\n",
              "\n",
              "    .colab-df-convert {\n",
              "      background-color: #E8F0FE;\n",
              "      border: none;\n",
              "      border-radius: 50%;\n",
              "      cursor: pointer;\n",
              "      display: none;\n",
              "      fill: #1967D2;\n",
              "      height: 32px;\n",
              "      padding: 0 0 0 0;\n",
              "      width: 32px;\n",
              "    }\n",
              "\n",
              "    .colab-df-convert:hover {\n",
              "      background-color: #E2EBFA;\n",
              "      box-shadow: 0px 1px 2px rgba(60, 64, 67, 0.3), 0px 1px 3px 1px rgba(60, 64, 67, 0.15);\n",
              "      fill: #174EA6;\n",
              "    }\n",
              "\n",
              "    [theme=dark] .colab-df-convert {\n",
              "      background-color: #3B4455;\n",
              "      fill: #D2E3FC;\n",
              "    }\n",
              "\n",
              "    [theme=dark] .colab-df-convert:hover {\n",
              "      background-color: #434B5C;\n",
              "      box-shadow: 0px 1px 3px 1px rgba(0, 0, 0, 0.15);\n",
              "      filter: drop-shadow(0px 1px 2px rgba(0, 0, 0, 0.3));\n",
              "      fill: #FFFFFF;\n",
              "    }\n",
              "  </style>\n",
              "\n",
              "      <script>\n",
              "        const buttonEl =\n",
              "          document.querySelector('#df-128805fd-2bce-4591-8119-d0313f85c606 button.colab-df-convert');\n",
              "        buttonEl.style.display =\n",
              "          google.colab.kernel.accessAllowed ? 'block' : 'none';\n",
              "\n",
              "        async function convertToInteractive(key) {\n",
              "          const element = document.querySelector('#df-128805fd-2bce-4591-8119-d0313f85c606');\n",
              "          const dataTable =\n",
              "            await google.colab.kernel.invokeFunction('convertToInteractive',\n",
              "                                                     [key], {});\n",
              "          if (!dataTable) return;\n",
              "\n",
              "          const docLinkHtml = 'Like what you see? Visit the ' +\n",
              "            '<a target=\"_blank\" href=https://colab.research.google.com/notebooks/data_table.ipynb>data table notebook</a>'\n",
              "            + ' to learn more about interactive tables.';\n",
              "          element.innerHTML = '';\n",
              "          dataTable['output_type'] = 'display_data';\n",
              "          await google.colab.output.renderOutput(dataTable, element);\n",
              "          const docLink = document.createElement('div');\n",
              "          docLink.innerHTML = docLinkHtml;\n",
              "          element.appendChild(docLink);\n",
              "        }\n",
              "      </script>\n",
              "    </div>\n",
              "  </div>\n",
              "  "
            ]
          },
          "metadata": {},
          "execution_count": 4
        }
      ],
      "source": [
        "# Observamos los primeros registros del dataframe\n",
        "df.head()"
      ]
    },
    {
      "cell_type": "code",
      "execution_count": 5,
      "metadata": {
        "colab": {
          "base_uri": "https://localhost:8080/",
          "height": 325
        },
        "id": "1I2ZtMQef9vj",
        "outputId": "1a16dc68-fd83-48d7-c173-6971429770be"
      },
      "outputs": [
        {
          "output_type": "stream",
          "name": "stderr",
          "text": [
            "<ipython-input-5-52de5c4302be>:2: FutureWarning: The default value of numeric_only in DataFrame.corr is deprecated. In a future version, it will default to False. Select only valid columns or specify the value of numeric_only to silence this warning.\n",
            "  df.corr()\n"
          ]
        },
        {
          "output_type": "execute_result",
          "data": {
            "text/plain": [
              "                  lat   lon  rooms  bathrooms  surface_total  surface_covered  \\\n",
              "lat              1.00 -0.14  -0.01       0.10           0.02             0.04   \n",
              "lon             -0.14  1.00   0.05       0.08           0.05             0.09   \n",
              "rooms           -0.01  0.05   1.00       0.62           0.74             0.75   \n",
              "bathrooms        0.10  0.08   0.62       1.00           0.74             0.75   \n",
              "surface_total    0.02  0.05   0.74       0.74           1.00             0.97   \n",
              "surface_covered  0.04  0.09   0.75       0.75           0.97             1.00   \n",
              "price            0.15  0.18   0.49       0.67           0.72             0.76   \n",
              "\n",
              "                 price  \n",
              "lat               0.15  \n",
              "lon               0.18  \n",
              "rooms             0.49  \n",
              "bathrooms         0.67  \n",
              "surface_total     0.72  \n",
              "surface_covered   0.76  \n",
              "price             1.00  "
            ],
            "text/html": [
              "\n",
              "  <div id=\"df-30176d40-32d1-455c-8f45-eaa909c67fe7\">\n",
              "    <div class=\"colab-df-container\">\n",
              "      <div>\n",
              "<style scoped>\n",
              "    .dataframe tbody tr th:only-of-type {\n",
              "        vertical-align: middle;\n",
              "    }\n",
              "\n",
              "    .dataframe tbody tr th {\n",
              "        vertical-align: top;\n",
              "    }\n",
              "\n",
              "    .dataframe thead th {\n",
              "        text-align: right;\n",
              "    }\n",
              "</style>\n",
              "<table border=\"1\" class=\"dataframe\">\n",
              "  <thead>\n",
              "    <tr style=\"text-align: right;\">\n",
              "      <th></th>\n",
              "      <th>lat</th>\n",
              "      <th>lon</th>\n",
              "      <th>rooms</th>\n",
              "      <th>bathrooms</th>\n",
              "      <th>surface_total</th>\n",
              "      <th>surface_covered</th>\n",
              "      <th>price</th>\n",
              "    </tr>\n",
              "  </thead>\n",
              "  <tbody>\n",
              "    <tr>\n",
              "      <th>lat</th>\n",
              "      <td>1.00</td>\n",
              "      <td>-0.14</td>\n",
              "      <td>-0.01</td>\n",
              "      <td>0.10</td>\n",
              "      <td>0.02</td>\n",
              "      <td>0.04</td>\n",
              "      <td>0.15</td>\n",
              "    </tr>\n",
              "    <tr>\n",
              "      <th>lon</th>\n",
              "      <td>-0.14</td>\n",
              "      <td>1.00</td>\n",
              "      <td>0.05</td>\n",
              "      <td>0.08</td>\n",
              "      <td>0.05</td>\n",
              "      <td>0.09</td>\n",
              "      <td>0.18</td>\n",
              "    </tr>\n",
              "    <tr>\n",
              "      <th>rooms</th>\n",
              "      <td>-0.01</td>\n",
              "      <td>0.05</td>\n",
              "      <td>1.00</td>\n",
              "      <td>0.62</td>\n",
              "      <td>0.74</td>\n",
              "      <td>0.75</td>\n",
              "      <td>0.49</td>\n",
              "    </tr>\n",
              "    <tr>\n",
              "      <th>bathrooms</th>\n",
              "      <td>0.10</td>\n",
              "      <td>0.08</td>\n",
              "      <td>0.62</td>\n",
              "      <td>1.00</td>\n",
              "      <td>0.74</td>\n",
              "      <td>0.75</td>\n",
              "      <td>0.67</td>\n",
              "    </tr>\n",
              "    <tr>\n",
              "      <th>surface_total</th>\n",
              "      <td>0.02</td>\n",
              "      <td>0.05</td>\n",
              "      <td>0.74</td>\n",
              "      <td>0.74</td>\n",
              "      <td>1.00</td>\n",
              "      <td>0.97</td>\n",
              "      <td>0.72</td>\n",
              "    </tr>\n",
              "    <tr>\n",
              "      <th>surface_covered</th>\n",
              "      <td>0.04</td>\n",
              "      <td>0.09</td>\n",
              "      <td>0.75</td>\n",
              "      <td>0.75</td>\n",
              "      <td>0.97</td>\n",
              "      <td>1.00</td>\n",
              "      <td>0.76</td>\n",
              "    </tr>\n",
              "    <tr>\n",
              "      <th>price</th>\n",
              "      <td>0.15</td>\n",
              "      <td>0.18</td>\n",
              "      <td>0.49</td>\n",
              "      <td>0.67</td>\n",
              "      <td>0.72</td>\n",
              "      <td>0.76</td>\n",
              "      <td>1.00</td>\n",
              "    </tr>\n",
              "  </tbody>\n",
              "</table>\n",
              "</div>\n",
              "      <button class=\"colab-df-convert\" onclick=\"convertToInteractive('df-30176d40-32d1-455c-8f45-eaa909c67fe7')\"\n",
              "              title=\"Convert this dataframe to an interactive table.\"\n",
              "              style=\"display:none;\">\n",
              "        \n",
              "  <svg xmlns=\"http://www.w3.org/2000/svg\" height=\"24px\"viewBox=\"0 0 24 24\"\n",
              "       width=\"24px\">\n",
              "    <path d=\"M0 0h24v24H0V0z\" fill=\"none\"/>\n",
              "    <path d=\"M18.56 5.44l.94 2.06.94-2.06 2.06-.94-2.06-.94-.94-2.06-.94 2.06-2.06.94zm-11 1L8.5 8.5l.94-2.06 2.06-.94-2.06-.94L8.5 2.5l-.94 2.06-2.06.94zm10 10l.94 2.06.94-2.06 2.06-.94-2.06-.94-.94-2.06-.94 2.06-2.06.94z\"/><path d=\"M17.41 7.96l-1.37-1.37c-.4-.4-.92-.59-1.43-.59-.52 0-1.04.2-1.43.59L10.3 9.45l-7.72 7.72c-.78.78-.78 2.05 0 2.83L4 21.41c.39.39.9.59 1.41.59.51 0 1.02-.2 1.41-.59l7.78-7.78 2.81-2.81c.8-.78.8-2.07 0-2.86zM5.41 20L4 18.59l7.72-7.72 1.47 1.35L5.41 20z\"/>\n",
              "  </svg>\n",
              "      </button>\n",
              "      \n",
              "  <style>\n",
              "    .colab-df-container {\n",
              "      display:flex;\n",
              "      flex-wrap:wrap;\n",
              "      gap: 12px;\n",
              "    }\n",
              "\n",
              "    .colab-df-convert {\n",
              "      background-color: #E8F0FE;\n",
              "      border: none;\n",
              "      border-radius: 50%;\n",
              "      cursor: pointer;\n",
              "      display: none;\n",
              "      fill: #1967D2;\n",
              "      height: 32px;\n",
              "      padding: 0 0 0 0;\n",
              "      width: 32px;\n",
              "    }\n",
              "\n",
              "    .colab-df-convert:hover {\n",
              "      background-color: #E2EBFA;\n",
              "      box-shadow: 0px 1px 2px rgba(60, 64, 67, 0.3), 0px 1px 3px 1px rgba(60, 64, 67, 0.15);\n",
              "      fill: #174EA6;\n",
              "    }\n",
              "\n",
              "    [theme=dark] .colab-df-convert {\n",
              "      background-color: #3B4455;\n",
              "      fill: #D2E3FC;\n",
              "    }\n",
              "\n",
              "    [theme=dark] .colab-df-convert:hover {\n",
              "      background-color: #434B5C;\n",
              "      box-shadow: 0px 1px 3px 1px rgba(0, 0, 0, 0.15);\n",
              "      filter: drop-shadow(0px 1px 2px rgba(0, 0, 0, 0.3));\n",
              "      fill: #FFFFFF;\n",
              "    }\n",
              "  </style>\n",
              "\n",
              "      <script>\n",
              "        const buttonEl =\n",
              "          document.querySelector('#df-30176d40-32d1-455c-8f45-eaa909c67fe7 button.colab-df-convert');\n",
              "        buttonEl.style.display =\n",
              "          google.colab.kernel.accessAllowed ? 'block' : 'none';\n",
              "\n",
              "        async function convertToInteractive(key) {\n",
              "          const element = document.querySelector('#df-30176d40-32d1-455c-8f45-eaa909c67fe7');\n",
              "          const dataTable =\n",
              "            await google.colab.kernel.invokeFunction('convertToInteractive',\n",
              "                                                     [key], {});\n",
              "          if (!dataTable) return;\n",
              "\n",
              "          const docLinkHtml = 'Like what you see? Visit the ' +\n",
              "            '<a target=\"_blank\" href=https://colab.research.google.com/notebooks/data_table.ipynb>data table notebook</a>'\n",
              "            + ' to learn more about interactive tables.';\n",
              "          element.innerHTML = '';\n",
              "          dataTable['output_type'] = 'display_data';\n",
              "          await google.colab.output.renderOutput(dataTable, element);\n",
              "          const docLink = document.createElement('div');\n",
              "          docLink.innerHTML = docLinkHtml;\n",
              "          element.appendChild(docLink);\n",
              "        }\n",
              "      </script>\n",
              "    </div>\n",
              "  </div>\n",
              "  "
            ]
          },
          "metadata": {},
          "execution_count": 5
        }
      ],
      "source": [
        "# Observamos la matriz de correlación entre las variables numéricas\n",
        "df.corr()"
      ]
    },
    {
      "cell_type": "markdown",
      "metadata": {
        "id": "z4V5A7M8St67"
      },
      "source": [
        "Observamos que las variables de **superficie** presentan una correlación positiva alta con el precio y una correlación muy fuerte entre sí.\n",
        "\n",
        "La variable de **baños** presenta una correlación positiva bastante alta seguida por la variable de **ambientes**.\n",
        "\n",
        "Por último, las variables de latitud y longitud presentan un correlación positiva baja con el precio.\n",
        "\n",
        "Observemos los gráficos de dispersión de algunas de estas variables con el precio"
      ]
    },
    {
      "cell_type": "code",
      "execution_count": 6,
      "metadata": {
        "colab": {
          "base_uri": "https://localhost:8080/",
          "height": 480
        },
        "id": "8rMnbZ_hPLhY",
        "outputId": "8384e250-df66-4b0c-bff3-92a0e93e5433"
      },
      "outputs": [
        {
          "output_type": "display_data",
          "data": {
            "text/plain": [
              "<Figure size 2000x500 with 4 Axes>"
            ],
            "image/png": "[encoded data removed]"
          },
          "metadata": {}
        }
      ],
      "source": [
        "# Graficamos algunas de estas relaciones con el precio\n",
        "fig, (ax1, ax2, ax3, ax4) = plt.subplots(nrows=1, ncols=4, figsize=(20, 5))\n",
        "df.plot.scatter(x='surface_total', y='price', ax=ax1)\n",
        "df.plot.scatter(x='rooms', y='price', ax=ax2)\n",
        "df.plot.scatter(x='bathrooms', y='price', ax=ax3)\n",
        "df.plot.scatter(x='lon', y='price', ax=ax4);"
      ]
    },
    {
      "cell_type": "markdown",
      "metadata": {
        "id": "-47Aa6g6UICm"
      },
      "source": [
        "Observamos que de estas 4 variables la que parece tener una relación aproximadamente lineal con el precio es la **superficie total**.\n",
        "\n",
        "Por otro lado, vemos que existen algunas observaciones que son **outliers** (valores atípicos) en las variables. Por ejemplo: hay propiedades con 30 y 35 ambientes y algunas 10 baños o más\n",
        "\n",
        "Ahora que ya conocemos un poco sobre los datos podemos proceder a diseñar e implementar algunos modelos para estimar el precio de las propiedades\n"
      ]
    },
    {
      "cell_type": "markdown",
      "metadata": {
        "id": "yFVTVf-vSpBx"
      },
      "source": [
        "## 2. Modelos: Estimación e interpretación\n",
        "\n",
        "Vamos a desarrollar modelos de regresión lineal múltiple con la siguiente especificación:\n",
        "\n",
        "$E(Y|X_1, X_2, ..., X_p) = \\beta_0 + \\beta_1 \\cdot X_1 + \\beta_2  \\cdot X_2 + ... + \\beta_p \\cdot X_p $\n",
        "\n",
        "En esta sección desarrollaremos distintos modelos con las variables numéricas que vimos previamente y observaremos los coeficientes estimados y su interpretación"
      ]
    },
    {
      "cell_type": "markdown",
      "metadata": {
        "id": "gyH1OnsIW_qu"
      },
      "source": [
        "### 2.1 Preparación de los datos\n",
        "\n",
        "Como se vio en la clase previa, para evaluar los modelos que diseñemos es necesario separar a los datos en:\n",
        "\n",
        "*   Conjunto de **entrenamiento**: datos con los cuales vamos a entrenar los modelos\n",
        "*   Conjunto de **evaluación**: datos con los cuales vamos a evaluar la performance del modelo\n",
        "\n",
        "Esto lo vamos a realizar con la función [train_test_split](https://scikit-learn.org/stable/modules/generated/sklearn.model_selection.train_test_split.html). Le pasamos como argumentos el set de datos de variables predictoras, la serie de la variable a predecir y el porcentaje de datos que deseamos que forme nuestro set de evaluación.\n",
        "\n"
      ]
    },
    {
      "cell_type": "code",
      "execution_count": 7,
      "metadata": {
        "id": "-oCQdqxyG9oS"
      },
      "outputs": [],
      "source": [
        "# Separamos al dataset en X (variables predictoras) e y (variable a predecir)\n",
        "X = df[['lat', 'lon', 'rooms', 'bathrooms', 'surface_total', 'surface_covered', 'property_type']]\n",
        "y = df['price']"
      ]
    },
    {
      "cell_type": "code",
      "execution_count": 8,
      "metadata": {
        "id": "SZyPj1n8G3tR"
      },
      "outputs": [],
      "source": [
        "from sklearn.model_selection import train_test_split\n",
        "# Realizamos el split de X e y en los sets de entrenamiento (train) y test\n",
        "X_train, X_test, y_train, y_test = train_test_split(X, y, test_size=0.20, random_state=SEMILLA)"
      ]
    },
    {
      "cell_type": "code",
      "execution_count": 9,
      "metadata": {
        "colab": {
          "base_uri": "https://localhost:8080/"
        },
        "id": "YzdkHY0JL--R",
        "outputId": "5aed1c61-6ee4-46d1-f9a7-daa13cac9cce"
      },
      "outputs": [
        {
          "output_type": "stream",
          "name": "stdout",
          "text": [
            "El dataset de entrenamiento cuenta con 32124 observaciones\n",
            "El dataset de evaluación cuenta con 8032 observaciones\n"
          ]
        }
      ],
      "source": [
        "print(f\"El dataset de entrenamiento cuenta con {len(X_train)} observaciones\")\n",
        "print(f\"El dataset de evaluación cuenta con {len(X_test)} observaciones\")"
      ]
    },
    {
      "cell_type": "markdown",
      "metadata": {
        "id": "Mc71NGqxBZWc"
      },
      "source": [
        "### 2.2 Modelo Superficie y Baños\n",
        "\n",
        "Por lo que vimos en nuestro análisis de datos las variables de **superficie total** y **baños** presentan un correlación positiva bastante alta con el precio. Entonces, comencemos con un modelo que incluya ambas variables como predictoras:\n",
        "\n",
        "$E(precio|.) = \\beta_0 + \\beta_1 \\cdot superficieTotal + \\beta_2 \\cdot baños$"
      ]
    },
    {
      "cell_type": "code",
      "execution_count": 10,
      "metadata": {
        "id": "ojkV0iscnGrD"
      },
      "outputs": [],
      "source": [
        "# Definimos las variables exogenas (predictores)\n",
        "variables_exogenas = ['surface_total', 'bathrooms']"
      ]
    },
    {
      "cell_type": "code",
      "execution_count": 11,
      "metadata": {
        "colab": {
          "base_uri": "https://localhost:8080/",
          "height": 206
        },
        "id": "3bdsztc6vfci",
        "outputId": "bacd17d3-4019-4d07-a37b-c94f6bf4915b"
      },
      "outputs": [
        {
          "output_type": "execute_result",
          "data": {
            "text/plain": [
              "       surface_total  bathrooms\n",
              "36377          63.00       1.00\n",
              "8124           42.00       1.00\n",
              "34075         160.00       1.00\n",
              "28781         126.00       2.00\n",
              "4876           32.00       1.00"
            ],
            "text/html": [
              "\n",
              "  <div id=\"df-66738381-5199-47ea-acb9-55d2c40fd305\">\n",
              "    <div class=\"colab-df-container\">\n",
              "      <div>\n",
              "<style scoped>\n",
              "    .dataframe tbody tr th:only-of-type {\n",
              "        vertical-align: middle;\n",
              "    }\n",
              "\n",
              "    .dataframe tbody tr th {\n",
              "        vertical-align: top;\n",
              "    }\n",
              "\n",
              "    .dataframe thead th {\n",
              "        text-align: right;\n",
              "    }\n",
              "</style>\n",
              "<table border=\"1\" class=\"dataframe\">\n",
              "  <thead>\n",
              "    <tr style=\"text-align: right;\">\n",
              "      <th></th>\n",
              "      <th>surface_total</th>\n",
              "      <th>bathrooms</th>\n",
              "    </tr>\n",
              "  </thead>\n",
              "  <tbody>\n",
              "    <tr>\n",
              "      <th>36377</th>\n",
              "      <td>63.00</td>\n",
              "      <td>1.00</td>\n",
              "    </tr>\n",
              "    <tr>\n",
              "      <th>8124</th>\n",
              "      <td>42.00</td>\n",
              "      <td>1.00</td>\n",
              "    </tr>\n",
              "    <tr>\n",
              "      <th>34075</th>\n",
              "      <td>160.00</td>\n",
              "      <td>1.00</td>\n",
              "    </tr>\n",
              "    <tr>\n",
              "      <th>28781</th>\n",
              "      <td>126.00</td>\n",
              "      <td>2.00</td>\n",
              "    </tr>\n",
              "    <tr>\n",
              "      <th>4876</th>\n",
              "      <td>32.00</td>\n",
              "      <td>1.00</td>\n",
              "    </tr>\n",
              "  </tbody>\n",
              "</table>\n",
              "</div>\n",
              "      <button class=\"colab-df-convert\" onclick=\"convertToInteractive('df-66738381-5199-47ea-acb9-55d2c40fd305')\"\n",
              "              title=\"Convert this dataframe to an interactive table.\"\n",
              "              style=\"display:none;\">\n",
              "        \n",
              "  <svg xmlns=\"http://www.w3.org/2000/svg\" height=\"24px\"viewBox=\"0 0 24 24\"\n",
              "       width=\"24px\">\n",
              "    <path d=\"M0 0h24v24H0V0z\" fill=\"none\"/>\n",
              "    <path d=\"M18.56 5.44l.94 2.06.94-2.06 2.06-.94-2.06-.94-.94-2.06-.94 2.06-2.06.94zm-11 1L8.5 8.5l.94-2.06 2.06-.94-2.06-.94L8.5 2.5l-.94 2.06-2.06.94zm10 10l.94 2.06.94-2.06 2.06-.94-2.06-.94-.94-2.06-.94 2.06-2.06.94z\"/><path d=\"M17.41 7.96l-1.37-1.37c-.4-.4-.92-.59-1.43-.59-.52 0-1.04.2-1.43.59L10.3 9.45l-7.72 7.72c-.78.78-.78 2.05 0 2.83L4 21.41c.39.39.9.59 1.41.59.51 0 1.02-.2 1.41-.59l7.78-7.78 2.81-2.81c.8-.78.8-2.07 0-2.86zM5.41 20L4 18.59l7.72-7.72 1.47 1.35L5.41 20z\"/>\n",
              "  </svg>\n",
              "      </button>\n",
              "      \n",
              "  <style>\n",
              "    .colab-df-container {\n",
              "      display:flex;\n",
              "      flex-wrap:wrap;\n",
              "      gap: 12px;\n",
              "    }\n",
              "\n",
              "    .colab-df-convert {\n",
              "      background-color: #E8F0FE;\n",
              "      border: none;\n",
              "      border-radius: 50%;\n",
              "      cursor: pointer;\n",
              "      display: none;\n",
              "      fill: #1967D2;\n",
              "      height: 32px;\n",
              "      padding: 0 0 0 0;\n",
              "      width: 32px;\n",
              "    }\n",
              "\n",
              "    .colab-df-convert:hover {\n",
              "      background-color: #E2EBFA;\n",
              "      box-shadow: 0px 1px 2px rgba(60, 64, 67, 0.3), 0px 1px 3px 1px rgba(60, 64, 67, 0.15);\n",
              "      fill: #174EA6;\n",
              "    }\n",
              "\n",
              "    [theme=dark] .colab-df-convert {\n",
              "      background-color: #3B4455;\n",
              "      fill: #D2E3FC;\n",
              "    }\n",
              "\n",
              "    [theme=dark] .colab-df-convert:hover {\n",
              "      background-color: #434B5C;\n",
              "      box-shadow: 0px 1px 3px 1px rgba(0, 0, 0, 0.15);\n",
              "      filter: drop-shadow(0px 1px 2px rgba(0, 0, 0, 0.3));\n",
              "      fill: #FFFFFF;\n",
              "    }\n",
              "  </style>\n",
              "\n",
              "      <script>\n",
              "        const buttonEl =\n",
              "          document.querySelector('#df-66738381-5199-47ea-acb9-55d2c40fd305 button.colab-df-convert');\n",
              "        buttonEl.style.display =\n",
              "          google.colab.kernel.accessAllowed ? 'block' : 'none';\n",
              "\n",
              "        async function convertToInteractive(key) {\n",
              "          const element = document.querySelector('#df-66738381-5199-47ea-acb9-55d2c40fd305');\n",
              "          const dataTable =\n",
              "            await google.colab.kernel.invokeFunction('convertToInteractive',\n",
              "                                                     [key], {});\n",
              "          if (!dataTable) return;\n",
              "\n",
              "          const docLinkHtml = 'Like what you see? Visit the ' +\n",
              "            '<a target=\"_blank\" href=https://colab.research.google.com/notebooks/data_table.ipynb>data table notebook</a>'\n",
              "            + ' to learn more about interactive tables.';\n",
              "          element.innerHTML = '';\n",
              "          dataTable['output_type'] = 'display_data';\n",
              "          await google.colab.output.renderOutput(dataTable, element);\n",
              "          const docLink = document.createElement('div');\n",
              "          docLink.innerHTML = docLinkHtml;\n",
              "          element.appendChild(docLink);\n",
              "        }\n",
              "      </script>\n",
              "    </div>\n",
              "  </div>\n",
              "  "
            ]
          },
          "metadata": {},
          "execution_count": 11
        }
      ],
      "source": [
        "# Construimos la matriz de X\n",
        "X_train_modelo_sup_baños = X_train[variables_exogenas]\n",
        "X_train_modelo_sup_baños.head()"
      ]
    },
    {
      "cell_type": "code",
      "execution_count": 12,
      "metadata": {
        "id": "HJ5GH484aROm"
      },
      "outputs": [],
      "source": [
        "# Importamos el modelo lineal\n",
        "from sklearn.linear_model import LinearRegression"
      ]
    },
    {
      "cell_type": "code",
      "execution_count": 13,
      "metadata": {
        "id": "CX2foO_Pvv_E"
      },
      "outputs": [],
      "source": [
        "# Definimos una instancia del modelo lineal con scikit learn\n",
        "modelo_lineal_sup_baños = LinearRegression(fit_intercept=True)"
      ]
    },
    {
      "cell_type": "code",
      "execution_count": 14,
      "metadata": {
        "colab": {
          "base_uri": "https://localhost:8080/",
          "height": 74
        },
        "id": "eP0O-Di4w13t",
        "outputId": "c9d1e2c1-8e58-4301-f112-54e15632f22f"
      },
      "outputs": [
        {
          "output_type": "execute_result",
          "data": {
            "text/plain": [
              "LinearRegression()"
            ],
            "text/html": [
              "<style>#sk-container-id-1 {color: black;background-color: white;}#sk-container-id-1 pre{padding: 0;}#sk-container-id-1 div.sk-toggleable {background-color: white;}#sk-container-id-1 label.sk-toggleable__label {cursor: pointer;display: block;width: 100%;margin-bottom: 0;padding: 0.3em;box-sizing: border-box;text-align: center;}#sk-container-id-1 label.sk-toggleable__label-arrow:before {content: \"▸\";float: left;margin-right: 0.25em;color: #696969;}#sk-container-id-1 label.sk-toggleable__label-arrow:hover:before {color: black;}#sk-container-id-1 div.sk-estimator:hover label.sk-toggleable__label-arrow:before {color: black;}#sk-container-id-1 div.sk-toggleable__content {max-height: 0;max-width: 0;overflow: hidden;text-align: left;background-color: #f0f8ff;}#sk-container-id-1 div.sk-toggleable__content pre {margin: 0.2em;color: black;border-radius: 0.25em;background-color: #f0f8ff;}#sk-container-id-1 input.sk-toggleable__control:checked~div.sk-toggleable__content {max-height: 200px;max-width: 100%;overflow: auto;}#sk-container-id-1 input.sk-toggleable__control:checked~label.sk-toggleable__label-arrow:before {content: \"▾\";}#sk-container-id-1 div.sk-estimator input.sk-toggleable__control:checked~label.sk-toggleable__label {background-color: #d4ebff;}#sk-container-id-1 div.sk-label input.sk-toggleable__control:checked~label.sk-toggleable__label {background-color: #d4ebff;}#sk-container-id-1 input.sk-hidden--visually {border: 0;clip: rect(1px 1px 1px 1px);clip: rect(1px, 1px, 1px, 1px);height: 1px;margin: -1px;overflow: hidden;padding: 0;position: absolute;width: 1px;}#sk-container-id-1 div.sk-estimator {font-family: monospace;background-color: #f0f8ff;border: 1px dotted black;border-radius: 0.25em;box-sizing: border-box;margin-bottom: 0.5em;}#sk-container-id-1 div.sk-estimator:hover {background-color: #d4ebff;}#sk-container-id-1 div.sk-parallel-item::after {content: \"\";width: 100%;border-bottom: 1px solid gray;flex-grow: 1;}#sk-container-id-1 div.sk-label:hover label.sk-toggleable__label {background-color: #d4ebff;}#sk-container-id-1 div.sk-serial::before {content: \"\";position: absolute;border-left: 1px solid gray;box-sizing: border-box;top: 0;bottom: 0;left: 50%;z-index: 0;}#sk-container-id-1 div.sk-serial {display: flex;flex-direction: column;align-items: center;background-color: white;padding-right: 0.2em;padding-left: 0.2em;position: relative;}#sk-container-id-1 div.sk-item {position: relative;z-index: 1;}#sk-container-id-1 div.sk-parallel {display: flex;align-items: stretch;justify-content: center;background-color: white;position: relative;}#sk-container-id-1 div.sk-item::before, #sk-container-id-1 div.sk-parallel-item::before {content: \"\";position: absolute;border-left: 1px solid gray;box-sizing: border-box;top: 0;bottom: 0;left: 50%;z-index: -1;}#sk-container-id-1 div.sk-parallel-item {display: flex;flex-direction: column;z-index: 1;position: relative;background-color: white;}#sk-container-id-1 div.sk-parallel-item:first-child::after {align-self: flex-end;width: 50%;}#sk-container-id-1 div.sk-parallel-item:last-child::after {align-self: flex-start;width: 50%;}#sk-container-id-1 div.sk-parallel-item:only-child::after {width: 0;}#sk-container-id-1 div.sk-dashed-wrapped {border: 1px dashed gray;margin: 0 0.4em 0.5em 0.4em;box-sizing: border-box;padding-bottom: 0.4em;background-color: white;}#sk-container-id-1 div.sk-label label {font-family: monospace;font-weight: bold;display: inline-block;line-height: 1.2em;}#sk-container-id-1 div.sk-label-container {text-align: center;}#sk-container-id-1 div.sk-container {/* jupyter's `normalize.less` sets `[hidden] { display: none; }` but bootstrap.min.css set `[hidden] { display: none !important; }` so we also need the `!important` here to be able to override the default hidden behavior on the sphinx rendered scikit-learn.org. See: https://github.com/scikit-learn/scikit-learn/issues/21755 */display: inline-block !important;position: relative;}#sk-container-id-1 div.sk-text-repr-fallback {display: none;}</style><div id=\"sk-container-id-1\" class=\"sk-top-container\"><div class=\"sk-text-repr-fallback\"><pre>LinearRegression()</pre><b>In a Jupyter environment, please rerun this cell to show the HTML representation or trust the notebook. <br />On GitHub, the HTML representation is unable to render, please try loading this page with nbviewer.org.</b></div><div class=\"sk-container\" hidden><div class=\"sk-item\"><div class=\"sk-estimator sk-toggleable\"><input class=\"sk-toggleable__control sk-hidden--visually\" id=\"sk-estimator-id-1\" type=\"checkbox\" checked><label for=\"sk-estimator-id-1\" class=\"sk-toggleable__label sk-toggleable__label-arrow\">LinearRegression</label><div class=\"sk-toggleable__content\"><pre>LinearRegression()</pre></div></div></div></div></div>"
            ]
          },
          "metadata": {},
          "execution_count": 14
        }
      ],
      "source": [
        "# Realizamos el proceso de estimación\n",
        "modelo_lineal_sup_baños.fit(X_train_modelo_sup_baños, y_train)"
      ]
    },
    {
      "cell_type": "code",
      "execution_count": 15,
      "metadata": {
        "colab": {
          "base_uri": "https://localhost:8080/"
        },
        "id": "WRUzfZC9w50V",
        "outputId": "8adb2e13-17e5-4cb3-ed41-b28b8994bcb3"
      },
      "outputs": [
        {
          "output_type": "execute_result",
          "data": {
            "text/plain": [
              "array([  2069.77563582, 113359.64561445])"
            ]
          },
          "metadata": {},
          "execution_count": 15
        }
      ],
      "source": [
        "# Accedemos a los coeficientes estimados\n",
        "modelo_lineal_sup_baños.coef_"
      ]
    },
    {
      "cell_type": "code",
      "execution_count": 16,
      "metadata": {
        "colab": {
          "base_uri": "https://localhost:8080/"
        },
        "id": "lHsMtMGlDcJU",
        "outputId": "da6ac7cc-e50a-43b2-c909-470ffa55d8da"
      },
      "outputs": [
        {
          "output_type": "execute_result",
          "data": {
            "text/plain": [
              "-107213.65573087399"
            ]
          },
          "metadata": {},
          "execution_count": 16
        }
      ],
      "source": [
        "# Accedemos al intercepto\n",
        "modelo_lineal_sup_baños.intercept_"
      ]
    },
    {
      "cell_type": "code",
      "execution_count": 17,
      "metadata": {
        "id": "5zwA_htzw8mY"
      },
      "outputs": [],
      "source": [
        "# Creamos variables para guardar los coeficientes estimados\n",
        "coeficientes = modelo_lineal_sup_baños.coef_\n",
        "intercepto = modelo_lineal_sup_baños.intercept_\n",
        "beta_1, beta_2 = coeficientes[0], coeficientes[1]"
      ]
    },
    {
      "cell_type": "code",
      "execution_count": 18,
      "metadata": {
        "colab": {
          "base_uri": "https://localhost:8080/"
        },
        "id": "9YPaA_dMGd8M",
        "outputId": "35b191c6-a11b-4d20-cfb5-93c240ae7492"
      },
      "outputs": [
        {
          "output_type": "stream",
          "name": "stdout",
          "text": [
            "El intercepto es -107213.66\n",
            "El coeficiente estimado para Beta 1 es 2069.78\n",
            "El coeficiente estimado para Beta 2 es 113359.65\n"
          ]
        }
      ],
      "source": [
        "print(f\"El intercepto es {intercepto:.2f}\")\n",
        "print(f\"El coeficiente estimado para Beta 1 es {beta_1:.2f}\")\n",
        "print(f\"El coeficiente estimado para Beta 2 es {beta_2:.2f}\")"
      ]
    },
    {
      "cell_type": "code",
      "execution_count": 19,
      "metadata": {
        "id": "0IG4C1tbbABX"
      },
      "outputs": [],
      "source": [
        "# Definimos una función para obtener los coeficientes en un dataframe\n",
        "def obtener_coeficientes(modelo, lista_variables):\n",
        "  '''Crea un dataframe con los coeficientes estimados de un modelo'''\n",
        "  # Creo la lista de nombres de variables\n",
        "  lista_variables = ['intercepto'] + lista_variables\n",
        "  # Intercepto\n",
        "  intercepto = modelo.intercept_\n",
        "  # Lista coeficientes excepto el intercepto\n",
        "  coeficientes = list(modelo.coef_)\n",
        "  # Lista completa coeficientes\n",
        "  lista_coeficientes = [intercepto] + coeficientes\n",
        "  return pd.DataFrame({\"variable\": lista_variables, \"coeficiente\": lista_coeficientes})"
      ]
    },
    {
      "cell_type": "code",
      "execution_count": 20,
      "metadata": {
        "colab": {
          "base_uri": "https://localhost:8080/",
          "height": 143
        },
        "id": "5av6Nk2AdvO9",
        "outputId": "4ad196e1-2a6b-4c68-aea8-1d9f7490d109"
      },
      "outputs": [
        {
          "output_type": "execute_result",
          "data": {
            "text/plain": [
              "        variable  coeficiente\n",
              "0     intercepto   -107213.66\n",
              "1  surface_total      2069.78\n",
              "2      bathrooms    113359.65"
            ],
            "text/html": [
              "\n",
              "  <div id=\"df-542cf67c-9d2f-4158-a606-f34c3086a443\">\n",
              "    <div class=\"colab-df-container\">\n",
              "      <div>\n",
              "<style scoped>\n",
              "    .dataframe tbody tr th:only-of-type {\n",
              "        vertical-align: middle;\n",
              "    }\n",
              "\n",
              "    .dataframe tbody tr th {\n",
              "        vertical-align: top;\n",
              "    }\n",
              "\n",
              "    .dataframe thead th {\n",
              "        text-align: right;\n",
              "    }\n",
              "</style>\n",
              "<table border=\"1\" class=\"dataframe\">\n",
              "  <thead>\n",
              "    <tr style=\"text-align: right;\">\n",
              "      <th></th>\n",
              "      <th>variable</th>\n",
              "      <th>coeficiente</th>\n",
              "    </tr>\n",
              "  </thead>\n",
              "  <tbody>\n",
              "    <tr>\n",
              "      <th>0</th>\n",
              "      <td>intercepto</td>\n",
              "      <td>-107213.66</td>\n",
              "    </tr>\n",
              "    <tr>\n",
              "      <th>1</th>\n",
              "      <td>surface_total</td>\n",
              "      <td>2069.78</td>\n",
              "    </tr>\n",
              "    <tr>\n",
              "      <th>2</th>\n",
              "      <td>bathrooms</td>\n",
              "      <td>113359.65</td>\n",
              "    </tr>\n",
              "  </tbody>\n",
              "</table>\n",
              "</div>\n",
              "      <button class=\"colab-df-convert\" onclick=\"convertToInteractive('df-542cf67c-9d2f-4158-a606-f34c3086a443')\"\n",
              "              title=\"Convert this dataframe to an interactive table.\"\n",
              "              style=\"display:none;\">\n",
              "        \n",
              "  <svg xmlns=\"http://www.w3.org/2000/svg\" height=\"24px\"viewBox=\"0 0 24 24\"\n",
              "       width=\"24px\">\n",
              "    <path d=\"M0 0h24v24H0V0z\" fill=\"none\"/>\n",
              "    <path d=\"M18.56 5.44l.94 2.06.94-2.06 2.06-.94-2.06-.94-.94-2.06-.94 2.06-2.06.94zm-11 1L8.5 8.5l.94-2.06 2.06-.94-2.06-.94L8.5 2.5l-.94 2.06-2.06.94zm10 10l.94 2.06.94-2.06 2.06-.94-2.06-.94-.94-2.06-.94 2.06-2.06.94z\"/><path d=\"M17.41 7.96l-1.37-1.37c-.4-.4-.92-.59-1.43-.59-.52 0-1.04.2-1.43.59L10.3 9.45l-7.72 7.72c-.78.78-.78 2.05 0 2.83L4 21.41c.39.39.9.59 1.41.59.51 0 1.02-.2 1.41-.59l7.78-7.78 2.81-2.81c.8-.78.8-2.07 0-2.86zM5.41 20L4 18.59l7.72-7.72 1.47 1.35L5.41 20z\"/>\n",
              "  </svg>\n",
              "      </button>\n",
              "      \n",
              "  <style>\n",
              "    .colab-df-container {\n",
              "      display:flex;\n",
              "      flex-wrap:wrap;\n",
              "      gap: 12px;\n",
              "    }\n",
              "\n",
              "    .colab-df-convert {\n",
              "      background-color: #E8F0FE;\n",
              "      border: none;\n",
              "      border-radius: 50%;\n",
              "      cursor: pointer;\n",
              "      display: none;\n",
              "      fill: #1967D2;\n",
              "      height: 32px;\n",
              "      padding: 0 0 0 0;\n",
              "      width: 32px;\n",
              "    }\n",
              "\n",
              "    .colab-df-convert:hover {\n",
              "      background-color: #E2EBFA;\n",
              "      box-shadow: 0px 1px 2px rgba(60, 64, 67, 0.3), 0px 1px 3px 1px rgba(60, 64, 67, 0.15);\n",
              "      fill: #174EA6;\n",
              "    }\n",
              "\n",
              "    [theme=dark] .colab-df-convert {\n",
              "      background-color: #3B4455;\n",
              "      fill: #D2E3FC;\n",
              "    }\n",
              "\n",
              "    [theme=dark] .colab-df-convert:hover {\n",
              "      background-color: #434B5C;\n",
              "      box-shadow: 0px 1px 3px 1px rgba(0, 0, 0, 0.15);\n",
              "      filter: drop-shadow(0px 1px 2px rgba(0, 0, 0, 0.3));\n",
              "      fill: #FFFFFF;\n",
              "    }\n",
              "  </style>\n",
              "\n",
              "      <script>\n",
              "        const buttonEl =\n",
              "          document.querySelector('#df-542cf67c-9d2f-4158-a606-f34c3086a443 button.colab-df-convert');\n",
              "        buttonEl.style.display =\n",
              "          google.colab.kernel.accessAllowed ? 'block' : 'none';\n",
              "\n",
              "        async function convertToInteractive(key) {\n",
              "          const element = document.querySelector('#df-542cf67c-9d2f-4158-a606-f34c3086a443');\n",
              "          const dataTable =\n",
              "            await google.colab.kernel.invokeFunction('convertToInteractive',\n",
              "                                                     [key], {});\n",
              "          if (!dataTable) return;\n",
              "\n",
              "          const docLinkHtml = 'Like what you see? Visit the ' +\n",
              "            '<a target=\"_blank\" href=https://colab.research.google.com/notebooks/data_table.ipynb>data table notebook</a>'\n",
              "            + ' to learn more about interactive tables.';\n",
              "          element.innerHTML = '';\n",
              "          dataTable['output_type'] = 'display_data';\n",
              "          await google.colab.output.renderOutput(dataTable, element);\n",
              "          const docLink = document.createElement('div');\n",
              "          docLink.innerHTML = docLinkHtml;\n",
              "          element.appendChild(docLink);\n",
              "        }\n",
              "      </script>\n",
              "    </div>\n",
              "  </div>\n",
              "  "
            ]
          },
          "metadata": {},
          "execution_count": 20
        }
      ],
      "source": [
        "# Obtenemos nuestro dataframe\n",
        "coeficientes_modelo_sup_baños = obtener_coeficientes(modelo_lineal_sup_baños, variables_exogenas)\n",
        "coeficientes_modelo_sup_baños"
      ]
    },
    {
      "cell_type": "markdown",
      "metadata": {
        "id": "0w7p9UiibODK"
      },
      "source": [
        "¿Cómo interpretamos estos coeficientes?\n",
        "\n",
        "$\\hat{\\beta_0} = -107213.75$\n",
        "\n",
        "El valor esperado/promedio/predicho de una propiedad sin superficie ni baños es de -107213.65 dólares\n",
        "\n",
        "$\\hat{\\beta_1} = 2069.77$\n",
        "\n",
        "El valor esperado/promedio/predicho de una propiedad aumenta en 2069.77 dólares frente a un aumento de 1 metro cuadrado de la superficie total dada la cantidad de baños\n",
        "\n",
        "$\\hat{\\beta_2} = 113359.64$\n",
        "\n",
        "El valor esperado/promedio/predicho de una propiedad aumenta en 113359.64 dólares frente a un aumento de 1 baño dada la superficie total\n"
      ]
    },
    {
      "cell_type": "markdown",
      "metadata": {
        "id": "qBg5_SGJfOd7"
      },
      "source": [
        "### 2.2 Modelo Superficie y Cuartos\n",
        "\n",
        "También vimos en nuestro análisis de datos que la variable **cuartos** presentan un correlación positiva con el precio. Entonces, realicemos un modelo con los cuartos y la superficie total como predictoras:\n",
        "\n",
        "$E(precio|.) = \\beta_0 + \\beta_1 \\cdot superficieTotal + \\beta_2 \\cdot cuartos$"
      ]
    },
    {
      "cell_type": "code",
      "execution_count": 21,
      "metadata": {
        "colab": {
          "base_uri": "https://localhost:8080/",
          "height": 143
        },
        "id": "x1Fmz5pafN6c",
        "outputId": "e2f5b43b-5caa-4e27-b87b-a3427b836fec"
      },
      "outputs": [
        {
          "output_type": "execute_result",
          "data": {
            "text/plain": [
              "        variable  coeficiente\n",
              "0     intercepto     11793.04\n",
              "1  surface_total      3290.52\n",
              "2          rooms    -21992.68"
            ],
            "text/html": [
              "\n",
              "  <div id=\"df-5ed76d43-a2ce-4b98-8640-cbad827e1b23\">\n",
              "    <div class=\"colab-df-container\">\n",
              "      <div>\n",
              "<style scoped>\n",
              "    .dataframe tbody tr th:only-of-type {\n",
              "        vertical-align: middle;\n",
              "    }\n",
              "\n",
              "    .dataframe tbody tr th {\n",
              "        vertical-align: top;\n",
              "    }\n",
              "\n",
              "    .dataframe thead th {\n",
              "        text-align: right;\n",
              "    }\n",
              "</style>\n",
              "<table border=\"1\" class=\"dataframe\">\n",
              "  <thead>\n",
              "    <tr style=\"text-align: right;\">\n",
              "      <th></th>\n",
              "      <th>variable</th>\n",
              "      <th>coeficiente</th>\n",
              "    </tr>\n",
              "  </thead>\n",
              "  <tbody>\n",
              "    <tr>\n",
              "      <th>0</th>\n",
              "      <td>intercepto</td>\n",
              "      <td>11793.04</td>\n",
              "    </tr>\n",
              "    <tr>\n",
              "      <th>1</th>\n",
              "      <td>surface_total</td>\n",
              "      <td>3290.52</td>\n",
              "    </tr>\n",
              "    <tr>\n",
              "      <th>2</th>\n",
              "      <td>rooms</td>\n",
              "      <td>-21992.68</td>\n",
              "    </tr>\n",
              "  </tbody>\n",
              "</table>\n",
              "</div>\n",
              "      <button class=\"colab-df-convert\" onclick=\"convertToInteractive('df-5ed76d43-a2ce-4b98-8640-cbad827e1b23')\"\n",
              "              title=\"Convert this dataframe to an interactive table.\"\n",
              "              style=\"display:none;\">\n",
              "        \n",
              "  <svg xmlns=\"http://www.w3.org/2000/svg\" height=\"24px\"viewBox=\"0 0 24 24\"\n",
              "       width=\"24px\">\n",
              "    <path d=\"M0 0h24v24H0V0z\" fill=\"none\"/>\n",
              "    <path d=\"M18.56 5.44l.94 2.06.94-2.06 2.06-.94-2.06-.94-.94-2.06-.94 2.06-2.06.94zm-11 1L8.5 8.5l.94-2.06 2.06-.94-2.06-.94L8.5 2.5l-.94 2.06-2.06.94zm10 10l.94 2.06.94-2.06 2.06-.94-2.06-.94-.94-2.06-.94 2.06-2.06.94z\"/><path d=\"M17.41 7.96l-1.37-1.37c-.4-.4-.92-.59-1.43-.59-.52 0-1.04.2-1.43.59L10.3 9.45l-7.72 7.72c-.78.78-.78 2.05 0 2.83L4 21.41c.39.39.9.59 1.41.59.51 0 1.02-.2 1.41-.59l7.78-7.78 2.81-2.81c.8-.78.8-2.07 0-2.86zM5.41 20L4 18.59l7.72-7.72 1.47 1.35L5.41 20z\"/>\n",
              "  </svg>\n",
              "      </button>\n",
              "      \n",
              "  <style>\n",
              "    .colab-df-container {\n",
              "      display:flex;\n",
              "      flex-wrap:wrap;\n",
              "      gap: 12px;\n",
              "    }\n",
              "\n",
              "    .colab-df-convert {\n",
              "      background-color: #E8F0FE;\n",
              "      border: none;\n",
              "      border-radius: 50%;\n",
              "      cursor: pointer;\n",
              "      display: none;\n",
              "      fill: #1967D2;\n",
              "      height: 32px;\n",
              "      padding: 0 0 0 0;\n",
              "      width: 32px;\n",
              "    }\n",
              "\n",
              "    .colab-df-convert:hover {\n",
              "      background-color: #E2EBFA;\n",
              "      box-shadow: 0px 1px 2px rgba(60, 64, 67, 0.3), 0px 1px 3px 1px rgba(60, 64, 67, 0.15);\n",
              "      fill: #174EA6;\n",
              "    }\n",
              "\n",
              "    [theme=dark] .colab-df-convert {\n",
              "      background-color: #3B4455;\n",
              "      fill: #D2E3FC;\n",
              "    }\n",
              "\n",
              "    [theme=dark] .colab-df-convert:hover {\n",
              "      background-color: #434B5C;\n",
              "      box-shadow: 0px 1px 3px 1px rgba(0, 0, 0, 0.15);\n",
              "      filter: drop-shadow(0px 1px 2px rgba(0, 0, 0, 0.3));\n",
              "      fill: #FFFFFF;\n",
              "    }\n",
              "  </style>\n",
              "\n",
              "      <script>\n",
              "        const buttonEl =\n",
              "          document.querySelector('#df-5ed76d43-a2ce-4b98-8640-cbad827e1b23 button.colab-df-convert');\n",
              "        buttonEl.style.display =\n",
              "          google.colab.kernel.accessAllowed ? 'block' : 'none';\n",
              "\n",
              "        async function convertToInteractive(key) {\n",
              "          const element = document.querySelector('#df-5ed76d43-a2ce-4b98-8640-cbad827e1b23');\n",
              "          const dataTable =\n",
              "            await google.colab.kernel.invokeFunction('convertToInteractive',\n",
              "                                                     [key], {});\n",
              "          if (!dataTable) return;\n",
              "\n",
              "          const docLinkHtml = 'Like what you see? Visit the ' +\n",
              "            '<a target=\"_blank\" href=https://colab.research.google.com/notebooks/data_table.ipynb>data table notebook</a>'\n",
              "            + ' to learn more about interactive tables.';\n",
              "          element.innerHTML = '';\n",
              "          dataTable['output_type'] = 'display_data';\n",
              "          await google.colab.output.renderOutput(dataTable, element);\n",
              "          const docLink = document.createElement('div');\n",
              "          docLink.innerHTML = docLinkHtml;\n",
              "          element.appendChild(docLink);\n",
              "        }\n",
              "      </script>\n",
              "    </div>\n",
              "  </div>\n",
              "  "
            ]
          },
          "metadata": {},
          "execution_count": 21
        }
      ],
      "source": [
        "# Definimos las variables exogenas (predictores)\n",
        "variables_exogenas = ['surface_total', 'rooms']\n",
        "\n",
        "# Construimos la matriz de X\n",
        "X_train_modelo_sup_cuartos = X_train[variables_exogenas]\n",
        "\n",
        "# Definimos una instancia del modelo lineal con scikit learn\n",
        "modelo_lineal_sup_cuartos = LinearRegression(fit_intercept=True)\n",
        "\n",
        "# Realizamos el proceso de estimación\n",
        "modelo_lineal_sup_cuartos.fit(X_train_modelo_sup_cuartos, y_train)\n",
        "\n",
        "# Obtenemos los coeficientes en el dataframe\n",
        "coeficientes_modelo_sup_cuartos = obtener_coeficientes(modelo_lineal_sup_cuartos, variables_exogenas)\n",
        "coeficientes_modelo_sup_cuartos"
      ]
    },
    {
      "cell_type": "markdown",
      "metadata": {
        "id": "cb1d-KZ5gTTl"
      },
      "source": [
        "¿Qué sucedió con los coeficientes estimados del modelo?\n",
        "\n",
        "Lo que nos puede llamar la atención en modelo es que el coeficiente de la variable **ambientes** es negativo.\n",
        "\n",
        "Alguien podría decirnos que la interpretación de este coeficiente es extraña y contraintuitiva si decimos que: el coeficiente $\\hat{\\beta_2} = -21992$ indica que frente al aumento de un ambiente el precio esperado de la propiedad cae en 21992 dólares.\n",
        "\n",
        "#### Sin embargo, esto es incorrecto ¿Por qué?\n",
        "\n",
        "Porque la interpretación del coeficiente estimado en el modelo de regresión lineal múltiple se realiza **dadas las otras variables constantes**\n",
        "\n",
        "#### Entonces ¿Cúal es la interpretación correcta?\n",
        "\n",
        "La interpretación correcta de $\\hat{\\beta_2} = 21992$ es:\n",
        "\n",
        "El valor esperado de una propiedad cae en 21992 dólares frente al aumento de 1 ambiente dada la superficie total.\n",
        "\n",
        "Esto quiere decir que si para una propiedad que tiene una superficie dada se crea un ambiente nuevo (dividir la superficie en más cuartos) se espera que su valor caiga en aproximadamente 22000 dolares  "
      ]
    },
    {
      "cell_type": "markdown",
      "metadata": {
        "id": "DCamnYLhg8Cc"
      },
      "source": [
        "## 3. Modelo con variables categóricas\n",
        "\n",
        "En esta sección vamos a incorporar la variable categórica del **tipo de propiedad** en nuestros modelos.\n",
        "\n",
        "Primero veamos como se relaciona esta variable con el precio de la propiedad\n",
        "\n"
      ]
    },
    {
      "cell_type": "code",
      "execution_count": 22,
      "metadata": {
        "colab": {
          "base_uri": "https://localhost:8080/",
          "height": 465
        },
        "id": "LztZAGOBKWSW",
        "outputId": "c8886cd0-0964-4692-88f0-17e3c52f7bf0"
      },
      "outputs": [
        {
          "output_type": "display_data",
          "data": {
            "text/plain": [
              "<Figure size 640x480 with 1 Axes>"
            ],
            "image/png": "[encoded data removed]"
          },
          "metadata": {}
        }
      ],
      "source": [
        "# Boxplot del precio por tipo de propiedad\n",
        "sns.boxplot(x='property_type', y='price', data=df);"
      ]
    },
    {
      "cell_type": "markdown",
      "metadata": {
        "id": "QcMQ-A3vxNQB"
      },
      "source": [
        "Se observa que existen múltiples **outliers** que dificultan la comparación entre los distintos tipos de propiedad. Las casas y departamentos se caracterizan por tener más outliers que los PH.\n",
        "\n",
        "Acotemos el gráfico a propiedades con precios menores a 1 millón de pesos"
      ]
    },
    {
      "cell_type": "code",
      "execution_count": 23,
      "metadata": {
        "colab": {
          "base_uri": "https://localhost:8080/",
          "height": 465
        },
        "id": "9IdTcApQy-FR",
        "outputId": "a27ab3ed-27cb-4a5e-b456-375f56597cec"
      },
      "outputs": [
        {
          "output_type": "display_data",
          "data": {
            "text/plain": [
              "<Figure size 640x480 with 1 Axes>"
            ],
            "image/png": "[encoded data removed]"
          },
          "metadata": {}
        }
      ],
      "source": [
        "# Boxplot del precio por tipo de propiedad\n",
        "sns.boxplot(x='property_type', y='price', data=df.query(\"price<=1000000\"));"
      ]
    },
    {
      "cell_type": "markdown",
      "metadata": {
        "id": "Xi7HeFqJzdUW"
      },
      "source": [
        "Ahora podemos observar que los departamentos y PH tienen una mediana similar mientras que las casas tiene una mediana de precio más elevada. Sin embargo, recordemos que en este gráfico no estamos controlando por otras variables."
      ]
    },
    {
      "cell_type": "markdown",
      "metadata": {
        "id": "DXFDs8NjU0Kv"
      },
      "source": [
        "### 3.1 Modelo Tipo de Propiedad y Superficie\n",
        "\n",
        "Como parecen existir diferencias en el precio que se pueden explicar por  el tipo de propiedad definimos un modelo que incluya está información.\n",
        "\n",
        "Recordemos que como se trata de una variable con 3 categorías deberemos crear dos variables binarias, quedando una categoría contenida en el intercepto.\n",
        "\n",
        "\n",
        "$E(precio|X) = \\beta_0 + \\beta_1 \\cdot superficieTotal + \\beta_{2}  \\cdot X_{casa} + \\beta_{3}  \\cdot X_{depto}$\n",
        "\n",
        "Las variables dummies que debemos crear son:\n",
        "\n",
        "$X_{casa}=\\begin{cases}\n",
        "      0 & \\text{si la propiedad NO es una casa} \\\\\n",
        "      1 & \\text{si la observación es una casa}\n",
        "\\end{cases}$\n",
        "\n",
        "$X_{depto}=\\begin{cases}\n",
        "      0 & \\text{si la observación NO es un departamento} \\\\\n",
        "      1 & \\text{si la observación es un departamento}\n",
        "\\end{cases}$\n",
        "\n",
        "Veamos cuál es la manera de crear estas variables"
      ]
    },
    {
      "cell_type": "markdown",
      "metadata": {
        "id": "Vbe4RiNyXqAn"
      },
      "source": [
        "#### Creación de las variables dummies\n",
        "\n",
        "Para crear las variables dummies vamos a utilizar el transformer (es un tipo de clase) [OneHotEncoder](https://scikit-learn.org/stable/modules/generated/sklearn.preprocessing.OneHotEncoder.html). Los argumentos que vamos a utilizar son:\n",
        "\n",
        "* `categories:` la lista de categorías que tiene la variable categórica\n",
        "* `drop='first'`: indica que se va a \"tirar\" la primera categoría (es la que queda contenida en el intercepto)\n"
      ]
    },
    {
      "cell_type": "code",
      "execution_count": 24,
      "metadata": {
        "id": "26xjkeyGBT3S"
      },
      "outputs": [],
      "source": [
        "from sklearn.preprocessing import OneHotEncoder"
      ]
    },
    {
      "cell_type": "code",
      "execution_count": 25,
      "metadata": {
        "id": "CRU64W8RCl2S"
      },
      "outputs": [],
      "source": [
        "# Definimos una instancia del transformer\n",
        "one_hot_encoder = OneHotEncoder(categories=[['PH', 'Casa', 'Departamento']], drop='first')"
      ]
    },
    {
      "cell_type": "code",
      "execution_count": 26,
      "metadata": {
        "colab": {
          "base_uri": "https://localhost:8080/",
          "height": 74
        },
        "id": "T1iyeTHbE2t6",
        "outputId": "f55f1eb3-b306-460a-fdf5-89f0951019fb"
      },
      "outputs": [
        {
          "output_type": "execute_result",
          "data": {
            "text/plain": [
              "OneHotEncoder(categories=[['PH', 'Casa', 'Departamento']], drop='first')"
            ],
            "text/html": [
              "<style>#sk-container-id-2 {color: black;background-color: white;}#sk-container-id-2 pre{padding: 0;}#sk-container-id-2 div.sk-toggleable {background-color: white;}#sk-container-id-2 label.sk-toggleable__label {cursor: pointer;display: block;width: 100%;margin-bottom: 0;padding: 0.3em;box-sizing: border-box;text-align: center;}#sk-container-id-2 label.sk-toggleable__label-arrow:before {content: \"▸\";float: left;margin-right: 0.25em;color: #696969;}#sk-container-id-2 label.sk-toggleable__label-arrow:hover:before {color: black;}#sk-container-id-2 div.sk-estimator:hover label.sk-toggleable__label-arrow:before {color: black;}#sk-container-id-2 div.sk-toggleable__content {max-height: 0;max-width: 0;overflow: hidden;text-align: left;background-color: #f0f8ff;}#sk-container-id-2 div.sk-toggleable__content pre {margin: 0.2em;color: black;border-radius: 0.25em;background-color: #f0f8ff;}#sk-container-id-2 input.sk-toggleable__control:checked~div.sk-toggleable__content {max-height: 200px;max-width: 100%;overflow: auto;}#sk-container-id-2 input.sk-toggleable__control:checked~label.sk-toggleable__label-arrow:before {content: \"▾\";}#sk-container-id-2 div.sk-estimator input.sk-toggleable__control:checked~label.sk-toggleable__label {background-color: #d4ebff;}#sk-container-id-2 div.sk-label input.sk-toggleable__control:checked~label.sk-toggleable__label {background-color: #d4ebff;}#sk-container-id-2 input.sk-hidden--visually {border: 0;clip: rect(1px 1px 1px 1px);clip: rect(1px, 1px, 1px, 1px);height: 1px;margin: -1px;overflow: hidden;padding: 0;position: absolute;width: 1px;}#sk-container-id-2 div.sk-estimator {font-family: monospace;background-color: #f0f8ff;border: 1px dotted black;border-radius: 0.25em;box-sizing: border-box;margin-bottom: 0.5em;}#sk-container-id-2 div.sk-estimator:hover {background-color: #d4ebff;}#sk-container-id-2 div.sk-parallel-item::after {content: \"\";width: 100%;border-bottom: 1px solid gray;flex-grow: 1;}#sk-container-id-2 div.sk-label:hover label.sk-toggleable__label {background-color: #d4ebff;}#sk-container-id-2 div.sk-serial::before {content: \"\";position: absolute;border-left: 1px solid gray;box-sizing: border-box;top: 0;bottom: 0;left: 50%;z-index: 0;}#sk-container-id-2 div.sk-serial {display: flex;flex-direction: column;align-items: center;background-color: white;padding-right: 0.2em;padding-left: 0.2em;position: relative;}#sk-container-id-2 div.sk-item {position: relative;z-index: 1;}#sk-container-id-2 div.sk-parallel {display: flex;align-items: stretch;justify-content: center;background-color: white;position: relative;}#sk-container-id-2 div.sk-item::before, #sk-container-id-2 div.sk-parallel-item::before {content: \"\";position: absolute;border-left: 1px solid gray;box-sizing: border-box;top: 0;bottom: 0;left: 50%;z-index: -1;}#sk-container-id-2 div.sk-parallel-item {display: flex;flex-direction: column;z-index: 1;position: relative;background-color: white;}#sk-container-id-2 div.sk-parallel-item:first-child::after {align-self: flex-end;width: 50%;}#sk-container-id-2 div.sk-parallel-item:last-child::after {align-self: flex-start;width: 50%;}#sk-container-id-2 div.sk-parallel-item:only-child::after {width: 0;}#sk-container-id-2 div.sk-dashed-wrapped {border: 1px dashed gray;margin: 0 0.4em 0.5em 0.4em;box-sizing: border-box;padding-bottom: 0.4em;background-color: white;}#sk-container-id-2 div.sk-label label {font-family: monospace;font-weight: bold;display: inline-block;line-height: 1.2em;}#sk-container-id-2 div.sk-label-container {text-align: center;}#sk-container-id-2 div.sk-container {/* jupyter's `normalize.less` sets `[hidden] { display: none; }` but bootstrap.min.css set `[hidden] { display: none !important; }` so we also need the `!important` here to be able to override the default hidden behavior on the sphinx rendered scikit-learn.org. See: https://github.com/scikit-learn/scikit-learn/issues/21755 */display: inline-block !important;position: relative;}#sk-container-id-2 div.sk-text-repr-fallback {display: none;}</style><div id=\"sk-container-id-2\" class=\"sk-top-container\"><div class=\"sk-text-repr-fallback\"><pre>OneHotEncoder(categories=[[&#x27;PH&#x27;, &#x27;Casa&#x27;, &#x27;Departamento&#x27;]], drop=&#x27;first&#x27;)</pre><b>In a Jupyter environment, please rerun this cell to show the HTML representation or trust the notebook. <br />On GitHub, the HTML representation is unable to render, please try loading this page with nbviewer.org.</b></div><div class=\"sk-container\" hidden><div class=\"sk-item\"><div class=\"sk-estimator sk-toggleable\"><input class=\"sk-toggleable__control sk-hidden--visually\" id=\"sk-estimator-id-2\" type=\"checkbox\" checked><label for=\"sk-estimator-id-2\" class=\"sk-toggleable__label sk-toggleable__label-arrow\">OneHotEncoder</label><div class=\"sk-toggleable__content\"><pre>OneHotEncoder(categories=[[&#x27;PH&#x27;, &#x27;Casa&#x27;, &#x27;Departamento&#x27;]], drop=&#x27;first&#x27;)</pre></div></div></div></div></div>"
            ]
          },
          "metadata": {},
          "execution_count": 26
        }
      ],
      "source": [
        "# Realizamos el fit con los datos de entrenamiento\n",
        "one_hot_encoder.fit(X_train[['property_type']])"
      ]
    },
    {
      "cell_type": "code",
      "execution_count": 27,
      "metadata": {
        "colab": {
          "base_uri": "https://localhost:8080/"
        },
        "id": "uGC7li7LFvqE",
        "outputId": "c957cc64-2c50-4cc5-9ddd-7c050732357c"
      },
      "outputs": [
        {
          "output_type": "execute_result",
          "data": {
            "text/plain": [
              "[array(['PH', 'Casa', 'Departamento'], dtype=object)]"
            ]
          },
          "metadata": {},
          "execution_count": 27
        }
      ],
      "source": [
        "# Accedemos a las categorias del encoder\n",
        "one_hot_encoder.categories_"
      ]
    },
    {
      "cell_type": "code",
      "execution_count": 28,
      "metadata": {
        "colab": {
          "base_uri": "https://localhost:8080/"
        },
        "id": "jN6VGgVRF_Zl",
        "outputId": "e0a73b01-bdd2-456a-a98f-df619f235f92"
      },
      "outputs": [
        {
          "output_type": "execute_result",
          "data": {
            "text/plain": [
              "array([[0., 1.],\n",
              "       [0., 1.],\n",
              "       [1., 0.],\n",
              "       ...,\n",
              "       [0., 1.],\n",
              "       [0., 1.],\n",
              "       [0., 1.]])"
            ]
          },
          "metadata": {},
          "execution_count": 28
        }
      ],
      "source": [
        " # Generamos las variables dummies de la variable property type (notemos que tenemos 2 columnas!)\n",
        " matriz_dummies = one_hot_encoder.transform(X_train[['property_type']]).toarray()\n",
        " matriz_dummies"
      ]
    },
    {
      "cell_type": "code",
      "execution_count": 29,
      "metadata": {
        "colab": {
          "base_uri": "https://localhost:8080/"
        },
        "id": "NRDERxHOGjKJ",
        "outputId": "037a5e5d-7435-472b-99b6-2219d8789778"
      },
      "outputs": [
        {
          "output_type": "execute_result",
          "data": {
            "text/plain": [
              "['tipo_Casa', 'tipo_Departamento']"
            ]
          },
          "metadata": {},
          "execution_count": 29
        }
      ],
      "source": [
        "# Generamos los nombres de las variables dummies (notemos que tenemos 2 columnas!)\n",
        "nombres_dummies = one_hot_encoder.get_feature_names_out(['property_type'])\n",
        "nombres_dummies = [nombre.replace('property_type', 'tipo') for nombre in nombres_dummies]\n",
        "nombres_dummies"
      ]
    },
    {
      "cell_type": "code",
      "execution_count": 30,
      "metadata": {
        "colab": {
          "base_uri": "https://localhost:8080/",
          "height": 206
        },
        "id": "V6qqD6vCHziB",
        "outputId": "2c6e9d84-1fc5-4520-cf10-56016f89390a"
      },
      "outputs": [
        {
          "output_type": "execute_result",
          "data": {
            "text/plain": [
              "       tipo_Casa  tipo_Departamento\n",
              "36377       0.00               1.00\n",
              "8124        0.00               1.00\n",
              "34075       1.00               0.00\n",
              "28781       0.00               1.00\n",
              "4876        0.00               1.00"
            ],
            "text/html": [
              "\n",
              "  <div id=\"df-e3ab6159-5d10-407a-9ebc-426df4f25f09\">\n",
              "    <div class=\"colab-df-container\">\n",
              "      <div>\n",
              "<style scoped>\n",
              "    .dataframe tbody tr th:only-of-type {\n",
              "        vertical-align: middle;\n",
              "    }\n",
              "\n",
              "    .dataframe tbody tr th {\n",
              "        vertical-align: top;\n",
              "    }\n",
              "\n",
              "    .dataframe thead th {\n",
              "        text-align: right;\n",
              "    }\n",
              "</style>\n",
              "<table border=\"1\" class=\"dataframe\">\n",
              "  <thead>\n",
              "    <tr style=\"text-align: right;\">\n",
              "      <th></th>\n",
              "      <th>tipo_Casa</th>\n",
              "      <th>tipo_Departamento</th>\n",
              "    </tr>\n",
              "  </thead>\n",
              "  <tbody>\n",
              "    <tr>\n",
              "      <th>36377</th>\n",
              "      <td>0.00</td>\n",
              "      <td>1.00</td>\n",
              "    </tr>\n",
              "    <tr>\n",
              "      <th>8124</th>\n",
              "      <td>0.00</td>\n",
              "      <td>1.00</td>\n",
              "    </tr>\n",
              "    <tr>\n",
              "      <th>34075</th>\n",
              "      <td>1.00</td>\n",
              "      <td>0.00</td>\n",
              "    </tr>\n",
              "    <tr>\n",
              "      <th>28781</th>\n",
              "      <td>0.00</td>\n",
              "      <td>1.00</td>\n",
              "    </tr>\n",
              "    <tr>\n",
              "      <th>4876</th>\n",
              "      <td>0.00</td>\n",
              "      <td>1.00</td>\n",
              "    </tr>\n",
              "  </tbody>\n",
              "</table>\n",
              "</div>\n",
              "      <button class=\"colab-df-convert\" onclick=\"convertToInteractive('df-e3ab6159-5d10-407a-9ebc-426df4f25f09')\"\n",
              "              title=\"Convert this dataframe to an interactive table.\"\n",
              "              style=\"display:none;\">\n",
              "        \n",
              "  <svg xmlns=\"http://www.w3.org/2000/svg\" height=\"24px\"viewBox=\"0 0 24 24\"\n",
              "       width=\"24px\">\n",
              "    <path d=\"M0 0h24v24H0V0z\" fill=\"none\"/>\n",
              "    <path d=\"M18.56 5.44l.94 2.06.94-2.06 2.06-.94-2.06-.94-.94-2.06-.94 2.06-2.06.94zm-11 1L8.5 8.5l.94-2.06 2.06-.94-2.06-.94L8.5 2.5l-.94 2.06-2.06.94zm10 10l.94 2.06.94-2.06 2.06-.94-2.06-.94-.94-2.06-.94 2.06-2.06.94z\"/><path d=\"M17.41 7.96l-1.37-1.37c-.4-.4-.92-.59-1.43-.59-.52 0-1.04.2-1.43.59L10.3 9.45l-7.72 7.72c-.78.78-.78 2.05 0 2.83L4 21.41c.39.39.9.59 1.41.59.51 0 1.02-.2 1.41-.59l7.78-7.78 2.81-2.81c.8-.78.8-2.07 0-2.86zM5.41 20L4 18.59l7.72-7.72 1.47 1.35L5.41 20z\"/>\n",
              "  </svg>\n",
              "      </button>\n",
              "      \n",
              "  <style>\n",
              "    .colab-df-container {\n",
              "      display:flex;\n",
              "      flex-wrap:wrap;\n",
              "      gap: 12px;\n",
              "    }\n",
              "\n",
              "    .colab-df-convert {\n",
              "      background-color: #E8F0FE;\n",
              "      border: none;\n",
              "      border-radius: 50%;\n",
              "      cursor: pointer;\n",
              "      display: none;\n",
              "      fill: #1967D2;\n",
              "      height: 32px;\n",
              "      padding: 0 0 0 0;\n",
              "      width: 32px;\n",
              "    }\n",
              "\n",
              "    .colab-df-convert:hover {\n",
              "      background-color: #E2EBFA;\n",
              "      box-shadow: 0px 1px 2px rgba(60, 64, 67, 0.3), 0px 1px 3px 1px rgba(60, 64, 67, 0.15);\n",
              "      fill: #174EA6;\n",
              "    }\n",
              "\n",
              "    [theme=dark] .colab-df-convert {\n",
              "      background-color: #3B4455;\n",
              "      fill: #D2E3FC;\n",
              "    }\n",
              "\n",
              "    [theme=dark] .colab-df-convert:hover {\n",
              "      background-color: #434B5C;\n",
              "      box-shadow: 0px 1px 3px 1px rgba(0, 0, 0, 0.15);\n",
              "      filter: drop-shadow(0px 1px 2px rgba(0, 0, 0, 0.3));\n",
              "      fill: #FFFFFF;\n",
              "    }\n",
              "  </style>\n",
              "\n",
              "      <script>\n",
              "        const buttonEl =\n",
              "          document.querySelector('#df-e3ab6159-5d10-407a-9ebc-426df4f25f09 button.colab-df-convert');\n",
              "        buttonEl.style.display =\n",
              "          google.colab.kernel.accessAllowed ? 'block' : 'none';\n",
              "\n",
              "        async function convertToInteractive(key) {\n",
              "          const element = document.querySelector('#df-e3ab6159-5d10-407a-9ebc-426df4f25f09');\n",
              "          const dataTable =\n",
              "            await google.colab.kernel.invokeFunction('convertToInteractive',\n",
              "                                                     [key], {});\n",
              "          if (!dataTable) return;\n",
              "\n",
              "          const docLinkHtml = 'Like what you see? Visit the ' +\n",
              "            '<a target=\"_blank\" href=https://colab.research.google.com/notebooks/data_table.ipynb>data table notebook</a>'\n",
              "            + ' to learn more about interactive tables.';\n",
              "          element.innerHTML = '';\n",
              "          dataTable['output_type'] = 'display_data';\n",
              "          await google.colab.output.renderOutput(dataTable, element);\n",
              "          const docLink = document.createElement('div');\n",
              "          docLink.innerHTML = docLinkHtml;\n",
              "          element.appendChild(docLink);\n",
              "        }\n",
              "      </script>\n",
              "    </div>\n",
              "  </div>\n",
              "  "
            ]
          },
          "metadata": {},
          "execution_count": 30
        }
      ],
      "source": [
        "# Generamos el dataframe con las variables dummies con las matrices y columnas\n",
        "df_dummies = pd.DataFrame(matriz_dummies, columns=nombres_dummies, index=X_train.index)\n",
        "df_dummies.head()"
      ]
    },
    {
      "cell_type": "code",
      "execution_count": 31,
      "metadata": {
        "colab": {
          "base_uri": "https://localhost:8080/",
          "height": 206
        },
        "id": "Y3cTPCMWLVr_",
        "outputId": "c8ab9216-fb76-49be-c4c6-0d6cb786df26"
      },
      "outputs": [
        {
          "output_type": "execute_result",
          "data": {
            "text/plain": [
              "         lat    lon  rooms  bathrooms  surface_total  surface_covered  \\\n",
              "36377 -34.62 -58.44   3.00       1.00          63.00            63.00   \n",
              "8124  -34.62 -58.49   1.00       1.00          42.00            42.00   \n",
              "34075 -34.66 -58.48   4.00       1.00         160.00           160.00   \n",
              "28781 -34.57 -58.43   3.00       2.00         126.00           110.00   \n",
              "4876  -34.60 -58.41   1.00       1.00          32.00            28.00   \n",
              "\n",
              "      property_type  tipo_Casa  tipo_Departamento  \n",
              "36377  Departamento       0.00               1.00  \n",
              "8124   Departamento       0.00               1.00  \n",
              "34075          Casa       1.00               0.00  \n",
              "28781  Departamento       0.00               1.00  \n",
              "4876   Departamento       0.00               1.00  "
            ],
            "text/html": [
              "\n",
              "  <div id=\"df-69b99321-2fcd-4ec6-aa8d-56059ea036f1\">\n",
              "    <div class=\"colab-df-container\">\n",
              "      <div>\n",
              "<style scoped>\n",
              "    .dataframe tbody tr th:only-of-type {\n",
              "        vertical-align: middle;\n",
              "    }\n",
              "\n",
              "    .dataframe tbody tr th {\n",
              "        vertical-align: top;\n",
              "    }\n",
              "\n",
              "    .dataframe thead th {\n",
              "        text-align: right;\n",
              "    }\n",
              "</style>\n",
              "<table border=\"1\" class=\"dataframe\">\n",
              "  <thead>\n",
              "    <tr style=\"text-align: right;\">\n",
              "      <th></th>\n",
              "      <th>lat</th>\n",
              "      <th>lon</th>\n",
              "      <th>rooms</th>\n",
              "      <th>bathrooms</th>\n",
              "      <th>surface_total</th>\n",
              "      <th>surface_covered</th>\n",
              "      <th>property_type</th>\n",
              "      <th>tipo_Casa</th>\n",
              "      <th>tipo_Departamento</th>\n",
              "    </tr>\n",
              "  </thead>\n",
              "  <tbody>\n",
              "    <tr>\n",
              "      <th>36377</th>\n",
              "      <td>-34.62</td>\n",
              "      <td>-58.44</td>\n",
              "      <td>3.00</td>\n",
              "      <td>1.00</td>\n",
              "      <td>63.00</td>\n",
              "      <td>63.00</td>\n",
              "      <td>Departamento</td>\n",
              "      <td>0.00</td>\n",
              "      <td>1.00</td>\n",
              "    </tr>\n",
              "    <tr>\n",
              "      <th>8124</th>\n",
              "      <td>-34.62</td>\n",
              "      <td>-58.49</td>\n",
              "      <td>1.00</td>\n",
              "      <td>1.00</td>\n",
              "      <td>42.00</td>\n",
              "      <td>42.00</td>\n",
              "      <td>Departamento</td>\n",
              "      <td>0.00</td>\n",
              "      <td>1.00</td>\n",
              "    </tr>\n",
              "    <tr>\n",
              "      <th>34075</th>\n",
              "      <td>-34.66</td>\n",
              "      <td>-58.48</td>\n",
              "      <td>4.00</td>\n",
              "      <td>1.00</td>\n",
              "      <td>160.00</td>\n",
              "      <td>160.00</td>\n",
              "      <td>Casa</td>\n",
              "      <td>1.00</td>\n",
              "      <td>0.00</td>\n",
              "    </tr>\n",
              "    <tr>\n",
              "      <th>28781</th>\n",
              "      <td>-34.57</td>\n",
              "      <td>-58.43</td>\n",
              "      <td>3.00</td>\n",
              "      <td>2.00</td>\n",
              "      <td>126.00</td>\n",
              "      <td>110.00</td>\n",
              "      <td>Departamento</td>\n",
              "      <td>0.00</td>\n",
              "      <td>1.00</td>\n",
              "    </tr>\n",
              "    <tr>\n",
              "      <th>4876</th>\n",
              "      <td>-34.60</td>\n",
              "      <td>-58.41</td>\n",
              "      <td>1.00</td>\n",
              "      <td>1.00</td>\n",
              "      <td>32.00</td>\n",
              "      <td>28.00</td>\n",
              "      <td>Departamento</td>\n",
              "      <td>0.00</td>\n",
              "      <td>1.00</td>\n",
              "    </tr>\n",
              "  </tbody>\n",
              "</table>\n",
              "</div>\n",
              "      <button class=\"colab-df-convert\" onclick=\"convertToInteractive('df-69b99321-2fcd-4ec6-aa8d-56059ea036f1')\"\n",
              "              title=\"Convert this dataframe to an interactive table.\"\n",
              "              style=\"display:none;\">\n",
              "        \n",
              "  <svg xmlns=\"http://www.w3.org/2000/svg\" height=\"24px\"viewBox=\"0 0 24 24\"\n",
              "       width=\"24px\">\n",
              "    <path d=\"M0 0h24v24H0V0z\" fill=\"none\"/>\n",
              "    <path d=\"M18.56 5.44l.94 2.06.94-2.06 2.06-.94-2.06-.94-.94-2.06-.94 2.06-2.06.94zm-11 1L8.5 8.5l.94-2.06 2.06-.94-2.06-.94L8.5 2.5l-.94 2.06-2.06.94zm10 10l.94 2.06.94-2.06 2.06-.94-2.06-.94-.94-2.06-.94 2.06-2.06.94z\"/><path d=\"M17.41 7.96l-1.37-1.37c-.4-.4-.92-.59-1.43-.59-.52 0-1.04.2-1.43.59L10.3 9.45l-7.72 7.72c-.78.78-.78 2.05 0 2.83L4 21.41c.39.39.9.59 1.41.59.51 0 1.02-.2 1.41-.59l7.78-7.78 2.81-2.81c.8-.78.8-2.07 0-2.86zM5.41 20L4 18.59l7.72-7.72 1.47 1.35L5.41 20z\"/>\n",
              "  </svg>\n",
              "      </button>\n",
              "      \n",
              "  <style>\n",
              "    .colab-df-container {\n",
              "      display:flex;\n",
              "      flex-wrap:wrap;\n",
              "      gap: 12px;\n",
              "    }\n",
              "\n",
              "    .colab-df-convert {\n",
              "      background-color: #E8F0FE;\n",
              "      border: none;\n",
              "      border-radius: 50%;\n",
              "      cursor: pointer;\n",
              "      display: none;\n",
              "      fill: #1967D2;\n",
              "      height: 32px;\n",
              "      padding: 0 0 0 0;\n",
              "      width: 32px;\n",
              "    }\n",
              "\n",
              "    .colab-df-convert:hover {\n",
              "      background-color: #E2EBFA;\n",
              "      box-shadow: 0px 1px 2px rgba(60, 64, 67, 0.3), 0px 1px 3px 1px rgba(60, 64, 67, 0.15);\n",
              "      fill: #174EA6;\n",
              "    }\n",
              "\n",
              "    [theme=dark] .colab-df-convert {\n",
              "      background-color: #3B4455;\n",
              "      fill: #D2E3FC;\n",
              "    }\n",
              "\n",
              "    [theme=dark] .colab-df-convert:hover {\n",
              "      background-color: #434B5C;\n",
              "      box-shadow: 0px 1px 3px 1px rgba(0, 0, 0, 0.15);\n",
              "      filter: drop-shadow(0px 1px 2px rgba(0, 0, 0, 0.3));\n",
              "      fill: #FFFFFF;\n",
              "    }\n",
              "  </style>\n",
              "\n",
              "      <script>\n",
              "        const buttonEl =\n",
              "          document.querySelector('#df-69b99321-2fcd-4ec6-aa8d-56059ea036f1 button.colab-df-convert');\n",
              "        buttonEl.style.display =\n",
              "          google.colab.kernel.accessAllowed ? 'block' : 'none';\n",
              "\n",
              "        async function convertToInteractive(key) {\n",
              "          const element = document.querySelector('#df-69b99321-2fcd-4ec6-aa8d-56059ea036f1');\n",
              "          const dataTable =\n",
              "            await google.colab.kernel.invokeFunction('convertToInteractive',\n",
              "                                                     [key], {});\n",
              "          if (!dataTable) return;\n",
              "\n",
              "          const docLinkHtml = 'Like what you see? Visit the ' +\n",
              "            '<a target=\"_blank\" href=https://colab.research.google.com/notebooks/data_table.ipynb>data table notebook</a>'\n",
              "            + ' to learn more about interactive tables.';\n",
              "          element.innerHTML = '';\n",
              "          dataTable['output_type'] = 'display_data';\n",
              "          await google.colab.output.renderOutput(dataTable, element);\n",
              "          const docLink = document.createElement('div');\n",
              "          docLink.innerHTML = docLinkHtml;\n",
              "          element.appendChild(docLink);\n",
              "        }\n",
              "      </script>\n",
              "    </div>\n",
              "  </div>\n",
              "  "
            ]
          },
          "metadata": {},
          "execution_count": 31
        }
      ],
      "source": [
        "# Agregamos la información a nuestra matriz de variables predictoras\n",
        "X_train = X_train.join(df_dummies)\n",
        "X_train.head()"
      ]
    },
    {
      "cell_type": "code",
      "execution_count": 32,
      "metadata": {
        "colab": {
          "base_uri": "https://localhost:8080/",
          "height": 175
        },
        "id": "3r4AEZOcIqOe",
        "outputId": "f8e07cd9-c6e5-44fa-99ef-90c43bfa472d"
      },
      "outputs": [
        {
          "output_type": "execute_result",
          "data": {
            "text/plain": [
              "            variable  coeficiente\n",
              "0         intercepto   -208630.36\n",
              "1      surface_total      3489.43\n",
              "2          tipo_Casa   -212763.96\n",
              "3  tipo_Departamento    173962.16"
            ],
            "text/html": [
              "\n",
              "  <div id=\"df-fe0482ff-3223-4070-981a-82407befa691\">\n",
              "    <div class=\"colab-df-container\">\n",
              "      <div>\n",
              "<style scoped>\n",
              "    .dataframe tbody tr th:only-of-type {\n",
              "        vertical-align: middle;\n",
              "    }\n",
              "\n",
              "    .dataframe tbody tr th {\n",
              "        vertical-align: top;\n",
              "    }\n",
              "\n",
              "    .dataframe thead th {\n",
              "        text-align: right;\n",
              "    }\n",
              "</style>\n",
              "<table border=\"1\" class=\"dataframe\">\n",
              "  <thead>\n",
              "    <tr style=\"text-align: right;\">\n",
              "      <th></th>\n",
              "      <th>variable</th>\n",
              "      <th>coeficiente</th>\n",
              "    </tr>\n",
              "  </thead>\n",
              "  <tbody>\n",
              "    <tr>\n",
              "      <th>0</th>\n",
              "      <td>intercepto</td>\n",
              "      <td>-208630.36</td>\n",
              "    </tr>\n",
              "    <tr>\n",
              "      <th>1</th>\n",
              "      <td>surface_total</td>\n",
              "      <td>3489.43</td>\n",
              "    </tr>\n",
              "    <tr>\n",
              "      <th>2</th>\n",
              "      <td>tipo_Casa</td>\n",
              "      <td>-212763.96</td>\n",
              "    </tr>\n",
              "    <tr>\n",
              "      <th>3</th>\n",
              "      <td>tipo_Departamento</td>\n",
              "      <td>173962.16</td>\n",
              "    </tr>\n",
              "  </tbody>\n",
              "</table>\n",
              "</div>\n",
              "      <button class=\"colab-df-convert\" onclick=\"convertToInteractive('df-fe0482ff-3223-4070-981a-82407befa691')\"\n",
              "              title=\"Convert this dataframe to an interactive table.\"\n",
              "              style=\"display:none;\">\n",
              "        \n",
              "  <svg xmlns=\"http://www.w3.org/2000/svg\" height=\"24px\"viewBox=\"0 0 24 24\"\n",
              "       width=\"24px\">\n",
              "    <path d=\"M0 0h24v24H0V0z\" fill=\"none\"/>\n",
              "    <path d=\"M18.56 5.44l.94 2.06.94-2.06 2.06-.94-2.06-.94-.94-2.06-.94 2.06-2.06.94zm-11 1L8.5 8.5l.94-2.06 2.06-.94-2.06-.94L8.5 2.5l-.94 2.06-2.06.94zm10 10l.94 2.06.94-2.06 2.06-.94-2.06-.94-.94-2.06-.94 2.06-2.06.94z\"/><path d=\"M17.41 7.96l-1.37-1.37c-.4-.4-.92-.59-1.43-.59-.52 0-1.04.2-1.43.59L10.3 9.45l-7.72 7.72c-.78.78-.78 2.05 0 2.83L4 21.41c.39.39.9.59 1.41.59.51 0 1.02-.2 1.41-.59l7.78-7.78 2.81-2.81c.8-.78.8-2.07 0-2.86zM5.41 20L4 18.59l7.72-7.72 1.47 1.35L5.41 20z\"/>\n",
              "  </svg>\n",
              "      </button>\n",
              "      \n",
              "  <style>\n",
              "    .colab-df-container {\n",
              "      display:flex;\n",
              "      flex-wrap:wrap;\n",
              "      gap: 12px;\n",
              "    }\n",
              "\n",
              "    .colab-df-convert {\n",
              "      background-color: #E8F0FE;\n",
              "      border: none;\n",
              "      border-radius: 50%;\n",
              "      cursor: pointer;\n",
              "      display: none;\n",
              "      fill: #1967D2;\n",
              "      height: 32px;\n",
              "      padding: 0 0 0 0;\n",
              "      width: 32px;\n",
              "    }\n",
              "\n",
              "    .colab-df-convert:hover {\n",
              "      background-color: #E2EBFA;\n",
              "      box-shadow: 0px 1px 2px rgba(60, 64, 67, 0.3), 0px 1px 3px 1px rgba(60, 64, 67, 0.15);\n",
              "      fill: #174EA6;\n",
              "    }\n",
              "\n",
              "    [theme=dark] .colab-df-convert {\n",
              "      background-color: #3B4455;\n",
              "      fill: #D2E3FC;\n",
              "    }\n",
              "\n",
              "    [theme=dark] .colab-df-convert:hover {\n",
              "      background-color: #434B5C;\n",
              "      box-shadow: 0px 1px 3px 1px rgba(0, 0, 0, 0.15);\n",
              "      filter: drop-shadow(0px 1px 2px rgba(0, 0, 0, 0.3));\n",
              "      fill: #FFFFFF;\n",
              "    }\n",
              "  </style>\n",
              "\n",
              "      <script>\n",
              "        const buttonEl =\n",
              "          document.querySelector('#df-fe0482ff-3223-4070-981a-82407befa691 button.colab-df-convert');\n",
              "        buttonEl.style.display =\n",
              "          google.colab.kernel.accessAllowed ? 'block' : 'none';\n",
              "\n",
              "        async function convertToInteractive(key) {\n",
              "          const element = document.querySelector('#df-fe0482ff-3223-4070-981a-82407befa691');\n",
              "          const dataTable =\n",
              "            await google.colab.kernel.invokeFunction('convertToInteractive',\n",
              "                                                     [key], {});\n",
              "          if (!dataTable) return;\n",
              "\n",
              "          const docLinkHtml = 'Like what you see? Visit the ' +\n",
              "            '<a target=\"_blank\" href=https://colab.research.google.com/notebooks/data_table.ipynb>data table notebook</a>'\n",
              "            + ' to learn more about interactive tables.';\n",
              "          element.innerHTML = '';\n",
              "          dataTable['output_type'] = 'display_data';\n",
              "          await google.colab.output.renderOutput(dataTable, element);\n",
              "          const docLink = document.createElement('div');\n",
              "          docLink.innerHTML = docLinkHtml;\n",
              "          element.appendChild(docLink);\n",
              "        }\n",
              "      </script>\n",
              "    </div>\n",
              "  </div>\n",
              "  "
            ]
          },
          "metadata": {},
          "execution_count": 32
        }
      ],
      "source": [
        "# Definimos las variables exogenas (predictores)\n",
        "variables_exogenas = ['surface_total', 'tipo_Casa', 'tipo_Departamento']\n",
        "\n",
        "# Construimos la matriz de X\n",
        "X_train_modelo_sup_propiedad = X_train[variables_exogenas]\n",
        "\n",
        "# Definimos una instancia del modelo lineal con scikit learn\n",
        "modelo_lineal_sup_propiedad = LinearRegression(fit_intercept=True)\n",
        "\n",
        "# Realizamos el proceso de estimación\n",
        "modelo_lineal_sup_propiedad.fit(X_train_modelo_sup_propiedad, y_train)\n",
        "\n",
        "coeficientes_modelo_sup_propiedad = obtener_coeficientes(modelo_lineal_sup_propiedad, variables_exogenas)\n",
        "coeficientes_modelo_sup_propiedad"
      ]
    },
    {
      "cell_type": "markdown",
      "metadata": {
        "id": "QckuqRTsjkxi"
      },
      "source": [
        "¿Cómo se interpretan estos coeficientes?\n",
        "\n",
        "$\\hat{\\beta_0} = -208630$\n",
        "\n",
        "El precio esperado de un PH sin superficie es de -208630 dólares\n",
        "\n",
        "$\\hat{\\beta_1} = 3489$\n",
        "\n",
        "El precio esperado aumenta en 3489 dólares cuando aumenta la superficie total en 1 m2, independientemente del tipo de propiedad\n",
        "\n",
        "$\\hat{\\beta_2} = -212763$\n",
        "\n",
        "Si la propiedad es una casa, el precio esperado será 212763 dólares menor respecto a un PH **dada la misma superficie total**  \n",
        "\n",
        "$\\hat{\\beta_3} = 173962$\n",
        "\n",
        "Si la propiedad es una departamento, el precio esperado será 173962 dólares mayor respecto a un PH **dada la misma superficie total**  \n"
      ]
    },
    {
      "cell_type": "markdown",
      "metadata": {
        "id": "G3ufLTfUSyug"
      },
      "source": [
        "### 3.2 Interacción\n",
        "\n",
        "También es posible que exista un efecto distinto de la superficie total en cada uno de los tipos de propiedades. Para ello vamos a definir un modelo con interacción de la siguiente manera:\n",
        "\n",
        "$E(precio|X) = \\beta_0 + \\beta_1 \\cdot superficieTotal + \\beta_{2}  \\cdot X_{casa} + \\beta_{3}  \\cdot X_{depto} +\n",
        "\\beta_{4}  \\cdot (X_{casa} * superficieTotal) + \\beta_{5}  \\cdot (X_{depto}* superficieTotal)$\n",
        "\n"
      ]
    },
    {
      "cell_type": "code",
      "execution_count": 33,
      "metadata": {
        "id": "uBq4b9zyS5vh"
      },
      "outputs": [],
      "source": [
        "# Creamos las dos variables de interacción\n",
        "X_train['interaccion_sup_casa'] = X_train['tipo_Casa'] * X_train['surface_total']\n",
        "X_train['interaccion_sup_depto'] = X_train['tipo_Departamento'] * X_train['surface_total']"
      ]
    },
    {
      "cell_type": "code",
      "execution_count": 34,
      "metadata": {
        "colab": {
          "base_uri": "https://localhost:8080/",
          "height": 237
        },
        "id": "3EmHl_6_iYkX",
        "outputId": "c4b34410-7897-49ab-8d88-749281bb8160"
      },
      "outputs": [
        {
          "output_type": "execute_result",
          "data": {
            "text/plain": [
              "                variable  coeficiente\n",
              "0             intercepto     68563.19\n",
              "1          surface_total      1058.26\n",
              "2              tipo_Casa    -86032.83\n",
              "3      tipo_Departamento   -166791.39\n",
              "4   interaccion_sup_casa       729.66\n",
              "5  interaccion_sup_depto      3228.13"
            ],
            "text/html": [
              "\n",
              "  <div id=\"df-1c5ba9ae-6f7e-4b72-a468-6090c3c49060\">\n",
              "    <div class=\"colab-df-container\">\n",
              "      <div>\n",
              "<style scoped>\n",
              "    .dataframe tbody tr th:only-of-type {\n",
              "        vertical-align: middle;\n",
              "    }\n",
              "\n",
              "    .dataframe tbody tr th {\n",
              "        vertical-align: top;\n",
              "    }\n",
              "\n",
              "    .dataframe thead th {\n",
              "        text-align: right;\n",
              "    }\n",
              "</style>\n",
              "<table border=\"1\" class=\"dataframe\">\n",
              "  <thead>\n",
              "    <tr style=\"text-align: right;\">\n",
              "      <th></th>\n",
              "      <th>variable</th>\n",
              "      <th>coeficiente</th>\n",
              "    </tr>\n",
              "  </thead>\n",
              "  <tbody>\n",
              "    <tr>\n",
              "      <th>0</th>\n",
              "      <td>intercepto</td>\n",
              "      <td>68563.19</td>\n",
              "    </tr>\n",
              "    <tr>\n",
              "      <th>1</th>\n",
              "      <td>surface_total</td>\n",
              "      <td>1058.26</td>\n",
              "    </tr>\n",
              "    <tr>\n",
              "      <th>2</th>\n",
              "      <td>tipo_Casa</td>\n",
              "      <td>-86032.83</td>\n",
              "    </tr>\n",
              "    <tr>\n",
              "      <th>3</th>\n",
              "      <td>tipo_Departamento</td>\n",
              "      <td>-166791.39</td>\n",
              "    </tr>\n",
              "    <tr>\n",
              "      <th>4</th>\n",
              "      <td>interaccion_sup_casa</td>\n",
              "      <td>729.66</td>\n",
              "    </tr>\n",
              "    <tr>\n",
              "      <th>5</th>\n",
              "      <td>interaccion_sup_depto</td>\n",
              "      <td>3228.13</td>\n",
              "    </tr>\n",
              "  </tbody>\n",
              "</table>\n",
              "</div>\n",
              "      <button class=\"colab-df-convert\" onclick=\"convertToInteractive('df-1c5ba9ae-6f7e-4b72-a468-6090c3c49060')\"\n",
              "              title=\"Convert this dataframe to an interactive table.\"\n",
              "              style=\"display:none;\">\n",
              "        \n",
              "  <svg xmlns=\"http://www.w3.org/2000/svg\" height=\"24px\"viewBox=\"0 0 24 24\"\n",
              "       width=\"24px\">\n",
              "    <path d=\"M0 0h24v24H0V0z\" fill=\"none\"/>\n",
              "    <path d=\"M18.56 5.44l.94 2.06.94-2.06 2.06-.94-2.06-.94-.94-2.06-.94 2.06-2.06.94zm-11 1L8.5 8.5l.94-2.06 2.06-.94-2.06-.94L8.5 2.5l-.94 2.06-2.06.94zm10 10l.94 2.06.94-2.06 2.06-.94-2.06-.94-.94-2.06-.94 2.06-2.06.94z\"/><path d=\"M17.41 7.96l-1.37-1.37c-.4-.4-.92-.59-1.43-.59-.52 0-1.04.2-1.43.59L10.3 9.45l-7.72 7.72c-.78.78-.78 2.05 0 2.83L4 21.41c.39.39.9.59 1.41.59.51 0 1.02-.2 1.41-.59l7.78-7.78 2.81-2.81c.8-.78.8-2.07 0-2.86zM5.41 20L4 18.59l7.72-7.72 1.47 1.35L5.41 20z\"/>\n",
              "  </svg>\n",
              "      </button>\n",
              "      \n",
              "  <style>\n",
              "    .colab-df-container {\n",
              "      display:flex;\n",
              "      flex-wrap:wrap;\n",
              "      gap: 12px;\n",
              "    }\n",
              "\n",
              "    .colab-df-convert {\n",
              "      background-color: #E8F0FE;\n",
              "      border: none;\n",
              "      border-radius: 50%;\n",
              "      cursor: pointer;\n",
              "      display: none;\n",
              "      fill: #1967D2;\n",
              "      height: 32px;\n",
              "      padding: 0 0 0 0;\n",
              "      width: 32px;\n",
              "    }\n",
              "\n",
              "    .colab-df-convert:hover {\n",
              "      background-color: #E2EBFA;\n",
              "      box-shadow: 0px 1px 2px rgba(60, 64, 67, 0.3), 0px 1px 3px 1px rgba(60, 64, 67, 0.15);\n",
              "      fill: #174EA6;\n",
              "    }\n",
              "\n",
              "    [theme=dark] .colab-df-convert {\n",
              "      background-color: #3B4455;\n",
              "      fill: #D2E3FC;\n",
              "    }\n",
              "\n",
              "    [theme=dark] .colab-df-convert:hover {\n",
              "      background-color: #434B5C;\n",
              "      box-shadow: 0px 1px 3px 1px rgba(0, 0, 0, 0.15);\n",
              "      filter: drop-shadow(0px 1px 2px rgba(0, 0, 0, 0.3));\n",
              "      fill: #FFFFFF;\n",
              "    }\n",
              "  </style>\n",
              "\n",
              "      <script>\n",
              "        const buttonEl =\n",
              "          document.querySelector('#df-1c5ba9ae-6f7e-4b72-a468-6090c3c49060 button.colab-df-convert');\n",
              "        buttonEl.style.display =\n",
              "          google.colab.kernel.accessAllowed ? 'block' : 'none';\n",
              "\n",
              "        async function convertToInteractive(key) {\n",
              "          const element = document.querySelector('#df-1c5ba9ae-6f7e-4b72-a468-6090c3c49060');\n",
              "          const dataTable =\n",
              "            await google.colab.kernel.invokeFunction('convertToInteractive',\n",
              "                                                     [key], {});\n",
              "          if (!dataTable) return;\n",
              "\n",
              "          const docLinkHtml = 'Like what you see? Visit the ' +\n",
              "            '<a target=\"_blank\" href=https://colab.research.google.com/notebooks/data_table.ipynb>data table notebook</a>'\n",
              "            + ' to learn more about interactive tables.';\n",
              "          element.innerHTML = '';\n",
              "          dataTable['output_type'] = 'display_data';\n",
              "          await google.colab.output.renderOutput(dataTable, element);\n",
              "          const docLink = document.createElement('div');\n",
              "          docLink.innerHTML = docLinkHtml;\n",
              "          element.appendChild(docLink);\n",
              "        }\n",
              "      </script>\n",
              "    </div>\n",
              "  </div>\n",
              "  "
            ]
          },
          "metadata": {},
          "execution_count": 34
        }
      ],
      "source": [
        "# Definimos las variables exogenas (predictores)\n",
        "variables_exogenas = ['surface_total', 'tipo_Casa', 'tipo_Departamento', 'interaccion_sup_casa', 'interaccion_sup_depto']\n",
        "\n",
        "# Construimos la matriz de X\n",
        "X_train_modelo_interaccion = X_train[variables_exogenas]\n",
        "\n",
        "# Definimos una instancia del modelo lineal con scikit learn\n",
        "modelo_lineal_interaccion = LinearRegression(fit_intercept=True)\n",
        "\n",
        "# Realizamos el proceso de estimación\n",
        "modelo_lineal_interaccion.fit(X_train_modelo_interaccion, y_train)\n",
        "\n",
        "coeficientes_modelo_interaccion = obtener_coeficientes(modelo_lineal_interaccion, variables_exogenas)\n",
        "coeficientes_modelo_interaccion"
      ]
    },
    {
      "cell_type": "markdown",
      "metadata": {
        "id": "AKa_5C9ktIwa"
      },
      "source": [
        "¿Cómo se interpretan coeficientes ?\n",
        "\n",
        "$\\hat{\\beta_0} = 68563$\n",
        "\n",
        "El precio esperado de un PH sin superficie es de 68563 dólares\n",
        "\n",
        "$\\hat{\\beta_1} = 1058$\n",
        "\n",
        "El precio esperado de un PH aumenta en 1058 dólares cuando aumenta la superficie total en 1 m2.\n",
        "\n",
        "Es muy importante notar que ahora $\\hat{\\beta_1}$ nos habla sólo del cambio esperado de la superficie en el precio en los PH, ya que esta es la categoría que quedó en el nivel basal o de comparación\n",
        "\n",
        "$\\hat{\\beta_2} = -86032$\n",
        "\n",
        "Si la propiedad es una casa, el precio esperado será 86032 dólares menor respecto a un PH **dada la misma superficie total**  \n",
        "\n",
        "$\\hat{\\beta_3} = -166791$\n",
        "\n",
        "Si la propiedad es una departamento, el precio esperado será 166791 dólares menor respecto a un PH **dada la misma superficie total**  \n",
        "\n",
        "$\\hat{\\beta_4} = 729$\n",
        "\n",
        "Si la propiedad es una casa, el precio esperado aumenta 729 dólares más respecto a un PH cuando la superficie aumenta en 1 m2.\n",
        "\n",
        "Esto equivale a decir que para una **casa** el precio esperado aumenta en 1787 ($\\hat{\\beta_1} + \\hat{\\beta_4}$) dólares cuando la superficie aumenta en 1 m2\n",
        "\n",
        "$\\hat{\\beta_5} = 3228$\n",
        "\n",
        "Si la propiedad es una departamento, el precio esperado aumenta 3228 dólares más respecto a un PH cuando la superficie aumenta en 1 m2.\n",
        "\n",
        "Esto equivale a decir que para un **departamento** el precio esperado aumenta en 4286 ($\\hat{\\beta_1} + \\hat{\\beta_5}$) dólares cuando la superficie aumenta en 1 m2\n"
      ]
    },
    {
      "cell_type": "markdown",
      "metadata": {
        "id": "OyNnzVcrG-gU"
      },
      "source": [
        "## 4. Evaluación\n",
        "\n",
        "En esta parte vamos a evaluar los resultados obtenidos por algunos de los modelos previos. Por un lado nos interesará observar los resultados de los tests estadísticos de significatividad individual y global y por el otro observar algunas métricas de performance\n"
      ]
    },
    {
      "cell_type": "markdown",
      "metadata": {
        "id": "fpg1-zOsp2Zx"
      },
      "source": [
        "### 4.1 Tests estadísticos\n",
        "\n",
        "Para realizar la evaluación con un enfoque estadístico más tradicional debemos utilizar el modulo [statsmodels](https://www.statsmodels.org/stable/regression.html). Para poder acceder a la información que nos interesa vamos a tener que crear los modelos con esta librería.\n",
        "\n",
        "La librería sklearn no cuenta con las funciones necesarias para realizar la evaluación de los tests estadísticos de los coeficientes estimados.\n",
        "\n",
        "Comencemos preparando los datos para la implementación del modelo lineal en statsmodels\n",
        "\n"
      ]
    },
    {
      "cell_type": "code",
      "execution_count": 35,
      "metadata": {
        "colab": {
          "base_uri": "https://localhost:8080/",
          "height": 206
        },
        "id": "SrRQnVBwj9MD",
        "outputId": "23e9d554-36a0-4b57-d278-5f1f2b4adfad"
      },
      "outputs": [
        {
          "output_type": "execute_result",
          "data": {
            "text/plain": [
              "       const  surface_total  bathrooms\n",
              "36377   1.00          63.00       1.00\n",
              "8124    1.00          42.00       1.00\n",
              "34075   1.00         160.00       1.00\n",
              "28781   1.00         126.00       2.00\n",
              "4876    1.00          32.00       1.00"
            ],
            "text/html": [
              "\n",
              "  <div id=\"df-1ff5b56d-fae3-45a4-93cf-91d159c3759d\">\n",
              "    <div class=\"colab-df-container\">\n",
              "      <div>\n",
              "<style scoped>\n",
              "    .dataframe tbody tr th:only-of-type {\n",
              "        vertical-align: middle;\n",
              "    }\n",
              "\n",
              "    .dataframe tbody tr th {\n",
              "        vertical-align: top;\n",
              "    }\n",
              "\n",
              "    .dataframe thead th {\n",
              "        text-align: right;\n",
              "    }\n",
              "</style>\n",
              "<table border=\"1\" class=\"dataframe\">\n",
              "  <thead>\n",
              "    <tr style=\"text-align: right;\">\n",
              "      <th></th>\n",
              "      <th>const</th>\n",
              "      <th>surface_total</th>\n",
              "      <th>bathrooms</th>\n",
              "    </tr>\n",
              "  </thead>\n",
              "  <tbody>\n",
              "    <tr>\n",
              "      <th>36377</th>\n",
              "      <td>1.00</td>\n",
              "      <td>63.00</td>\n",
              "      <td>1.00</td>\n",
              "    </tr>\n",
              "    <tr>\n",
              "      <th>8124</th>\n",
              "      <td>1.00</td>\n",
              "      <td>42.00</td>\n",
              "      <td>1.00</td>\n",
              "    </tr>\n",
              "    <tr>\n",
              "      <th>34075</th>\n",
              "      <td>1.00</td>\n",
              "      <td>160.00</td>\n",
              "      <td>1.00</td>\n",
              "    </tr>\n",
              "    <tr>\n",
              "      <th>28781</th>\n",
              "      <td>1.00</td>\n",
              "      <td>126.00</td>\n",
              "      <td>2.00</td>\n",
              "    </tr>\n",
              "    <tr>\n",
              "      <th>4876</th>\n",
              "      <td>1.00</td>\n",
              "      <td>32.00</td>\n",
              "      <td>1.00</td>\n",
              "    </tr>\n",
              "  </tbody>\n",
              "</table>\n",
              "</div>\n",
              "      <button class=\"colab-df-convert\" onclick=\"convertToInteractive('df-1ff5b56d-fae3-45a4-93cf-91d159c3759d')\"\n",
              "              title=\"Convert this dataframe to an interactive table.\"\n",
              "              style=\"display:none;\">\n",
              "        \n",
              "  <svg xmlns=\"http://www.w3.org/2000/svg\" height=\"24px\"viewBox=\"0 0 24 24\"\n",
              "       width=\"24px\">\n",
              "    <path d=\"M0 0h24v24H0V0z\" fill=\"none\"/>\n",
              "    <path d=\"M18.56 5.44l.94 2.06.94-2.06 2.06-.94-2.06-.94-.94-2.06-.94 2.06-2.06.94zm-11 1L8.5 8.5l.94-2.06 2.06-.94-2.06-.94L8.5 2.5l-.94 2.06-2.06.94zm10 10l.94 2.06.94-2.06 2.06-.94-2.06-.94-.94-2.06-.94 2.06-2.06.94z\"/><path d=\"M17.41 7.96l-1.37-1.37c-.4-.4-.92-.59-1.43-.59-.52 0-1.04.2-1.43.59L10.3 9.45l-7.72 7.72c-.78.78-.78 2.05 0 2.83L4 21.41c.39.39.9.59 1.41.59.51 0 1.02-.2 1.41-.59l7.78-7.78 2.81-2.81c.8-.78.8-2.07 0-2.86zM5.41 20L4 18.59l7.72-7.72 1.47 1.35L5.41 20z\"/>\n",
              "  </svg>\n",
              "      </button>\n",
              "      \n",
              "  <style>\n",
              "    .colab-df-container {\n",
              "      display:flex;\n",
              "      flex-wrap:wrap;\n",
              "      gap: 12px;\n",
              "    }\n",
              "\n",
              "    .colab-df-convert {\n",
              "      background-color: #E8F0FE;\n",
              "      border: none;\n",
              "      border-radius: 50%;\n",
              "      cursor: pointer;\n",
              "      display: none;\n",
              "      fill: #1967D2;\n",
              "      height: 32px;\n",
              "      padding: 0 0 0 0;\n",
              "      width: 32px;\n",
              "    }\n",
              "\n",
              "    .colab-df-convert:hover {\n",
              "      background-color: #E2EBFA;\n",
              "      box-shadow: 0px 1px 2px rgba(60, 64, 67, 0.3), 0px 1px 3px 1px rgba(60, 64, 67, 0.15);\n",
              "      fill: #174EA6;\n",
              "    }\n",
              "\n",
              "    [theme=dark] .colab-df-convert {\n",
              "      background-color: #3B4455;\n",
              "      fill: #D2E3FC;\n",
              "    }\n",
              "\n",
              "    [theme=dark] .colab-df-convert:hover {\n",
              "      background-color: #434B5C;\n",
              "      box-shadow: 0px 1px 3px 1px rgba(0, 0, 0, 0.15);\n",
              "      filter: drop-shadow(0px 1px 2px rgba(0, 0, 0, 0.3));\n",
              "      fill: #FFFFFF;\n",
              "    }\n",
              "  </style>\n",
              "\n",
              "      <script>\n",
              "        const buttonEl =\n",
              "          document.querySelector('#df-1ff5b56d-fae3-45a4-93cf-91d159c3759d button.colab-df-convert');\n",
              "        buttonEl.style.display =\n",
              "          google.colab.kernel.accessAllowed ? 'block' : 'none';\n",
              "\n",
              "        async function convertToInteractive(key) {\n",
              "          const element = document.querySelector('#df-1ff5b56d-fae3-45a4-93cf-91d159c3759d');\n",
              "          const dataTable =\n",
              "            await google.colab.kernel.invokeFunction('convertToInteractive',\n",
              "                                                     [key], {});\n",
              "          if (!dataTable) return;\n",
              "\n",
              "          const docLinkHtml = 'Like what you see? Visit the ' +\n",
              "            '<a target=\"_blank\" href=https://colab.research.google.com/notebooks/data_table.ipynb>data table notebook</a>'\n",
              "            + ' to learn more about interactive tables.';\n",
              "          element.innerHTML = '';\n",
              "          dataTable['output_type'] = 'display_data';\n",
              "          await google.colab.output.renderOutput(dataTable, element);\n",
              "          const docLink = document.createElement('div');\n",
              "          docLink.innerHTML = docLinkHtml;\n",
              "          element.appendChild(docLink);\n",
              "        }\n",
              "      </script>\n",
              "    </div>\n",
              "  </div>\n",
              "  "
            ]
          },
          "metadata": {},
          "execution_count": 35
        }
      ],
      "source": [
        "# En statsmodels se le agrega el intercepto (en scikit se lo pasamos como un parametro a la instancia del modelo)\n",
        "X_train_modelo_sup_baños_stats = sm.add_constant(X_train_modelo_sup_baños)\n",
        "X_train_modelo_sup_baños_stats.head()"
      ]
    },
    {
      "cell_type": "code",
      "execution_count": 36,
      "metadata": {
        "id": "K-0NKfoqmdxp"
      },
      "outputs": [],
      "source": [
        "# Construimos el modelo\n",
        "modelo_sup_baños_stats = sm.OLS(y_train, X_train_modelo_sup_baños_stats)"
      ]
    },
    {
      "cell_type": "code",
      "execution_count": 37,
      "metadata": {
        "id": "g3elK8xumf7X"
      },
      "outputs": [],
      "source": [
        "# Guardamos los resultados\n",
        "resultados_sup_baños_stats = modelo_sup_baños_stats.fit()"
      ]
    },
    {
      "cell_type": "code",
      "execution_count": 38,
      "metadata": {
        "colab": {
          "base_uri": "https://localhost:8080/"
        },
        "id": "x5NiPKFWoLxN",
        "outputId": "b4718901-3233-4f53-8cee-a7a0ae569a6f"
      },
      "outputs": [
        {
          "output_type": "execute_result",
          "data": {
            "text/plain": [
              "const           -107213.66\n",
              "surface_total      2069.78\n",
              "bathrooms        113359.65\n",
              "dtype: float64"
            ]
          },
          "metadata": {},
          "execution_count": 38
        }
      ],
      "source": [
        "# Accedemos a los coeficientes estimados\n",
        "resultados_sup_baños_stats.params"
      ]
    },
    {
      "cell_type": "markdown",
      "metadata": {
        "id": "ufRhYgVEqKrO"
      },
      "source": [
        "En primer lugar observamos que los coeficientes estimados son iguales a los que obtuvimos utilizando la implementación de scikit learn.\n",
        "\n",
        "Ahora veamos los p valores asociados a los tests de significatividad individual. Recordemos que las hipótesis son:\n",
        "\n",
        "$H_0: \\beta_j = 0$\n",
        "\n",
        "$H_A: \\beta_j \\neq 0$\n",
        "\n",
        "Para rechazar la hipótesis de que el parámetro es igual a cero debemos observar un p valor inferior a 0.05"
      ]
    },
    {
      "cell_type": "code",
      "execution_count": 39,
      "metadata": {
        "colab": {
          "base_uri": "https://localhost:8080/"
        },
        "id": "xTfPtpO9poWd",
        "outputId": "ddafb506-aa79-4a49-f4a0-4c44beda0a9e"
      },
      "outputs": [
        {
          "output_type": "execute_result",
          "data": {
            "text/plain": [
              "const           0.00\n",
              "surface_total   0.00\n",
              "bathrooms       0.00\n",
              "dtype: float64"
            ]
          },
          "metadata": {},
          "execution_count": 39
        }
      ],
      "source": [
        "# Accedemos a los p valores de los tests de significancia individual\n",
        "resultados_sup_baños_stats.pvalues"
      ]
    },
    {
      "cell_type": "markdown",
      "metadata": {
        "id": "Kvg2g2fyd8iN"
      },
      "source": [
        "Continuamos con el test de significatividad global. Las hipotesis son:\n",
        "\n",
        "$H_0: \\text{Todos los } \\beta_j = 0$\n",
        "\n",
        "$H_A: \\text{Algún } \\beta_j \\neq 0$\n"
      ]
    },
    {
      "cell_type": "code",
      "execution_count": 40,
      "metadata": {
        "colab": {
          "base_uri": "https://localhost:8080/"
        },
        "id": "djRXvlacsgwW",
        "outputId": "10adce08-5c27-4759-9c1b-44926835a780"
      },
      "outputs": [
        {
          "output_type": "execute_result",
          "data": {
            "text/plain": [
              "0.0"
            ]
          },
          "metadata": {},
          "execution_count": 40
        }
      ],
      "source": [
        "# Test significatividad global\n",
        "resultados_sup_baños_stats.f_pvalue"
      ]
    },
    {
      "cell_type": "markdown",
      "metadata": {
        "id": "9XIm0siuebXh"
      },
      "source": [
        "Observamos el R cuadrado y R cuadrado ajustado"
      ]
    },
    {
      "cell_type": "code",
      "execution_count": 41,
      "metadata": {
        "colab": {
          "base_uri": "https://localhost:8080/"
        },
        "id": "cNXT9UlYuOVJ",
        "outputId": "e2809230-ba55-4237-d325-8ac8e2736769"
      },
      "outputs": [
        {
          "output_type": "execute_result",
          "data": {
            "text/plain": [
              "0.5713023987671959"
            ]
          },
          "metadata": {},
          "execution_count": 41
        }
      ],
      "source": [
        "# R cuadrado\n",
        "resultados_sup_baños_stats.rsquared"
      ]
    },
    {
      "cell_type": "code",
      "execution_count": 42,
      "metadata": {
        "colab": {
          "base_uri": "https://localhost:8080/"
        },
        "id": "-GDdaRdFuYNO",
        "outputId": "feb83335-8000-44aa-913a-3860526da134"
      },
      "outputs": [
        {
          "output_type": "execute_result",
          "data": {
            "text/plain": [
              "0.5712757060987714"
            ]
          },
          "metadata": {},
          "execution_count": 42
        }
      ],
      "source": [
        "# R cuadrado ajustado\n",
        "resultados_sup_baños_stats.rsquared_adj"
      ]
    },
    {
      "cell_type": "markdown",
      "metadata": {
        "id": "cf5L21e4eaMu"
      },
      "source": [
        "Toda esta información a la que fuimos accediendo (junto a mucha información más) se puede obtener imprimiendo el `summary` de los resultados.\n",
        "\n"
      ]
    },
    {
      "cell_type": "code",
      "execution_count": 43,
      "metadata": {
        "colab": {
          "base_uri": "https://localhost:8080/"
        },
        "id": "Tx33zEXIsgiX",
        "outputId": "33547a55-1c21-41b4-a02a-3e38eedbc6ae"
      },
      "outputs": [
        {
          "output_type": "stream",
          "name": "stdout",
          "text": [
            "                            OLS Regression Results                            \n",
            "==============================================================================\n",
            "Dep. Variable:                  price   R-squared:                       0.571\n",
            "Model:                            OLS   Adj. R-squared:                  0.571\n",
            "Method:                 Least Squares   F-statistic:                 2.140e+04\n",
            "Date:                Thu, 29 Jun 2023   Prob (F-statistic):               0.00\n",
            "Time:                        03:34:36   Log-Likelihood:            -4.3859e+05\n",
            "No. Observations:               32124   AIC:                         8.772e+05\n",
            "Df Residuals:                   32121   BIC:                         8.772e+05\n",
            "Df Model:                           2                                         \n",
            "Covariance Type:            nonrobust                                         \n",
            "=================================================================================\n",
            "                    coef    std err          t      P>|t|      [0.025      0.975]\n",
            "---------------------------------------------------------------------------------\n",
            "const         -1.072e+05   2338.152    -45.854      0.000   -1.12e+05   -1.03e+05\n",
            "surface_total  2069.7756     22.252     93.016      0.000    2026.161    2113.390\n",
            "bathrooms      1.134e+05   2032.921     55.762      0.000    1.09e+05    1.17e+05\n",
            "==============================================================================\n",
            "Omnibus:                    33294.388   Durbin-Watson:                   2.000\n",
            "Prob(Omnibus):                  0.000   Jarque-Bera (JB):          7432291.005\n",
            "Skew:                           4.728   Prob(JB):                         0.00\n",
            "Kurtosis:                      76.914   Cond. No.                         291.\n",
            "==============================================================================\n",
            "\n",
            "Notes:\n",
            "[1] Standard Errors assume that the covariance matrix of the errors is correctly specified.\n"
          ]
        }
      ],
      "source": [
        "print(resultados_sup_baños_stats.summary())"
      ]
    },
    {
      "cell_type": "markdown",
      "metadata": {
        "id": "r-8CIdOh9yla"
      },
      "source": [
        "Ahora observemos estos elementos para el modelo de interacción que contaba con una mayor cantidad de variables predictoras. Tengamos en cuenta que vamos a observar el resumen para tratar de contestar las siguientes preguntas:\n",
        "\n",
        "* ¿Tiene sentido utilizar esta especificación del modelo para explicar/predecir el precio de las propiedades? (significatividad global)\n",
        "\n",
        "* ¿Cada variable presenta una relación estadísticamente significativa con el precio? (significatividad individual)\n",
        "\n",
        "* ¿Qué porcentaje de la variabilidad explica el modelo? ¿Cómo se compara respecto al modelo con menos variables que estimamos antes? (R cuadrado)"
      ]
    },
    {
      "cell_type": "code",
      "execution_count": 44,
      "metadata": {
        "colab": {
          "base_uri": "https://localhost:8080/"
        },
        "id": "M0TDRCc_3mnj",
        "outputId": "f4deb9a1-f358-4677-ab82-a356ab5b4dbf"
      },
      "outputs": [
        {
          "output_type": "stream",
          "name": "stdout",
          "text": [
            "                            OLS Regression Results                            \n",
            "==============================================================================\n",
            "Dep. Variable:                  price   R-squared:                       0.675\n",
            "Model:                            OLS   Adj. R-squared:                  0.675\n",
            "Method:                 Least Squares   F-statistic:                 1.335e+04\n",
            "Date:                Thu, 29 Jun 2023   Prob (F-statistic):               0.00\n",
            "Time:                        03:34:37   Log-Likelihood:            -4.3413e+05\n",
            "No. Observations:               32124   AIC:                         8.683e+05\n",
            "Df Residuals:                   32118   BIC:                         8.683e+05\n",
            "Df Model:                           5                                         \n",
            "Covariance Type:            nonrobust                                         \n",
            "=========================================================================================\n",
            "                            coef    std err          t      P>|t|      [0.025      0.975]\n",
            "-----------------------------------------------------------------------------------------\n",
            "const                  6.856e+04   6310.502     10.865      0.000    5.62e+04    8.09e+04\n",
            "surface_total          1058.2632     46.590     22.714      0.000     966.944    1149.582\n",
            "tipo_Casa             -8.603e+04   1.11e+04     -7.751      0.000   -1.08e+05   -6.43e+04\n",
            "tipo_Departamento     -1.668e+05   6546.818    -25.477      0.000    -1.8e+05   -1.54e+05\n",
            "interaccion_sup_casa    729.6612     57.091     12.781      0.000     617.760     841.562\n",
            "interaccion_sup_depto  3228.1323     49.676     64.983      0.000    3130.765    3325.500\n",
            "==============================================================================\n",
            "Omnibus:                    34358.273   Durbin-Watson:                   1.996\n",
            "Prob(Omnibus):                  0.000   Jarque-Bera (JB):          8193012.339\n",
            "Skew:                           4.987   Prob(JB):                         0.00\n",
            "Kurtosis:                      80.599   Cond. No.                     1.85e+03\n",
            "==============================================================================\n",
            "\n",
            "Notes:\n",
            "[1] Standard Errors assume that the covariance matrix of the errors is correctly specified.\n",
            "[2] The condition number is large, 1.85e+03. This might indicate that there are\n",
            "strong multicollinearity or other numerical problems.\n"
          ]
        }
      ],
      "source": [
        "# En stats models se le agrega el intercepto\n",
        "X_train_interaccion_stats = sm.add_constant(X_train_modelo_interaccion)\n",
        "\n",
        "#Construimos el modelo\n",
        "modelo_interaccion_stats = sm.OLS(y_train, X_train_interaccion_stats)\n",
        "\n",
        "# Estimamos los parámetros\n",
        "resultados_interaccion = modelo_interaccion_stats.fit()\n",
        "\n",
        "# Imprimimos el resumen\n",
        "print(resultados_interaccion.summary())"
      ]
    },
    {
      "cell_type": "markdown",
      "metadata": {
        "id": "RDUC3Hl8BiwB"
      },
      "source": [
        "### 4.2 Métricas de performance\n",
        "\n",
        "En la sección anterior observamos algunas formas de evaluación típicas del enfoque estadístico para nuestros modelos. Ahora veamos algunas métricas de evaluación muy usuales para los problemas de regresión en Machine Learning.\n",
        "\n",
        "Vamos a observar los valores de las siguientes métricas:\n",
        "\n",
        "**Mean Squared Error /Error Cuadrático Medio**\n",
        "\n",
        "$MSE = \\frac{1}{n} \\sum_{i=1}^{n} (Y_i - \\hat{Y_i})^2$\n",
        "\n",
        "**Root Mean Squared Error /Raiz del Error Cuadrático Medio**\n",
        "\n",
        "$RMSE = \\sqrt{MSE}$\n",
        "\n",
        "**Mean Absolute Error /Error Absoluto Medio**\n",
        "\n",
        "$MAE = \\frac{1}{n} \\sum_{i=1}^{n} |Y_i - \\hat{Y_i}|$\n",
        "\n",
        "Además nos va a interesar comparar los valores de estas métricas para el set de entrenamiento y para el set de evaluación\n"
      ]
    },
    {
      "cell_type": "code",
      "execution_count": 45,
      "metadata": {
        "id": "aeQXznVMB4Lw"
      },
      "outputs": [],
      "source": [
        "# Importamos las métricas desde scikit-learn\n",
        "from sklearn.metrics import r2_score, mean_squared_error, mean_absolute_error"
      ]
    },
    {
      "cell_type": "markdown",
      "metadata": {
        "id": "SW37_1QCkJTZ"
      },
      "source": [
        "Todas estas funciones toman como argumentos:\n",
        "\n",
        "`y_true`: vector/array/serie de los valores reales de Y\n",
        "\n",
        "`y_pred`: vector/array/serie de los valores predichos de Y\n",
        "\n",
        "Para obtener los valores predichos de y vamos a utilizar el método `predict()` de los modelos que hemos creado."
      ]
    },
    {
      "cell_type": "code",
      "execution_count": 46,
      "metadata": {
        "colab": {
          "base_uri": "https://localhost:8080/"
        },
        "id": "fdQ85IgRBq62",
        "outputId": "2bd62ae7-e35c-4634-8a10-4893599904bd"
      },
      "outputs": [
        {
          "output_type": "execute_result",
          "data": {
            "text/plain": [
              "array([136541.85494006,  93076.5665879 , 337310.09161432, ...,\n",
              "        95146.34222371, 105495.2204028 ,  97216.11785953])"
            ]
          },
          "metadata": {},
          "execution_count": 46
        }
      ],
      "source": [
        "# Predecimos los valores de y con nuestro modelo\n",
        "y_train_sup_baños = modelo_lineal_sup_baños.predict(X_train_modelo_sup_baños)\n",
        "y_train_sup_baños"
      ]
    },
    {
      "cell_type": "code",
      "execution_count": 47,
      "metadata": {
        "colab": {
          "base_uri": "https://localhost:8080/"
        },
        "id": "kddW53yOCXKT",
        "outputId": "e5f81bef-b497-4a04-8301-3130cf586c5a"
      },
      "outputs": [
        {
          "output_type": "execute_result",
          "data": {
            "text/plain": [
              "0.5713023987671959"
            ]
          },
          "metadata": {},
          "execution_count": 47
        }
      ],
      "source": [
        "# Calculamos R cuadrado\n",
        "r2_score(y_train, y_train_sup_baños)"
      ]
    },
    {
      "cell_type": "code",
      "execution_count": 48,
      "metadata": {
        "colab": {
          "base_uri": "https://localhost:8080/"
        },
        "id": "xAOnzXuMClj2",
        "outputId": "2d7e1356-6aac-4117-e0d2-f1ae6018d880"
      },
      "outputs": [
        {
          "output_type": "execute_result",
          "data": {
            "text/plain": [
              "42307799437.76274"
            ]
          },
          "metadata": {},
          "execution_count": 48
        }
      ],
      "source": [
        "# Calculamos MSE\n",
        "mean_squared_error(y_train, y_train_sup_baños)"
      ]
    },
    {
      "cell_type": "code",
      "execution_count": 49,
      "metadata": {
        "colab": {
          "base_uri": "https://localhost:8080/"
        },
        "id": "Y23SNOC6GvVm",
        "outputId": "6c8bd208-9076-4588-d71a-001cdc5aea4e"
      },
      "outputs": [
        {
          "output_type": "execute_result",
          "data": {
            "text/plain": [
              "205688.59822013165"
            ]
          },
          "metadata": {},
          "execution_count": 49
        }
      ],
      "source": [
        "# Calculamos RMSE\n",
        "np.sqrt(mean_squared_error(y_train, y_train_sup_baños))"
      ]
    },
    {
      "cell_type": "code",
      "execution_count": 50,
      "metadata": {
        "colab": {
          "base_uri": "https://localhost:8080/"
        },
        "id": "PfbzE0GZClWW",
        "outputId": "76d6af7a-a941-4a26-aae9-f2a69bcce6be"
      },
      "outputs": [
        {
          "output_type": "execute_result",
          "data": {
            "text/plain": [
              "90799.88306152548"
            ]
          },
          "metadata": {},
          "execution_count": 50
        }
      ],
      "source": [
        "# Calculamos MAE\n",
        "mean_absolute_error(y_train, y_train_sup_baños)"
      ]
    },
    {
      "cell_type": "markdown",
      "metadata": {
        "id": "GtQKJgQUlEWt"
      },
      "source": [
        "Como nos interesa obtener estas 4 métricas para los modelos podemos crear una función que las calcule y nos devuelva un dataframe"
      ]
    },
    {
      "cell_type": "code",
      "execution_count": 51,
      "metadata": {
        "id": "VkK0sF22ESOh"
      },
      "outputs": [],
      "source": [
        "def obtener_metricas_performance(y_verdadera, y_predicha, tipo_dataset):\n",
        "    r2 = r2_score(y_verdadera, y_predicha)\n",
        "    mse = mean_squared_error(y_verdadera, y_predicha)\n",
        "    rmse = np.sqrt(mse)\n",
        "    mae = mean_absolute_error(y_verdadera, y_predicha)\n",
        "    return pd.DataFrame({'metrica': ['R2', 'MSE', 'RMSE', 'MAE'],\n",
        "                         'valor':[r2, mse, rmse, mae],\n",
        "                         'tipo_dataset':tipo_dataset})"
      ]
    },
    {
      "cell_type": "code",
      "execution_count": 52,
      "metadata": {
        "colab": {
          "base_uri": "https://localhost:8080/",
          "height": 175
        },
        "id": "diOmezXdG4UU",
        "outputId": "511cc98b-53ff-4c0a-a20f-4f52bc4e1486"
      },
      "outputs": [
        {
          "output_type": "execute_result",
          "data": {
            "text/plain": [
              "  metrica          valor   tipo_dataset\n",
              "0      R2           0.57  entrenamiento\n",
              "1     MSE 42307799437.76  entrenamiento\n",
              "2    RMSE      205688.60  entrenamiento\n",
              "3     MAE       90799.88  entrenamiento"
            ],
            "text/html": [
              "\n",
              "  <div id=\"df-368601a2-96aa-4286-8ffd-fc24727671ae\">\n",
              "    <div class=\"colab-df-container\">\n",
              "      <div>\n",
              "<style scoped>\n",
              "    .dataframe tbody tr th:only-of-type {\n",
              "        vertical-align: middle;\n",
              "    }\n",
              "\n",
              "    .dataframe tbody tr th {\n",
              "        vertical-align: top;\n",
              "    }\n",
              "\n",
              "    .dataframe thead th {\n",
              "        text-align: right;\n",
              "    }\n",
              "</style>\n",
              "<table border=\"1\" class=\"dataframe\">\n",
              "  <thead>\n",
              "    <tr style=\"text-align: right;\">\n",
              "      <th></th>\n",
              "      <th>metrica</th>\n",
              "      <th>valor</th>\n",
              "      <th>tipo_dataset</th>\n",
              "    </tr>\n",
              "  </thead>\n",
              "  <tbody>\n",
              "    <tr>\n",
              "      <th>0</th>\n",
              "      <td>R2</td>\n",
              "      <td>0.57</td>\n",
              "      <td>entrenamiento</td>\n",
              "    </tr>\n",
              "    <tr>\n",
              "      <th>1</th>\n",
              "      <td>MSE</td>\n",
              "      <td>42307799437.76</td>\n",
              "      <td>entrenamiento</td>\n",
              "    </tr>\n",
              "    <tr>\n",
              "      <th>2</th>\n",
              "      <td>RMSE</td>\n",
              "      <td>205688.60</td>\n",
              "      <td>entrenamiento</td>\n",
              "    </tr>\n",
              "    <tr>\n",
              "      <th>3</th>\n",
              "      <td>MAE</td>\n",
              "      <td>90799.88</td>\n",
              "      <td>entrenamiento</td>\n",
              "    </tr>\n",
              "  </tbody>\n",
              "</table>\n",
              "</div>\n",
              "      <button class=\"colab-df-convert\" onclick=\"convertToInteractive('df-368601a2-96aa-4286-8ffd-fc24727671ae')\"\n",
              "              title=\"Convert this dataframe to an interactive table.\"\n",
              "              style=\"display:none;\">\n",
              "        \n",
              "  <svg xmlns=\"http://www.w3.org/2000/svg\" height=\"24px\"viewBox=\"0 0 24 24\"\n",
              "       width=\"24px\">\n",
              "    <path d=\"M0 0h24v24H0V0z\" fill=\"none\"/>\n",
              "    <path d=\"M18.56 5.44l.94 2.06.94-2.06 2.06-.94-2.06-.94-.94-2.06-.94 2.06-2.06.94zm-11 1L8.5 8.5l.94-2.06 2.06-.94-2.06-.94L8.5 2.5l-.94 2.06-2.06.94zm10 10l.94 2.06.94-2.06 2.06-.94-2.06-.94-.94-2.06-.94 2.06-2.06.94z\"/><path d=\"M17.41 7.96l-1.37-1.37c-.4-.4-.92-.59-1.43-.59-.52 0-1.04.2-1.43.59L10.3 9.45l-7.72 7.72c-.78.78-.78 2.05 0 2.83L4 21.41c.39.39.9.59 1.41.59.51 0 1.02-.2 1.41-.59l7.78-7.78 2.81-2.81c.8-.78.8-2.07 0-2.86zM5.41 20L4 18.59l7.72-7.72 1.47 1.35L5.41 20z\"/>\n",
              "  </svg>\n",
              "      </button>\n",
              "      \n",
              "  <style>\n",
              "    .colab-df-container {\n",
              "      display:flex;\n",
              "      flex-wrap:wrap;\n",
              "      gap: 12px;\n",
              "    }\n",
              "\n",
              "    .colab-df-convert {\n",
              "      background-color: #E8F0FE;\n",
              "      border: none;\n",
              "      border-radius: 50%;\n",
              "      cursor: pointer;\n",
              "      display: none;\n",
              "      fill: #1967D2;\n",
              "      height: 32px;\n",
              "      padding: 0 0 0 0;\n",
              "      width: 32px;\n",
              "    }\n",
              "\n",
              "    .colab-df-convert:hover {\n",
              "      background-color: #E2EBFA;\n",
              "      box-shadow: 0px 1px 2px rgba(60, 64, 67, 0.3), 0px 1px 3px 1px rgba(60, 64, 67, 0.15);\n",
              "      fill: #174EA6;\n",
              "    }\n",
              "\n",
              "    [theme=dark] .colab-df-convert {\n",
              "      background-color: #3B4455;\n",
              "      fill: #D2E3FC;\n",
              "    }\n",
              "\n",
              "    [theme=dark] .colab-df-convert:hover {\n",
              "      background-color: #434B5C;\n",
              "      box-shadow: 0px 1px 3px 1px rgba(0, 0, 0, 0.15);\n",
              "      filter: drop-shadow(0px 1px 2px rgba(0, 0, 0, 0.3));\n",
              "      fill: #FFFFFF;\n",
              "    }\n",
              "  </style>\n",
              "\n",
              "      <script>\n",
              "        const buttonEl =\n",
              "          document.querySelector('#df-368601a2-96aa-4286-8ffd-fc24727671ae button.colab-df-convert');\n",
              "        buttonEl.style.display =\n",
              "          google.colab.kernel.accessAllowed ? 'block' : 'none';\n",
              "\n",
              "        async function convertToInteractive(key) {\n",
              "          const element = document.querySelector('#df-368601a2-96aa-4286-8ffd-fc24727671ae');\n",
              "          const dataTable =\n",
              "            await google.colab.kernel.invokeFunction('convertToInteractive',\n",
              "                                                     [key], {});\n",
              "          if (!dataTable) return;\n",
              "\n",
              "          const docLinkHtml = 'Like what you see? Visit the ' +\n",
              "            '<a target=\"_blank\" href=https://colab.research.google.com/notebooks/data_table.ipynb>data table notebook</a>'\n",
              "            + ' to learn more about interactive tables.';\n",
              "          element.innerHTML = '';\n",
              "          dataTable['output_type'] = 'display_data';\n",
              "          await google.colab.output.renderOutput(dataTable, element);\n",
              "          const docLink = document.createElement('div');\n",
              "          docLink.innerHTML = docLinkHtml;\n",
              "          element.appendChild(docLink);\n",
              "        }\n",
              "      </script>\n",
              "    </div>\n",
              "  </div>\n",
              "  "
            ]
          },
          "metadata": {},
          "execution_count": 52
        }
      ],
      "source": [
        "# Obtenemos nuestro dataframe de métricas de performance\n",
        "performance_train_sup_baños = obtener_metricas_performance(y_train, y_train_sup_baños,'entrenamiento')\n",
        "performance_train_sup_baños"
      ]
    },
    {
      "cell_type": "code",
      "execution_count": 53,
      "metadata": {
        "colab": {
          "base_uri": "https://localhost:8080/",
          "height": 175
        },
        "id": "CKogQygzHTQp",
        "outputId": "8dfa5c09-54e8-424a-f640-0a6dfd5abcea"
      },
      "outputs": [
        {
          "output_type": "execute_result",
          "data": {
            "text/plain": [
              "  metrica          valor   tipo_dataset\n",
              "0      R2           0.68  entrenamiento\n",
              "1     MSE 32056546297.04  entrenamiento\n",
              "2    RMSE      179043.42  entrenamiento\n",
              "3     MAE       84810.58  entrenamiento"
            ],
            "text/html": [
              "\n",
              "  <div id=\"df-b9633b11-891e-4860-af8f-40dbe14e2941\">\n",
              "    <div class=\"colab-df-container\">\n",
              "      <div>\n",
              "<style scoped>\n",
              "    .dataframe tbody tr th:only-of-type {\n",
              "        vertical-align: middle;\n",
              "    }\n",
              "\n",
              "    .dataframe tbody tr th {\n",
              "        vertical-align: top;\n",
              "    }\n",
              "\n",
              "    .dataframe thead th {\n",
              "        text-align: right;\n",
              "    }\n",
              "</style>\n",
              "<table border=\"1\" class=\"dataframe\">\n",
              "  <thead>\n",
              "    <tr style=\"text-align: right;\">\n",
              "      <th></th>\n",
              "      <th>metrica</th>\n",
              "      <th>valor</th>\n",
              "      <th>tipo_dataset</th>\n",
              "    </tr>\n",
              "  </thead>\n",
              "  <tbody>\n",
              "    <tr>\n",
              "      <th>0</th>\n",
              "      <td>R2</td>\n",
              "      <td>0.68</td>\n",
              "      <td>entrenamiento</td>\n",
              "    </tr>\n",
              "    <tr>\n",
              "      <th>1</th>\n",
              "      <td>MSE</td>\n",
              "      <td>32056546297.04</td>\n",
              "      <td>entrenamiento</td>\n",
              "    </tr>\n",
              "    <tr>\n",
              "      <th>2</th>\n",
              "      <td>RMSE</td>\n",
              "      <td>179043.42</td>\n",
              "      <td>entrenamiento</td>\n",
              "    </tr>\n",
              "    <tr>\n",
              "      <th>3</th>\n",
              "      <td>MAE</td>\n",
              "      <td>84810.58</td>\n",
              "      <td>entrenamiento</td>\n",
              "    </tr>\n",
              "  </tbody>\n",
              "</table>\n",
              "</div>\n",
              "      <button class=\"colab-df-convert\" onclick=\"convertToInteractive('df-b9633b11-891e-4860-af8f-40dbe14e2941')\"\n",
              "              title=\"Convert this dataframe to an interactive table.\"\n",
              "              style=\"display:none;\">\n",
              "        \n",
              "  <svg xmlns=\"http://www.w3.org/2000/svg\" height=\"24px\"viewBox=\"0 0 24 24\"\n",
              "       width=\"24px\">\n",
              "    <path d=\"M0 0h24v24H0V0z\" fill=\"none\"/>\n",
              "    <path d=\"M18.56 5.44l.94 2.06.94-2.06 2.06-.94-2.06-.94-.94-2.06-.94 2.06-2.06.94zm-11 1L8.5 8.5l.94-2.06 2.06-.94-2.06-.94L8.5 2.5l-.94 2.06-2.06.94zm10 10l.94 2.06.94-2.06 2.06-.94-2.06-.94-.94-2.06-.94 2.06-2.06.94z\"/><path d=\"M17.41 7.96l-1.37-1.37c-.4-.4-.92-.59-1.43-.59-.52 0-1.04.2-1.43.59L10.3 9.45l-7.72 7.72c-.78.78-.78 2.05 0 2.83L4 21.41c.39.39.9.59 1.41.59.51 0 1.02-.2 1.41-.59l7.78-7.78 2.81-2.81c.8-.78.8-2.07 0-2.86zM5.41 20L4 18.59l7.72-7.72 1.47 1.35L5.41 20z\"/>\n",
              "  </svg>\n",
              "      </button>\n",
              "      \n",
              "  <style>\n",
              "    .colab-df-container {\n",
              "      display:flex;\n",
              "      flex-wrap:wrap;\n",
              "      gap: 12px;\n",
              "    }\n",
              "\n",
              "    .colab-df-convert {\n",
              "      background-color: #E8F0FE;\n",
              "      border: none;\n",
              "      border-radius: 50%;\n",
              "      cursor: pointer;\n",
              "      display: none;\n",
              "      fill: #1967D2;\n",
              "      height: 32px;\n",
              "      padding: 0 0 0 0;\n",
              "      width: 32px;\n",
              "    }\n",
              "\n",
              "    .colab-df-convert:hover {\n",
              "      background-color: #E2EBFA;\n",
              "      box-shadow: 0px 1px 2px rgba(60, 64, 67, 0.3), 0px 1px 3px 1px rgba(60, 64, 67, 0.15);\n",
              "      fill: #174EA6;\n",
              "    }\n",
              "\n",
              "    [theme=dark] .colab-df-convert {\n",
              "      background-color: #3B4455;\n",
              "      fill: #D2E3FC;\n",
              "    }\n",
              "\n",
              "    [theme=dark] .colab-df-convert:hover {\n",
              "      background-color: #434B5C;\n",
              "      box-shadow: 0px 1px 3px 1px rgba(0, 0, 0, 0.15);\n",
              "      filter: drop-shadow(0px 1px 2px rgba(0, 0, 0, 0.3));\n",
              "      fill: #FFFFFF;\n",
              "    }\n",
              "  </style>\n",
              "\n",
              "      <script>\n",
              "        const buttonEl =\n",
              "          document.querySelector('#df-b9633b11-891e-4860-af8f-40dbe14e2941 button.colab-df-convert');\n",
              "        buttonEl.style.display =\n",
              "          google.colab.kernel.accessAllowed ? 'block' : 'none';\n",
              "\n",
              "        async function convertToInteractive(key) {\n",
              "          const element = document.querySelector('#df-b9633b11-891e-4860-af8f-40dbe14e2941');\n",
              "          const dataTable =\n",
              "            await google.colab.kernel.invokeFunction('convertToInteractive',\n",
              "                                                     [key], {});\n",
              "          if (!dataTable) return;\n",
              "\n",
              "          const docLinkHtml = 'Like what you see? Visit the ' +\n",
              "            '<a target=\"_blank\" href=https://colab.research.google.com/notebooks/data_table.ipynb>data table notebook</a>'\n",
              "            + ' to learn more about interactive tables.';\n",
              "          element.innerHTML = '';\n",
              "          dataTable['output_type'] = 'display_data';\n",
              "          await google.colab.output.renderOutput(dataTable, element);\n",
              "          const docLink = document.createElement('div');\n",
              "          docLink.innerHTML = docLinkHtml;\n",
              "          element.appendChild(docLink);\n",
              "        }\n",
              "      </script>\n",
              "    </div>\n",
              "  </div>\n",
              "  "
            ]
          },
          "metadata": {},
          "execution_count": 53
        }
      ],
      "source": [
        "# Ahora observemos las métricas del modelo de interacción en entrenamiento\n",
        "y_train_interaccion = modelo_lineal_interaccion.predict(X_train_modelo_interaccion)\n",
        "performance_train_interaccion = obtener_metricas_performance(y_train, y_train_interaccion, 'entrenamiento')\n",
        "performance_train_interaccion"
      ]
    },
    {
      "cell_type": "markdown",
      "metadata": {
        "id": "MIBuIz5glZ_p"
      },
      "source": [
        "Ahora observemos las métricas de performance de estos dos modelos en el dataset de evaluación"
      ]
    },
    {
      "cell_type": "code",
      "execution_count": 54,
      "metadata": {
        "id": "WbPXv-HQZd-B"
      },
      "outputs": [],
      "source": [
        "# Creamos la matrix de X para el modelo de superficie y baños\n",
        "X_test_sup_baños = X_test[['surface_total', 'bathrooms']]"
      ]
    },
    {
      "cell_type": "code",
      "execution_count": 55,
      "metadata": {
        "colab": {
          "base_uri": "https://localhost:8080/",
          "height": 300
        },
        "id": "vnNOES6RZU9X",
        "outputId": "94591e07-e20a-4b47-dc64-5ce56059cbf7"
      },
      "outputs": [
        {
          "output_type": "execute_result",
          "data": {
            "text/plain": [
              "  metrica          valor   tipo_dataset\n",
              "0      R2           0.57  entrenamiento\n",
              "1     MSE 42307799437.76  entrenamiento\n",
              "2    RMSE      205688.60  entrenamiento\n",
              "3     MAE       90799.88  entrenamiento\n",
              "0      R2           0.52     evaluacion\n",
              "1     MSE 50265146409.85     evaluacion\n",
              "2    RMSE      224198.90     evaluacion\n",
              "3     MAE       92456.48     evaluacion"
            ],
            "text/html": [
              "\n",
              "  <div id=\"df-70399038-941c-4744-ad0a-f5aa4876bcc0\">\n",
              "    <div class=\"colab-df-container\">\n",
              "      <div>\n",
              "<style scoped>\n",
              "    .dataframe tbody tr th:only-of-type {\n",
              "        vertical-align: middle;\n",
              "    }\n",
              "\n",
              "    .dataframe tbody tr th {\n",
              "        vertical-align: top;\n",
              "    }\n",
              "\n",
              "    .dataframe thead th {\n",
              "        text-align: right;\n",
              "    }\n",
              "</style>\n",
              "<table border=\"1\" class=\"dataframe\">\n",
              "  <thead>\n",
              "    <tr style=\"text-align: right;\">\n",
              "      <th></th>\n",
              "      <th>metrica</th>\n",
              "      <th>valor</th>\n",
              "      <th>tipo_dataset</th>\n",
              "    </tr>\n",
              "  </thead>\n",
              "  <tbody>\n",
              "    <tr>\n",
              "      <th>0</th>\n",
              "      <td>R2</td>\n",
              "      <td>0.57</td>\n",
              "      <td>entrenamiento</td>\n",
              "    </tr>\n",
              "    <tr>\n",
              "      <th>1</th>\n",
              "      <td>MSE</td>\n",
              "      <td>42307799437.76</td>\n",
              "      <td>entrenamiento</td>\n",
              "    </tr>\n",
              "    <tr>\n",
              "      <th>2</th>\n",
              "      <td>RMSE</td>\n",
              "      <td>205688.60</td>\n",
              "      <td>entrenamiento</td>\n",
              "    </tr>\n",
              "    <tr>\n",
              "      <th>3</th>\n",
              "      <td>MAE</td>\n",
              "      <td>90799.88</td>\n",
              "      <td>entrenamiento</td>\n",
              "    </tr>\n",
              "    <tr>\n",
              "      <th>0</th>\n",
              "      <td>R2</td>\n",
              "      <td>0.52</td>\n",
              "      <td>evaluacion</td>\n",
              "    </tr>\n",
              "    <tr>\n",
              "      <th>1</th>\n",
              "      <td>MSE</td>\n",
              "      <td>50265146409.85</td>\n",
              "      <td>evaluacion</td>\n",
              "    </tr>\n",
              "    <tr>\n",
              "      <th>2</th>\n",
              "      <td>RMSE</td>\n",
              "      <td>224198.90</td>\n",
              "      <td>evaluacion</td>\n",
              "    </tr>\n",
              "    <tr>\n",
              "      <th>3</th>\n",
              "      <td>MAE</td>\n",
              "      <td>92456.48</td>\n",
              "      <td>evaluacion</td>\n",
              "    </tr>\n",
              "  </tbody>\n",
              "</table>\n",
              "</div>\n",
              "      <button class=\"colab-df-convert\" onclick=\"convertToInteractive('df-70399038-941c-4744-ad0a-f5aa4876bcc0')\"\n",
              "              title=\"Convert this dataframe to an interactive table.\"\n",
              "              style=\"display:none;\">\n",
              "        \n",
              "  <svg xmlns=\"http://www.w3.org/2000/svg\" height=\"24px\"viewBox=\"0 0 24 24\"\n",
              "       width=\"24px\">\n",
              "    <path d=\"M0 0h24v24H0V0z\" fill=\"none\"/>\n",
              "    <path d=\"M18.56 5.44l.94 2.06.94-2.06 2.06-.94-2.06-.94-.94-2.06-.94 2.06-2.06.94zm-11 1L8.5 8.5l.94-2.06 2.06-.94-2.06-.94L8.5 2.5l-.94 2.06-2.06.94zm10 10l.94 2.06.94-2.06 2.06-.94-2.06-.94-.94-2.06-.94 2.06-2.06.94z\"/><path d=\"M17.41 7.96l-1.37-1.37c-.4-.4-.92-.59-1.43-.59-.52 0-1.04.2-1.43.59L10.3 9.45l-7.72 7.72c-.78.78-.78 2.05 0 2.83L4 21.41c.39.39.9.59 1.41.59.51 0 1.02-.2 1.41-.59l7.78-7.78 2.81-2.81c.8-.78.8-2.07 0-2.86zM5.41 20L4 18.59l7.72-7.72 1.47 1.35L5.41 20z\"/>\n",
              "  </svg>\n",
              "      </button>\n",
              "      \n",
              "  <style>\n",
              "    .colab-df-container {\n",
              "      display:flex;\n",
              "      flex-wrap:wrap;\n",
              "      gap: 12px;\n",
              "    }\n",
              "\n",
              "    .colab-df-convert {\n",
              "      background-color: #E8F0FE;\n",
              "      border: none;\n",
              "      border-radius: 50%;\n",
              "      cursor: pointer;\n",
              "      display: none;\n",
              "      fill: #1967D2;\n",
              "      height: 32px;\n",
              "      padding: 0 0 0 0;\n",
              "      width: 32px;\n",
              "    }\n",
              "\n",
              "    .colab-df-convert:hover {\n",
              "      background-color: #E2EBFA;\n",
              "      box-shadow: 0px 1px 2px rgba(60, 64, 67, 0.3), 0px 1px 3px 1px rgba(60, 64, 67, 0.15);\n",
              "      fill: #174EA6;\n",
              "    }\n",
              "\n",
              "    [theme=dark] .colab-df-convert {\n",
              "      background-color: #3B4455;\n",
              "      fill: #D2E3FC;\n",
              "    }\n",
              "\n",
              "    [theme=dark] .colab-df-convert:hover {\n",
              "      background-color: #434B5C;\n",
              "      box-shadow: 0px 1px 3px 1px rgba(0, 0, 0, 0.15);\n",
              "      filter: drop-shadow(0px 1px 2px rgba(0, 0, 0, 0.3));\n",
              "      fill: #FFFFFF;\n",
              "    }\n",
              "  </style>\n",
              "\n",
              "      <script>\n",
              "        const buttonEl =\n",
              "          document.querySelector('#df-70399038-941c-4744-ad0a-f5aa4876bcc0 button.colab-df-convert');\n",
              "        buttonEl.style.display =\n",
              "          google.colab.kernel.accessAllowed ? 'block' : 'none';\n",
              "\n",
              "        async function convertToInteractive(key) {\n",
              "          const element = document.querySelector('#df-70399038-941c-4744-ad0a-f5aa4876bcc0');\n",
              "          const dataTable =\n",
              "            await google.colab.kernel.invokeFunction('convertToInteractive',\n",
              "                                                     [key], {});\n",
              "          if (!dataTable) return;\n",
              "\n",
              "          const docLinkHtml = 'Like what you see? Visit the ' +\n",
              "            '<a target=\"_blank\" href=https://colab.research.google.com/notebooks/data_table.ipynb>data table notebook</a>'\n",
              "            + ' to learn more about interactive tables.';\n",
              "          element.innerHTML = '';\n",
              "          dataTable['output_type'] = 'display_data';\n",
              "          await google.colab.output.renderOutput(dataTable, element);\n",
              "          const docLink = document.createElement('div');\n",
              "          docLink.innerHTML = docLinkHtml;\n",
              "          element.appendChild(docLink);\n",
              "        }\n",
              "      </script>\n",
              "    </div>\n",
              "  </div>\n",
              "  "
            ]
          },
          "metadata": {},
          "execution_count": 55
        }
      ],
      "source": [
        "# Predecimos los valores\n",
        "y_test_sup_baños =  modelo_lineal_sup_baños.predict(X_test_sup_baños)\n",
        "# Obtenemos nuestro dataframe de métricas de performance\n",
        "performance_test_sup_baños =obtener_metricas_performance(y_test, y_test_sup_baños, 'evaluacion')\n",
        "# Mostramos en conjunto las métricas para entrenamiento y evaluación\n",
        "pd.concat([performance_train_sup_baños,performance_test_sup_baños])"
      ]
    },
    {
      "cell_type": "markdown",
      "metadata": {
        "id": "GuFw7Stil519"
      },
      "source": [
        "Realicemos lo mismo para el modelo de interacción. Primero debemos generar las variables binarias para el tipo de propiedad y las variables de interacción para poder utilizar el modelo"
      ]
    },
    {
      "cell_type": "code",
      "execution_count": 56,
      "metadata": {
        "colab": {
          "base_uri": "https://localhost:8080/",
          "height": 206
        },
        "id": "DKUTYVMCaMin",
        "outputId": "7e8c16e4-aaac-44fc-b975-92c306bd5460"
      },
      "outputs": [
        {
          "output_type": "execute_result",
          "data": {
            "text/plain": [
              "         lat    lon  rooms  bathrooms  surface_total  surface_covered  \\\n",
              "31033 -34.58 -58.42   4.00       2.00         126.00           120.00   \n",
              "11149 -34.57 -58.43   3.00       2.00          78.00            72.00   \n",
              "25214 -34.63 -58.38   4.00       2.00          88.00            88.00   \n",
              "33959 -34.60 -58.51   4.00       2.00         128.00           128.00   \n",
              "23705 -34.58 -58.48   4.00       3.00         220.00           170.00   \n",
              "\n",
              "      property_type  tipo_Casa  tipo_Departamento  interaccion_sup_casa  \\\n",
              "31033  Departamento       0.00               1.00                  0.00   \n",
              "11149  Departamento       0.00               1.00                  0.00   \n",
              "25214  Departamento       0.00               1.00                  0.00   \n",
              "33959  Departamento       0.00               1.00                  0.00   \n",
              "23705          Casa       1.00               0.00                220.00   \n",
              "\n",
              "       interaccion_sup_depto  \n",
              "31033                 126.00  \n",
              "11149                  78.00  \n",
              "25214                  88.00  \n",
              "33959                 128.00  \n",
              "23705                   0.00  "
            ],
            "text/html": [
              "\n",
              "  <div id=\"df-425b4788-4457-4b48-8b85-192946fe7fdf\">\n",
              "    <div class=\"colab-df-container\">\n",
              "      <div>\n",
              "<style scoped>\n",
              "    .dataframe tbody tr th:only-of-type {\n",
              "        vertical-align: middle;\n",
              "    }\n",
              "\n",
              "    .dataframe tbody tr th {\n",
              "        vertical-align: top;\n",
              "    }\n",
              "\n",
              "    .dataframe thead th {\n",
              "        text-align: right;\n",
              "    }\n",
              "</style>\n",
              "<table border=\"1\" class=\"dataframe\">\n",
              "  <thead>\n",
              "    <tr style=\"text-align: right;\">\n",
              "      <th></th>\n",
              "      <th>lat</th>\n",
              "      <th>lon</th>\n",
              "      <th>rooms</th>\n",
              "      <th>bathrooms</th>\n",
              "      <th>surface_total</th>\n",
              "      <th>surface_covered</th>\n",
              "      <th>property_type</th>\n",
              "      <th>tipo_Casa</th>\n",
              "      <th>tipo_Departamento</th>\n",
              "      <th>interaccion_sup_casa</th>\n",
              "      <th>interaccion_sup_depto</th>\n",
              "    </tr>\n",
              "  </thead>\n",
              "  <tbody>\n",
              "    <tr>\n",
              "      <th>31033</th>\n",
              "      <td>-34.58</td>\n",
              "      <td>-58.42</td>\n",
              "      <td>4.00</td>\n",
              "      <td>2.00</td>\n",
              "      <td>126.00</td>\n",
              "      <td>120.00</td>\n",
              "      <td>Departamento</td>\n",
              "      <td>0.00</td>\n",
              "      <td>1.00</td>\n",
              "      <td>0.00</td>\n",
              "      <td>126.00</td>\n",
              "    </tr>\n",
              "    <tr>\n",
              "      <th>11149</th>\n",
              "      <td>-34.57</td>\n",
              "      <td>-58.43</td>\n",
              "      <td>3.00</td>\n",
              "      <td>2.00</td>\n",
              "      <td>78.00</td>\n",
              "      <td>72.00</td>\n",
              "      <td>Departamento</td>\n",
              "      <td>0.00</td>\n",
              "      <td>1.00</td>\n",
              "      <td>0.00</td>\n",
              "      <td>78.00</td>\n",
              "    </tr>\n",
              "    <tr>\n",
              "      <th>25214</th>\n",
              "      <td>-34.63</td>\n",
              "      <td>-58.38</td>\n",
              "      <td>4.00</td>\n",
              "      <td>2.00</td>\n",
              "      <td>88.00</td>\n",
              "      <td>88.00</td>\n",
              "      <td>Departamento</td>\n",
              "      <td>0.00</td>\n",
              "      <td>1.00</td>\n",
              "      <td>0.00</td>\n",
              "      <td>88.00</td>\n",
              "    </tr>\n",
              "    <tr>\n",
              "      <th>33959</th>\n",
              "      <td>-34.60</td>\n",
              "      <td>-58.51</td>\n",
              "      <td>4.00</td>\n",
              "      <td>2.00</td>\n",
              "      <td>128.00</td>\n",
              "      <td>128.00</td>\n",
              "      <td>Departamento</td>\n",
              "      <td>0.00</td>\n",
              "      <td>1.00</td>\n",
              "      <td>0.00</td>\n",
              "      <td>128.00</td>\n",
              "    </tr>\n",
              "    <tr>\n",
              "      <th>23705</th>\n",
              "      <td>-34.58</td>\n",
              "      <td>-58.48</td>\n",
              "      <td>4.00</td>\n",
              "      <td>3.00</td>\n",
              "      <td>220.00</td>\n",
              "      <td>170.00</td>\n",
              "      <td>Casa</td>\n",
              "      <td>1.00</td>\n",
              "      <td>0.00</td>\n",
              "      <td>220.00</td>\n",
              "      <td>0.00</td>\n",
              "    </tr>\n",
              "  </tbody>\n",
              "</table>\n",
              "</div>\n",
              "      <button class=\"colab-df-convert\" onclick=\"convertToInteractive('df-425b4788-4457-4b48-8b85-192946fe7fdf')\"\n",
              "              title=\"Convert this dataframe to an interactive table.\"\n",
              "              style=\"display:none;\">\n",
              "        \n",
              "  <svg xmlns=\"http://www.w3.org/2000/svg\" height=\"24px\"viewBox=\"0 0 24 24\"\n",
              "       width=\"24px\">\n",
              "    <path d=\"M0 0h24v24H0V0z\" fill=\"none\"/>\n",
              "    <path d=\"M18.56 5.44l.94 2.06.94-2.06 2.06-.94-2.06-.94-.94-2.06-.94 2.06-2.06.94zm-11 1L8.5 8.5l.94-2.06 2.06-.94-2.06-.94L8.5 2.5l-.94 2.06-2.06.94zm10 10l.94 2.06.94-2.06 2.06-.94-2.06-.94-.94-2.06-.94 2.06-2.06.94z\"/><path d=\"M17.41 7.96l-1.37-1.37c-.4-.4-.92-.59-1.43-.59-.52 0-1.04.2-1.43.59L10.3 9.45l-7.72 7.72c-.78.78-.78 2.05 0 2.83L4 21.41c.39.39.9.59 1.41.59.51 0 1.02-.2 1.41-.59l7.78-7.78 2.81-2.81c.8-.78.8-2.07 0-2.86zM5.41 20L4 18.59l7.72-7.72 1.47 1.35L5.41 20z\"/>\n",
              "  </svg>\n",
              "      </button>\n",
              "      \n",
              "  <style>\n",
              "    .colab-df-container {\n",
              "      display:flex;\n",
              "      flex-wrap:wrap;\n",
              "      gap: 12px;\n",
              "    }\n",
              "\n",
              "    .colab-df-convert {\n",
              "      background-color: #E8F0FE;\n",
              "      border: none;\n",
              "      border-radius: 50%;\n",
              "      cursor: pointer;\n",
              "      display: none;\n",
              "      fill: #1967D2;\n",
              "      height: 32px;\n",
              "      padding: 0 0 0 0;\n",
              "      width: 32px;\n",
              "    }\n",
              "\n",
              "    .colab-df-convert:hover {\n",
              "      background-color: #E2EBFA;\n",
              "      box-shadow: 0px 1px 2px rgba(60, 64, 67, 0.3), 0px 1px 3px 1px rgba(60, 64, 67, 0.15);\n",
              "      fill: #174EA6;\n",
              "    }\n",
              "\n",
              "    [theme=dark] .colab-df-convert {\n",
              "      background-color: #3B4455;\n",
              "      fill: #D2E3FC;\n",
              "    }\n",
              "\n",
              "    [theme=dark] .colab-df-convert:hover {\n",
              "      background-color: #434B5C;\n",
              "      box-shadow: 0px 1px 3px 1px rgba(0, 0, 0, 0.15);\n",
              "      filter: drop-shadow(0px 1px 2px rgba(0, 0, 0, 0.3));\n",
              "      fill: #FFFFFF;\n",
              "    }\n",
              "  </style>\n",
              "\n",
              "      <script>\n",
              "        const buttonEl =\n",
              "          document.querySelector('#df-425b4788-4457-4b48-8b85-192946fe7fdf button.colab-df-convert');\n",
              "        buttonEl.style.display =\n",
              "          google.colab.kernel.accessAllowed ? 'block' : 'none';\n",
              "\n",
              "        async function convertToInteractive(key) {\n",
              "          const element = document.querySelector('#df-425b4788-4457-4b48-8b85-192946fe7fdf');\n",
              "          const dataTable =\n",
              "            await google.colab.kernel.invokeFunction('convertToInteractive',\n",
              "                                                     [key], {});\n",
              "          if (!dataTable) return;\n",
              "\n",
              "          const docLinkHtml = 'Like what you see? Visit the ' +\n",
              "            '<a target=\"_blank\" href=https://colab.research.google.com/notebooks/data_table.ipynb>data table notebook</a>'\n",
              "            + ' to learn more about interactive tables.';\n",
              "          element.innerHTML = '';\n",
              "          dataTable['output_type'] = 'display_data';\n",
              "          await google.colab.output.renderOutput(dataTable, element);\n",
              "          const docLink = document.createElement('div');\n",
              "          docLink.innerHTML = docLinkHtml;\n",
              "          element.appendChild(docLink);\n",
              "        }\n",
              "      </script>\n",
              "    </div>\n",
              "  </div>\n",
              "  "
            ]
          },
          "metadata": {},
          "execution_count": 56
        }
      ],
      "source": [
        "# Generamos las variables dummies de la variable property type (notemos que tenemos 2 columnas!)\n",
        "matriz_dummies_test = one_hot_encoder.transform(X_test[['property_type']]).toarray()\n",
        "# Generamos el dataframe con las variables dummies con las matrices y columnas\n",
        "df_dummies_test = pd.DataFrame(matriz_dummies_test, columns=nombres_dummies, index=X_test.index)\n",
        "# Agregamos la información a nuestra matriz de variables predictoras\n",
        "X_test = X_test.join(df_dummies_test)\n",
        "# Creamos las dos variables de interacción\n",
        "X_test['interaccion_sup_casa'] = X_test['tipo_Casa'] * X_test['surface_total']\n",
        "X_test['interaccion_sup_depto'] = X_test['tipo_Departamento'] * X_test['surface_total']\n",
        "# Vemos el dataframe\n",
        "X_test.head()"
      ]
    },
    {
      "cell_type": "code",
      "execution_count": 57,
      "metadata": {
        "id": "tL_8JtJeft66"
      },
      "outputs": [],
      "source": [
        "# Generamos el dataset de predictoras\n",
        "X_test_interaccion = X_test[['surface_total', 'tipo_Casa', 'tipo_Departamento', 'interaccion_sup_casa', 'interaccion_sup_depto']]"
      ]
    },
    {
      "cell_type": "code",
      "execution_count": 58,
      "metadata": {
        "colab": {
          "base_uri": "https://localhost:8080/",
          "height": 300
        },
        "id": "QVhJGoapf5nm",
        "outputId": "a19e1911-ef01-4696-f7bd-b469d260657a"
      },
      "outputs": [
        {
          "output_type": "execute_result",
          "data": {
            "text/plain": [
              "  metrica          valor   tipo_dataset\n",
              "0      R2           0.68  entrenamiento\n",
              "1     MSE 32056546297.04  entrenamiento\n",
              "2    RMSE      179043.42  entrenamiento\n",
              "3     MAE       84810.58  entrenamiento\n",
              "0      R2           0.63     evaluacion\n",
              "1     MSE 38895552028.44     evaluacion\n",
              "2    RMSE      197219.55     evaluacion\n",
              "3     MAE       86913.28     evaluacion"
            ],
            "text/html": [
              "\n",
              "  <div id=\"df-0bcaa90a-c2dd-41a8-ad7b-cc25cf9858db\">\n",
              "    <div class=\"colab-df-container\">\n",
              "      <div>\n",
              "<style scoped>\n",
              "    .dataframe tbody tr th:only-of-type {\n",
              "        vertical-align: middle;\n",
              "    }\n",
              "\n",
              "    .dataframe tbody tr th {\n",
              "        vertical-align: top;\n",
              "    }\n",
              "\n",
              "    .dataframe thead th {\n",
              "        text-align: right;\n",
              "    }\n",
              "</style>\n",
              "<table border=\"1\" class=\"dataframe\">\n",
              "  <thead>\n",
              "    <tr style=\"text-align: right;\">\n",
              "      <th></th>\n",
              "      <th>metrica</th>\n",
              "      <th>valor</th>\n",
              "      <th>tipo_dataset</th>\n",
              "    </tr>\n",
              "  </thead>\n",
              "  <tbody>\n",
              "    <tr>\n",
              "      <th>0</th>\n",
              "      <td>R2</td>\n",
              "      <td>0.68</td>\n",
              "      <td>entrenamiento</td>\n",
              "    </tr>\n",
              "    <tr>\n",
              "      <th>1</th>\n",
              "      <td>MSE</td>\n",
              "      <td>32056546297.04</td>\n",
              "      <td>entrenamiento</td>\n",
              "    </tr>\n",
              "    <tr>\n",
              "      <th>2</th>\n",
              "      <td>RMSE</td>\n",
              "      <td>179043.42</td>\n",
              "      <td>entrenamiento</td>\n",
              "    </tr>\n",
              "    <tr>\n",
              "      <th>3</th>\n",
              "      <td>MAE</td>\n",
              "      <td>84810.58</td>\n",
              "      <td>entrenamiento</td>\n",
              "    </tr>\n",
              "    <tr>\n",
              "      <th>0</th>\n",
              "      <td>R2</td>\n",
              "      <td>0.63</td>\n",
              "      <td>evaluacion</td>\n",
              "    </tr>\n",
              "    <tr>\n",
              "      <th>1</th>\n",
              "      <td>MSE</td>\n",
              "      <td>38895552028.44</td>\n",
              "      <td>evaluacion</td>\n",
              "    </tr>\n",
              "    <tr>\n",
              "      <th>2</th>\n",
              "      <td>RMSE</td>\n",
              "      <td>197219.55</td>\n",
              "      <td>evaluacion</td>\n",
              "    </tr>\n",
              "    <tr>\n",
              "      <th>3</th>\n",
              "      <td>MAE</td>\n",
              "      <td>86913.28</td>\n",
              "      <td>evaluacion</td>\n",
              "    </tr>\n",
              "  </tbody>\n",
              "</table>\n",
              "</div>\n",
              "      <button class=\"colab-df-convert\" onclick=\"convertToInteractive('df-0bcaa90a-c2dd-41a8-ad7b-cc25cf9858db')\"\n",
              "              title=\"Convert this dataframe to an interactive table.\"\n",
              "              style=\"display:none;\">\n",
              "        \n",
              "  <svg xmlns=\"http://www.w3.org/2000/svg\" height=\"24px\"viewBox=\"0 0 24 24\"\n",
              "       width=\"24px\">\n",
              "    <path d=\"M0 0h24v24H0V0z\" fill=\"none\"/>\n",
              "    <path d=\"M18.56 5.44l.94 2.06.94-2.06 2.06-.94-2.06-.94-.94-2.06-.94 2.06-2.06.94zm-11 1L8.5 8.5l.94-2.06 2.06-.94-2.06-.94L8.5 2.5l-.94 2.06-2.06.94zm10 10l.94 2.06.94-2.06 2.06-.94-2.06-.94-.94-2.06-.94 2.06-2.06.94z\"/><path d=\"M17.41 7.96l-1.37-1.37c-.4-.4-.92-.59-1.43-.59-.52 0-1.04.2-1.43.59L10.3 9.45l-7.72 7.72c-.78.78-.78 2.05 0 2.83L4 21.41c.39.39.9.59 1.41.59.51 0 1.02-.2 1.41-.59l7.78-7.78 2.81-2.81c.8-.78.8-2.07 0-2.86zM5.41 20L4 18.59l7.72-7.72 1.47 1.35L5.41 20z\"/>\n",
              "  </svg>\n",
              "      </button>\n",
              "      \n",
              "  <style>\n",
              "    .colab-df-container {\n",
              "      display:flex;\n",
              "      flex-wrap:wrap;\n",
              "      gap: 12px;\n",
              "    }\n",
              "\n",
              "    .colab-df-convert {\n",
              "      background-color: #E8F0FE;\n",
              "      border: none;\n",
              "      border-radius: 50%;\n",
              "      cursor: pointer;\n",
              "      display: none;\n",
              "      fill: #1967D2;\n",
              "      height: 32px;\n",
              "      padding: 0 0 0 0;\n",
              "      width: 32px;\n",
              "    }\n",
              "\n",
              "    .colab-df-convert:hover {\n",
              "      background-color: #E2EBFA;\n",
              "      box-shadow: 0px 1px 2px rgba(60, 64, 67, 0.3), 0px 1px 3px 1px rgba(60, 64, 67, 0.15);\n",
              "      fill: #174EA6;\n",
              "    }\n",
              "\n",
              "    [theme=dark] .colab-df-convert {\n",
              "      background-color: #3B4455;\n",
              "      fill: #D2E3FC;\n",
              "    }\n",
              "\n",
              "    [theme=dark] .colab-df-convert:hover {\n",
              "      background-color: #434B5C;\n",
              "      box-shadow: 0px 1px 3px 1px rgba(0, 0, 0, 0.15);\n",
              "      filter: drop-shadow(0px 1px 2px rgba(0, 0, 0, 0.3));\n",
              "      fill: #FFFFFF;\n",
              "    }\n",
              "  </style>\n",
              "\n",
              "      <script>\n",
              "        const buttonEl =\n",
              "          document.querySelector('#df-0bcaa90a-c2dd-41a8-ad7b-cc25cf9858db button.colab-df-convert');\n",
              "        buttonEl.style.display =\n",
              "          google.colab.kernel.accessAllowed ? 'block' : 'none';\n",
              "\n",
              "        async function convertToInteractive(key) {\n",
              "          const element = document.querySelector('#df-0bcaa90a-c2dd-41a8-ad7b-cc25cf9858db');\n",
              "          const dataTable =\n",
              "            await google.colab.kernel.invokeFunction('convertToInteractive',\n",
              "                                                     [key], {});\n",
              "          if (!dataTable) return;\n",
              "\n",
              "          const docLinkHtml = 'Like what you see? Visit the ' +\n",
              "            '<a target=\"_blank\" href=https://colab.research.google.com/notebooks/data_table.ipynb>data table notebook</a>'\n",
              "            + ' to learn more about interactive tables.';\n",
              "          element.innerHTML = '';\n",
              "          dataTable['output_type'] = 'display_data';\n",
              "          await google.colab.output.renderOutput(dataTable, element);\n",
              "          const docLink = document.createElement('div');\n",
              "          docLink.innerHTML = docLinkHtml;\n",
              "          element.appendChild(docLink);\n",
              "        }\n",
              "      </script>\n",
              "    </div>\n",
              "  </div>\n",
              "  "
            ]
          },
          "metadata": {},
          "execution_count": 58
        }
      ],
      "source": [
        "# Predecimos los valores\n",
        "y_test_interaccion = modelo_lineal_interaccion.predict(X_test_interaccion)\n",
        "# Obtenemos nuestro dataframe de métricas de performance\n",
        "performance_test_interaccion = obtener_metricas_performance(y_test, y_test_interaccion, 'evaluacion')\n",
        "# Mostramos en conjunto las métricas para entrenamiento y evaluación\n",
        "pd.concat([performance_train_interaccion, performance_test_interaccion])"
      ]
    },
    {
      "cell_type": "markdown",
      "metadata": {
        "id": "D3cBOFr_G5xi"
      },
      "source": [
        "## 5. Diagnóstico\n",
        "\n",
        "En esta sección vamos a realizar el gráfico de residuos vs valores predichos para observar si estos dos modelos cumplen o no con los supuestos del modelo lineal"
      ]
    },
    {
      "cell_type": "code",
      "execution_count": 59,
      "metadata": {
        "id": "XiHTPYGKDI3b"
      },
      "outputs": [],
      "source": [
        "# Calculamos los residuos para el modelo de superficie y baños\n",
        "residuos_sup_baños = y_train - y_train_sup_baños"
      ]
    },
    {
      "cell_type": "code",
      "execution_count": 60,
      "metadata": {
        "colab": {
          "base_uri": "https://localhost:8080/",
          "height": 640
        },
        "id": "YzwrMsttodKW",
        "outputId": "c3e316e7-168a-457b-89df-d3be691043f3"
      },
      "outputs": [
        {
          "output_type": "display_data",
          "data": {
            "text/plain": [
              "<Figure size 1000x700 with 1 Axes>"
            ],
            "image/png": "[encoded data removed]"
          },
          "metadata": {}
        }
      ],
      "source": [
        "# Realizamos el gráfico\n",
        "plt.figure(figsize=(10,7))\n",
        "plt.scatter(x=y_train_sup_baños, y=residuos_sup_baños,\n",
        "            alpha=0.6, c='royalblue', edgecolor='black')\n",
        "plt.axhline(y=0, c='black', ls='--', linewidth=2.5)\n",
        "plt.title(\"Modelo Superficie y Baños\");"
      ]
    },
    {
      "cell_type": "code",
      "execution_count": 61,
      "metadata": {
        "id": "Dw1MnWepDQqm"
      },
      "outputs": [],
      "source": [
        "# Calculamos los residuos para el modelo de interacción\n",
        "residuos_interaccion =  y_train - y_train_interaccion"
      ]
    },
    {
      "cell_type": "code",
      "execution_count": 62,
      "metadata": {
        "colab": {
          "base_uri": "https://localhost:8080/",
          "height": 640
        },
        "id": "ppdezjx-D49N",
        "outputId": "595d1841-0ca0-45d2-a178-563dbbba50a2"
      },
      "outputs": [
        {
          "output_type": "display_data",
          "data": {
            "text/plain": [
              "<Figure size 1000x700 with 1 Axes>"
            ],
            "image/png": "[encoded data removed]"
          },
          "metadata": {}
        }
      ],
      "source": [
        "# Realizamos el gráfico\n",
        "plt.figure(figsize=(10,7))\n",
        "plt.scatter(x=y_train_sup_baños, y=residuos_interaccion,\n",
        "            alpha=0.6, c='green', edgecolor='black')\n",
        "plt.axhline(y=0, c='black', ls='--', linewidth=2.5)\n",
        "plt.title(\"Modelo Interacción\");"
      ]
    }
  ],
  "metadata": {
    "colab": {
      "provenance": []
    },
    "interpreter": {
      "hash": "c15586da037acc71fa8586ddf198fb104d8beefbe40d3b778cb0e3e48c97203b"
    },
    "kernelspec": {
      "display_name": "Python 3.7.3 64-bit ('jmb_ds_projects': conda)",
      "name": "python3"
    },
    "language_info": {
      "name": "python",
      "version": ""
    }
  },
  "nbformat": 4,
  "nbformat_minor": 0
}

{
  "cells": [
    {
      "cell_type": "markdown",
      "id": "c3ea51a2",
      "metadata": {
        "id": "c3ea51a2"
      },
      "source": [
        "# Ejercicios XGBoost, LightGBM, CatBoost y NGBoost"
      ]
    },
    {
      "cell_type": "markdown",
      "id": "SNylqREBCMf2",
      "metadata": {
        "id": "SNylqREBCMf2"
      },
      "source": [
        "Recuerden activar la opción de acelerador por hardaware \"gpu\" La cual se encuentra en \"Entorno de ejecución\" y dentro de \"cambiar tipo de entorno de ejecución\"\n",
        "\n"
      ]
    },
    {
      "cell_type": "markdown",
      "id": "1a67b451",
      "metadata": {
        "id": "1a67b451"
      },
      "source": [
        "## Diseño de Modelo XGBoost para predicción de salarios\n",
        "Utilizando la librería XGBoost:\n",
        "1. Limpie el Dataset eliminando los valores nulos y conviertendo las variables categóricas mediante OneHotEncoding o similar.\n",
        "2. Divida el conjunto de datos en datos de entrenamiento y prueba.\n",
        "3. Implemente un modelo XGBoost para predecir si una persona gana más de 50K en función de las otras características y entrénelo con el set de entrenamiento.\n",
        "4. Evalúe el rendimiento del modelo usando el conjunto de prueba y la métrica ROC_AUC.\n"
      ]
    },
    {
      "cell_type": "code",
      "execution_count": 1,
      "id": "nJvvIkDZ8Ybn",
      "metadata": {
        "id": "nJvvIkDZ8Ybn"
      },
      "outputs": [
        {
          "ename": "ModuleNotFoundError",
          "evalue": "No module named 'xgboost'",
          "output_type": "error",
          "traceback": [
            "\u001b[1;31m---------------------------------------------------------------------------\u001b[0m",
            "\u001b[1;31mModuleNotFoundError\u001b[0m                       Traceback (most recent call last)",
            "Cell \u001b[1;32mIn[1], line 1\u001b[0m\n\u001b[1;32m----> 1\u001b[0m \u001b[39mimport\u001b[39;00m \u001b[39mxgboost\u001b[39;00m \u001b[39mas\u001b[39;00m \u001b[39mxgb\u001b[39;00m\n\u001b[0;32m      2\u001b[0m \u001b[39mfrom\u001b[39;00m \u001b[39msklearn\u001b[39;00m\u001b[39m.\u001b[39;00m\u001b[39mmetrics\u001b[39;00m \u001b[39mimport\u001b[39;00m roc_auc_score\n\u001b[0;32m      3\u001b[0m \u001b[39mfrom\u001b[39;00m \u001b[39msklearn\u001b[39;00m\u001b[39m.\u001b[39;00m\u001b[39mmodel_selection\u001b[39;00m \u001b[39mimport\u001b[39;00m train_test_split\n",
            "\u001b[1;31mModuleNotFoundError\u001b[0m: No module named 'xgboost'"
          ]
        }
      ],
      "source": [
        "import xgboost as xgb\n",
        "from sklearn.metrics import roc_auc_score\n",
        "from sklearn.model_selection import train_test_split\n",
        "from sklearn.preprocessing import OneHotEncoder\n",
        "import pandas as pd\n",
        "import numpy as np"
      ]
    },
    {
      "cell_type": "code",
      "execution_count": null,
      "id": "mQW0xknNCxRu",
      "metadata": {
        "id": "mQW0xknNCxRu"
      },
      "outputs": [],
      "source": [
        "# Leer el dataset\n",
        "df = pd.read_csv(\"https://datasets-humai.s3.amazonaws.com/datasets/adult_train.csv\")\n",
        "\n",
        "# Limpieza de datos y Encoding\n",
        "\n",
        "# Data Split\n",
        "\n",
        "# Convertir las matrices dispersas a arreglos NumPy\n",
        "\n",
        "# División de datos en entrenamiento y prueba"
      ]
    },
    {
      "cell_type": "code",
      "execution_count": null,
      "id": "df2e77f4",
      "metadata": {
        "colab": {
          "base_uri": "https://localhost:8080/"
        },
        "id": "df2e77f4",
        "outputId": "242f7069-8c2b-4ea7-9cf0-7f57080813a8"
      },
      "outputs": [
        {
          "name": "stdout",
          "output_type": "stream",
          "text": [
            "El resultado de ROC AUC es: 0.7675166446769692\n"
          ]
        }
      ],
      "source": [
        "# Modelo\n",
        "\n",
        "# Evaluación"
      ]
    },
    {
      "cell_type": "markdown",
      "id": "1LykjecF9UFK",
      "metadata": {
        "id": "1LykjecF9UFK"
      },
      "source": [
        "## Empleo de Lightgbm para predicciones salariales\n",
        "Implemente y entrene un modelo Lightgbm utilizando el dataset adult para predecir el salario de una persona. Evalúe el rendimiento del modelo usando el conjunto de datos de prueba y la métrica ROC_AUC."
      ]
    },
    {
      "cell_type": "code",
      "execution_count": null,
      "id": "ToRRQKpT9UZR",
      "metadata": {
        "colab": {
          "base_uri": "https://localhost:8080/"
        },
        "id": "ToRRQKpT9UZR",
        "outputId": "5ddf8c88-f430-4856-d9e3-663eaeb2ee79"
      },
      "outputs": [
        {
          "name": "stdout",
          "output_type": "stream",
          "text": [
            "[LightGBM] [Info] Number of positive: 5978, number of negative: 18151\n",
            "[LightGBM] [Warning] Auto-choosing row-wise multi-threading, the overhead of testing was 0.011096 seconds.\n",
            "You can set `force_row_wise=true` to remove the overhead.\n",
            "And if memory is not enough, you can set `force_col_wise=true`.\n",
            "[LightGBM] [Info] Total Bins 508\n",
            "[LightGBM] [Info] Number of data points in the train set: 24129, number of used features: 254\n",
            "[LightGBM] [Info] [binary:BoostFromScore]: pavg=0.247752 -> initscore=-1.110640\n",
            "[LightGBM] [Info] Start training from score -1.110640\n",
            "El resultado de ROC AUC es: 0.8684468161385512\n"
          ]
        }
      ],
      "source": [
        "import lightgbm as lgb\n",
        "\n",
        "# Crear el dataset LightGBM\n",
        "\n",
        "\n",
        "# Definir los parámetros del modelo LightGBM\n",
        "\n",
        "# Entrenar el modelo LightGBM en la GPU\n",
        "\n",
        "# Evaluación\n"
      ]
    },
    {
      "cell_type": "markdown",
      "id": "a5f12c98",
      "metadata": {
        "id": "a5f12c98"
      },
      "source": [
        "## Empleo de CatBoost para predicciones salariales\n",
        "Implemente y entrene un modelo CatBoost utilizando el dataset adult para predecir el salario de una persona. Evalúe el rendimiento del modelo usando el conjunto de datos de prueba y la métrica ROC_AUC.\n"
      ]
    },
    {
      "cell_type": "code",
      "execution_count": null,
      "id": "dgtCFv-85J4S",
      "metadata": {
        "colab": {
          "base_uri": "https://localhost:8080/"
        },
        "id": "dgtCFv-85J4S",
        "outputId": "6c7cb119-31a1-4100-f6dc-28c8ccc5e2a5"
      },
      "outputs": [
        {
          "name": "stdout",
          "output_type": "stream",
          "text": [
            "Requirement already satisfied: catboost in /usr/local/lib/python3.10/dist-packages (1.2)\n",
            "Requirement already satisfied: graphviz in /usr/local/lib/python3.10/dist-packages (from catboost) (0.20.1)\n",
            "Requirement already satisfied: matplotlib in /usr/local/lib/python3.10/dist-packages (from catboost) (3.7.1)\n",
            "Requirement already satisfied: numpy>=1.16.0 in /usr/local/lib/python3.10/dist-packages (from catboost) (1.22.4)\n",
            "Requirement already satisfied: pandas>=0.24 in /usr/local/lib/python3.10/dist-packages (from catboost) (1.5.3)\n",
            "Requirement already satisfied: scipy in /usr/local/lib/python3.10/dist-packages (from catboost) (1.10.1)\n",
            "Requirement already satisfied: plotly in /usr/local/lib/python3.10/dist-packages (from catboost) (5.13.1)\n",
            "Requirement already satisfied: six in /usr/local/lib/python3.10/dist-packages (from catboost) (1.16.0)\n",
            "Requirement already satisfied: python-dateutil>=2.8.1 in /usr/local/lib/python3.10/dist-packages (from pandas>=0.24->catboost) (2.8.2)\n",
            "Requirement already satisfied: pytz>=2020.1 in /usr/local/lib/python3.10/dist-packages (from pandas>=0.24->catboost) (2022.7.1)\n",
            "Requirement already satisfied: contourpy>=1.0.1 in /usr/local/lib/python3.10/dist-packages (from matplotlib->catboost) (1.1.0)\n",
            "Requirement already satisfied: cycler>=0.10 in /usr/local/lib/python3.10/dist-packages (from matplotlib->catboost) (0.11.0)\n",
            "Requirement already satisfied: fonttools>=4.22.0 in /usr/local/lib/python3.10/dist-packages (from matplotlib->catboost) (4.40.0)\n",
            "Requirement already satisfied: kiwisolver>=1.0.1 in /usr/local/lib/python3.10/dist-packages (from matplotlib->catboost) (1.4.4)\n",
            "Requirement already satisfied: packaging>=20.0 in /usr/local/lib/python3.10/dist-packages (from matplotlib->catboost) (23.1)\n",
            "Requirement already satisfied: pillow>=6.2.0 in /usr/local/lib/python3.10/dist-packages (from matplotlib->catboost) (8.4.0)\n",
            "Requirement already satisfied: pyparsing>=2.3.1 in /usr/local/lib/python3.10/dist-packages (from matplotlib->catboost) (3.1.0)\n",
            "Requirement already satisfied: tenacity>=6.2.0 in /usr/local/lib/python3.10/dist-packages (from plotly->catboost) (8.2.2)\n"
          ]
        }
      ],
      "source": [
        "!pip install catboost"
      ]
    },
    {
      "cell_type": "code",
      "execution_count": null,
      "id": "c8d1944b",
      "metadata": {
        "colab": {
          "base_uri": "https://localhost:8080/"
        },
        "id": "c8d1944b",
        "outputId": "3b521f3c-b6d9-43b5-bcdb-827c1b1b3688"
      },
      "outputs": [
        {
          "name": "stdout",
          "output_type": "stream",
          "text": [
            "El resultado de ROC AUC es: 0.7796044467087302\n"
          ]
        }
      ],
      "source": [
        "from catboost import CatBoostClassifier\n",
        "\n",
        "# Modelo\n",
        "\n",
        "# Evaluación\n"
      ]
    },
    {
      "cell_type": "markdown",
      "id": "pAyfiT20B9zo",
      "metadata": {
        "id": "pAyfiT20B9zo"
      },
      "source": [
        "## Empleo de NGBoost para predicciones salariales\n",
        "Implemente y entrene un modelo NGBoost utilizando el dataset adult para predecir el salario de una persona. Evalúe el rendimiento del modelo usando el conjunto de datos de prueba y la métrica ROC_AUC."
      ]
    },
    {
      "cell_type": "code",
      "execution_count": null,
      "id": "8Mpj9mkbAqpL",
      "metadata": {
        "id": "8Mpj9mkbAqpL"
      },
      "outputs": [],
      "source": [
        "!pip install ngboost"
      ]
    },
    {
      "cell_type": "code",
      "execution_count": null,
      "id": "TXULEfLqAnEz",
      "metadata": {
        "id": "TXULEfLqAnEz"
      },
      "outputs": [],
      "source": [
        "from ngboost import NGBClassifier\n",
        "from ngboost.distns import Bernoulli\n",
        "#Aclaración : Probablemente no les corra el modelo ya que el colab tiene un limite computacional. Igualmente intenten ver como se podria realizar el modelo. \n",
        "\n",
        "# Modelo\n",
        "\n",
        "\n",
        "# Evaluación\n",
        "\n"
      ]
    },
    {
      "cell_type": "markdown",
      "id": "d08ed568",
      "metadata": {
        "id": "d08ed568"
      },
      "source": [
        "## Comparación de Modelos\n",
        "Compare el rendimiento de cada modelo y determine cuál se desempeña mejor en función de la métrica ROC_AUC.\n"
      ]
    },
    {
      "cell_type": "code",
      "execution_count": null,
      "id": "8etTJn8CaNp4",
      "metadata": {
        "id": "8etTJn8CaNp4"
      },
      "outputs": [],
      "source": []
    }
  ],
  "metadata": {
    "accelerator": "GPU",
    "colab": {
      "gpuType": "T4",
      "provenance": []
    },
    "kernelspec": {
      "display_name": "Python 3",
      "name": "python3"
    },
    "language_info": {
      "codemirror_mode": {
        "name": "ipython",
        "version": 3
      },
      "file_extension": ".py",
      "mimetype": "text/x-python",
      "name": "python",
      "nbconvert_exporter": "python",
      "pygments_lexer": "ipython3",
      "version": "3.10.7"
    }
  },
  "nbformat": 4,
  "nbformat_minor": 5
}

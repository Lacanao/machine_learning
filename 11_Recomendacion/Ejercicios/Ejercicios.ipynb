<<<<<<< HEAD
{
  "cells": [
    {
      "cell_type": "code",
      "execution_count": 2,
      "metadata": {},
      "outputs": [
        {
          "ename": "SyntaxError",
          "evalue": "invalid syntax (2993464242.py, line 1)",
          "output_type": "error",
          "traceback": [
            "\u001b[1;36m  Cell \u001b[1;32mIn[2], line 1\u001b[1;36m\u001b[0m\n\u001b[1;33m    <a href=\"https://colab.research.google.com/github/institutohumai/machine_learning/blob/main/11_Recomendacion/Ejercicios/Ejercicios.ipynb\"> <img src='https://colab.research.google.com/assets/colab-badge.svg' /> </a>\u001b[0m\n\u001b[1;37m    ^\u001b[0m\n\u001b[1;31mSyntaxError\u001b[0m\u001b[1;31m:\u001b[0m invalid syntax\n"
          ]
        }
      ],
      "source": [
        "<a href=\"https://colab.research.google.com/github/institutohumai/machine_learning/blob/main/11_Recomendacion/Ejercicios/Ejercicios.ipynb\"> <img src='https://colab.research.google.com/assets/colab-badge.svg' /> </a>"
      ]
    },
=======
{ 
"cells": [
>>>>>>> a655e5cf0d65a08fbca5d273e122bd6f7896a8c9
    {
      "cell_type": "markdown",
      "metadata": {
        "id": "-gAxMjXA6pWI"
      },
      "source": [
        "## Crea una matriz de utilidad usando la biblioteca surprise\n",
        "\n",
        "\n",
        "\n",
        "    1. Importa las bibliotecas necesarias para realizar esta tarea.\n",
        "    2. Carga el dataset 'movielens-100k' a una dataframe.\n",
        "    3. Genera una matriz de utilidad con usuarios en las filas y películas en las columnas.\n",
        "    \n"
      ]
    },
    {
      "cell_type": "code",
      "execution_count": null,
      "metadata": {
        "id": "5HYhITct6OGz"
      },
      "outputs": [],
      "source": [
        "!pip install surprise"
      ]
    },
    {
      "cell_type": "code",
      "execution_count": null,
      "metadata": {
        "id": "9-SllZuC6wal"
      },
      "outputs": [],
      "source": [
        "from surprise import Dataset\n",
        "from surprise import Reader\n",
        "\n",
        "# Carga el conjunto de datos MovieLens\n",
        "# El conjunto de datos MovieLens 100K es una colección de calificaciones de películas proporcionadas por los usuarios del sitio MovieLens. Contiene 100,000 calificaciones, de 1 a 5 estrellas, de 943 usuarios sobre 1,682 películas\n",
        "data = Dataset.load_builtin('ml-100k')"
      ]
    },
    {
      "cell_type": "markdown",
      "metadata": {
        "id": "QCQic9KE6yQC"
      },
      "source": [
        "## Optimización de Parámetros con GridSearchCV\n",
        "\n",
        "    1. Defina una grilla de parámetros para probar en el modelo SVD.\n",
        "    2. Utiliza GridSearchCV para probar todas las combinaciones de parámetros.\n",
        "    3. Imprime la mejor combinación de parámetros y el correspondiente RMSE y FCP."
      ]
    },
    {
      "cell_type": "code",
      "execution_count": null,
      "metadata": {
        "id": "NWJmfC1a62X1"
      },
      "outputs": [],
      "source": [
        "from surprise import SVD\n",
        "from surprise import Dataset\n",
        "from surprise.model_selection import GridSearchCV"
      ]
    },
    {
      "cell_type": "markdown",
      "metadata": {
        "id": "rZ-pmUbs65Cr"
      },
      "source": [
        "## Implementación de Recomendación basada en Contenido con TF-IDF\n",
        "\n",
        "    1. Importa las bibliotecas necesarias y carga el dataset '20 Newsgroups'.\n",
        "    2. Implementa un sistema de recomendación basada en contenido utilizando TF-IDF y la similitud coseno.\n",
        "    3. Asegúrate de preprocesar el texto antes de usar el vectorizador TF-IDF."
      ]
    },
    {
      "cell_type": "code",
      "execution_count": null,
      "metadata": {
        "id": "1OH6f0k2LGIE"
      },
      "outputs": [],
      "source": [
        "from sklearn.datasets import fetch_20newsgroups\n",
        "from sklearn.feature_extraction.text import TfidfVectorizer\n",
        "from sklearn.metrics.pairwise import cosine_similarity\n",
        "import numpy as np\n",
        "import pandas as pd\n",
        "\n",
        "# 1. Importa las bibliotecas necesarias y carga el dataset '20 Newsgroups'.\n",
        "# El conjunto de datos '20 Newsgroups' es una recopilación de aproximadamente 20,000 documentos de noticias divididos uniformemente entre 20 diferentes categorías o grupos de noticias.\n",
        "newsgroups = fetch_20newsgroups(subset='all')\n",
        "df = pd.DataFrame({'text': newsgroups.data, 'target': newsgroups.target})"
      ]
    }
  ],
  "metadata": {
    "colab": {
      "provenance": []
    },
    "kernelspec": {
      "display_name": "Python 3",
      "name": "python3"
    },
    "language_info": {
      "codemirror_mode": {
        "name": "ipython",
        "version": 3
      },
      "file_extension": ".py",
      "mimetype": "text/x-python",
      "name": "python",
      "nbconvert_exporter": "python",
      "pygments_lexer": "ipython3",
      "version": "3.10.7"
    }
  },
  "nbformat": 4,
  "nbformat_minor": 0
}
